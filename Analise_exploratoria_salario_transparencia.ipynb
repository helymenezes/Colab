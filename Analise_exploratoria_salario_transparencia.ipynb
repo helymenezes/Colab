{
 "cells": [
  {
   "cell_type": "code",
   "execution_count": 2,
   "metadata": {},
   "outputs": [],
   "source": [
    "#%pip install pandas-profiling"
   ]
  },
  {
   "cell_type": "code",
   "execution_count": 3,
   "metadata": {},
   "outputs": [],
   "source": [
    "# Importação de Bibliotecas\n",
    "import pandas as pd\n",
    "from pandas_profiling import ProfileReport"
   ]
  },
  {
   "cell_type": "code",
   "execution_count": 4,
   "metadata": {},
   "outputs": [
    {
     "name": "stderr",
     "output_type": "stream",
     "text": [
      "/tmp/ipykernel_3714/3520337902.py:2: DtypeWarning: Columns (0) have mixed types. Specify dtype option on import or set low_memory=False.\n",
      "  data = pd.read_csv('202001_Remuneracao.csv', sep=';',encoding='latin-1')\n"
     ]
    }
   ],
   "source": [
    "#Importação  do Dataset\n",
    "data = pd.read_csv('202001_Remuneracao.csv', sep=';',encoding='latin-1')"
   ]
  },
  {
   "cell_type": "code",
   "execution_count": 5,
   "metadata": {},
   "outputs": [
    {
     "data": {
      "text/html": [
       "<div>\n",
       "<style scoped>\n",
       "    .dataframe tbody tr th:only-of-type {\n",
       "        vertical-align: middle;\n",
       "    }\n",
       "\n",
       "    .dataframe tbody tr th {\n",
       "        vertical-align: top;\n",
       "    }\n",
       "\n",
       "    .dataframe thead th {\n",
       "        text-align: right;\n",
       "    }\n",
       "</style>\n",
       "<table border=\"1\" class=\"dataframe\">\n",
       "  <thead>\n",
       "    <tr style=\"text-align: right;\">\n",
       "      <th></th>\n",
       "      <th>ANO</th>\n",
       "      <th>MES</th>\n",
       "      <th>Id_SERVIDOR_PORTAL</th>\n",
       "      <th>CPF</th>\n",
       "      <th>NOME</th>\n",
       "      <th>REMUNERAÇÃO BÁSICA BRUTA (R$)</th>\n",
       "      <th>REMUNERAÇÃO BÁSICA BRUTA (U$)</th>\n",
       "      <th>ABATE-TETO (R$)</th>\n",
       "      <th>ABATE-TETO (U$)</th>\n",
       "      <th>GRATIFICAÇÃO NATALINA (R$)</th>\n",
       "      <th>...</th>\n",
       "      <th>REMUNERAÇÃO APÓS DEDUÇÕES OBRIGATÓRIAS (R$)</th>\n",
       "      <th>REMUNERAÇÃO APÓS DEDUÇÕES OBRIGATÓRIAS (U$)</th>\n",
       "      <th>VERBAS INDENIZATÓRIAS REGISTRADAS EM SISTEMAS DE PESSOAL - CIVIL (R$)(*)</th>\n",
       "      <th>VERBAS INDENIZATÓRIAS REGISTRADAS EM SISTEMAS DE PESSOAL - CIVIL (U$)(*)</th>\n",
       "      <th>VERBAS INDENIZATÓRIAS REGISTRADAS EM SISTEMAS DE PESSOAL - MILITAR (R$)(*)</th>\n",
       "      <th>VERBAS INDENIZATÓRIAS REGISTRADAS EM SISTEMAS DE PESSOAL - MILITAR (U$)(*)</th>\n",
       "      <th>VERBAS INDENIZATÓRIAS PROGRAMA DESLIGAMENTO VOLUNTÁRIO  MP 792/2017 (R$)</th>\n",
       "      <th>VERBAS INDENIZATÓRIAS PROGRAMA DESLIGAMENTO VOLUNTÁRIO  MP 792/2017 (U$)</th>\n",
       "      <th>TOTAL DE VERBAS INDENIZATÓRIAS (R$)(*)</th>\n",
       "      <th>TOTAL DE VERBAS INDENIZATÓRIAS (U$)(*)</th>\n",
       "    </tr>\n",
       "  </thead>\n",
       "  <tbody>\n",
       "    <tr>\n",
       "      <th>0</th>\n",
       "      <td>2020</td>\n",
       "      <td>1.0</td>\n",
       "      <td>5116961.0</td>\n",
       "      <td>***.017.623-**</td>\n",
       "      <td>AARAO CARLOS LUZ MACAMBIRA</td>\n",
       "      <td>7967,90</td>\n",
       "      <td>0,00</td>\n",
       "      <td>0,00</td>\n",
       "      <td>0,00</td>\n",
       "      <td>0,00</td>\n",
       "      <td>...</td>\n",
       "      <td>8994,22</td>\n",
       "      <td>0,00</td>\n",
       "      <td>779,00</td>\n",
       "      <td>0,00</td>\n",
       "      <td>0,00</td>\n",
       "      <td>0,00</td>\n",
       "      <td>0,00</td>\n",
       "      <td>0,00</td>\n",
       "      <td>779,00</td>\n",
       "      <td>0,00</td>\n",
       "    </tr>\n",
       "  </tbody>\n",
       "</table>\n",
       "<p>1 rows × 39 columns</p>\n",
       "</div>"
      ],
      "text/plain": [
       "    ANO  MES  Id_SERVIDOR_PORTAL             CPF                        NOME  \\\n",
       "0  2020  1.0           5116961.0  ***.017.623-**  AARAO CARLOS LUZ MACAMBIRA   \n",
       "\n",
       "  REMUNERAÇÃO BÁSICA BRUTA (R$) REMUNERAÇÃO BÁSICA BRUTA (U$) ABATE-TETO (R$)  \\\n",
       "0                       7967,90                          0,00            0,00   \n",
       "\n",
       "  ABATE-TETO (U$) GRATIFICAÇÃO NATALINA (R$)  ...  \\\n",
       "0            0,00                       0,00  ...   \n",
       "\n",
       "  REMUNERAÇÃO APÓS DEDUÇÕES OBRIGATÓRIAS (R$)  \\\n",
       "0                                     8994,22   \n",
       "\n",
       "  REMUNERAÇÃO APÓS DEDUÇÕES OBRIGATÓRIAS (U$)  \\\n",
       "0                                        0,00   \n",
       "\n",
       "  VERBAS INDENIZATÓRIAS REGISTRADAS EM SISTEMAS DE PESSOAL - CIVIL (R$)(*)  \\\n",
       "0                                             779,00                         \n",
       "\n",
       "  VERBAS INDENIZATÓRIAS REGISTRADAS EM SISTEMAS DE PESSOAL - CIVIL (U$)(*)  \\\n",
       "0                                               0,00                         \n",
       "\n",
       "  VERBAS INDENIZATÓRIAS REGISTRADAS EM SISTEMAS DE PESSOAL - MILITAR (R$)(*)  \\\n",
       "0                                               0,00                           \n",
       "\n",
       "  VERBAS INDENIZATÓRIAS REGISTRADAS EM SISTEMAS DE PESSOAL - MILITAR (U$)(*)  \\\n",
       "0                                               0,00                           \n",
       "\n",
       "  VERBAS INDENIZATÓRIAS PROGRAMA DESLIGAMENTO VOLUNTÁRIO  MP 792/2017 (R$)  \\\n",
       "0                                               0,00                          \n",
       "\n",
       "  VERBAS INDENIZATÓRIAS PROGRAMA DESLIGAMENTO VOLUNTÁRIO  MP 792/2017 (U$)  \\\n",
       "0                                               0,00                          \n",
       "\n",
       "  TOTAL DE VERBAS INDENIZATÓRIAS (R$)(*)  \\\n",
       "0                                 779,00   \n",
       "\n",
       "  TOTAL DE VERBAS INDENIZATÓRIAS (U$)(*)  \n",
       "0                                   0,00  \n",
       "\n",
       "[1 rows x 39 columns]"
      ]
     },
     "execution_count": 5,
     "metadata": {},
     "output_type": "execute_result"
    }
   ],
   "source": [
    "# Visualizando as primeiras linhas\n",
    "data.head(1)"
   ]
  },
  {
   "cell_type": "code",
   "execution_count": 6,
   "metadata": {},
   "outputs": [
    {
     "data": {
      "text/plain": [
       "(554389, 39)"
      ]
     },
     "execution_count": 6,
     "metadata": {},
     "output_type": "execute_result"
    }
   ],
   "source": [
    "data.shape\n"
   ]
  },
  {
   "cell_type": "code",
   "execution_count": 7,
   "metadata": {},
   "outputs": [
    {
     "data": {
      "text/plain": [
       "ANO                                                                            object\n",
       "MES                                                                           float64\n",
       "Id_SERVIDOR_PORTAL                                                            float64\n",
       "CPF                                                                            object\n",
       "NOME                                                                           object\n",
       "REMUNERAÇÃO BÁSICA BRUTA (R$)                                                  object\n",
       "REMUNERAÇÃO BÁSICA BRUTA (U$)                                                  object\n",
       "ABATE-TETO (R$)                                                                object\n",
       "ABATE-TETO (U$)                                                                object\n",
       "GRATIFICAÇÃO NATALINA (R$)                                                     object\n",
       "GRATIFICAÇÃO NATALINA (U$)                                                     object\n",
       "ABATE-TETO DA GRATIFICAÇÃO NATALINA (R$)                                       object\n",
       "ABATE-TETO DA GRATIFICAÇÃO NATALINA (U$)                                       object\n",
       "FÉRIAS (R$)                                                                    object\n",
       "FÉRIAS (U$)                                                                    object\n",
       "OUTRAS REMUNERAÇÕES EVENTUAIS (R$)                                             object\n",
       "OUTRAS REMUNERAÇÕES EVENTUAIS (U$)                                             object\n",
       "IRRF (R$)                                                                      object\n",
       "IRRF (U$)                                                                      object\n",
       "PSS/RPGS (R$)                                                                  object\n",
       "PSS/RPGS (U$)                                                                  object\n",
       "DEMAIS DEDUÇÕES (R$)                                                           object\n",
       "DEMAIS DEDUÇÕES (U$)                                                           object\n",
       "PENSÃO MILITAR (R$)                                                            object\n",
       "PENSÃO MILITAR (U$)                                                            object\n",
       "FUNDO DE SAÚDE (R$)                                                            object\n",
       "FUNDO DE SAÚDE (U$)                                                            object\n",
       "TAXA DE OCUPAÇÃO IMÓVEL FUNCIONAL (R$)                                         object\n",
       "TAXA DE OCUPAÇÃO IMÓVEL FUNCIONAL (U$)                                         object\n",
       "REMUNERAÇÃO APÓS DEDUÇÕES OBRIGATÓRIAS (R$)                                    object\n",
       "REMUNERAÇÃO APÓS DEDUÇÕES OBRIGATÓRIAS (U$)                                    object\n",
       "VERBAS INDENIZATÓRIAS REGISTRADAS EM SISTEMAS DE PESSOAL - CIVIL (R$)(*)       object\n",
       "VERBAS INDENIZATÓRIAS REGISTRADAS EM SISTEMAS DE PESSOAL - CIVIL (U$)(*)       object\n",
       "VERBAS INDENIZATÓRIAS REGISTRADAS EM SISTEMAS DE PESSOAL - MILITAR (R$)(*)     object\n",
       "VERBAS INDENIZATÓRIAS REGISTRADAS EM SISTEMAS DE PESSOAL - MILITAR (U$)(*)     object\n",
       "VERBAS INDENIZATÓRIAS PROGRAMA DESLIGAMENTO VOLUNTÁRIO  MP 792/2017 (R$)      object\n",
       "VERBAS INDENIZATÓRIAS PROGRAMA DESLIGAMENTO VOLUNTÁRIO  MP 792/2017 (U$)      object\n",
       "TOTAL DE VERBAS INDENIZATÓRIAS (R$)(*)                                         object\n",
       "TOTAL DE VERBAS INDENIZATÓRIAS (U$)(*)                                         object\n",
       "dtype: object"
      ]
     },
     "execution_count": 7,
     "metadata": {},
     "output_type": "execute_result"
    }
   ],
   "source": [
    "data.dtypes"
   ]
  },
  {
   "cell_type": "code",
   "execution_count": 8,
   "metadata": {},
   "outputs": [],
   "source": [
    "data['REMUNERAÇÃO BÁSICA BRUTA (R$)'] = data['REMUNERAÇÃO BÁSICA BRUTA (R$)'].str.replace(',', '.').astype(float)"
   ]
  },
  {
   "cell_type": "code",
   "execution_count": 9,
   "metadata": {},
   "outputs": [
    {
     "data": {
      "text/plain": [
       "count    554388.000000\n",
       "mean      10269.553648\n",
       "std        7238.367607\n",
       "min           0.000000\n",
       "25%        4921.820000\n",
       "50%        8232.640000\n",
       "75%       13571.330000\n",
       "max       64795.840000\n",
       "Name: REMUNERAÇÃO BÁSICA BRUTA (R$), dtype: float64"
      ]
     },
     "execution_count": 9,
     "metadata": {},
     "output_type": "execute_result"
    }
   ],
   "source": [
    "data['REMUNERAÇÃO BÁSICA BRUTA (R$)'].describe()"
   ]
  },
  {
   "cell_type": "code",
   "execution_count": 10,
   "metadata": {},
   "outputs": [
    {
     "name": "stderr",
     "output_type": "stream",
     "text": [
      "Summarize dataset:  87%|████████▋ | 46/53 [00:50<00:03,  1.84it/s, Missing diagram bar]                                                                         /home/codespace/python/ciencia_dos_dados/Exercicio_cdpro/execicios/lib/python3.10/site-packages/pandas_profiling/visualisation/utils.py:73: UserWarning: Glyph 150 (\\x96) missing from current font.\n",
      "  plt.savefig(\n",
      "Summarize dataset:  89%|████████▊ | 47/53 [00:54<00:06,  1.07s/it, Missing diagram matrix]/home/codespace/python/ciencia_dos_dados/Exercicio_cdpro/execicios/lib/python3.10/site-packages/pandas_profiling/visualisation/utils.py:73: UserWarning: Glyph 150 (\\x96) missing from current font.\n",
      "  plt.savefig(\n",
      "Summarize dataset:  91%|█████████ | 48/53 [01:00<00:11,  2.25s/it, Missing diagram heatmap]/home/codespace/python/ciencia_dos_dados/Exercicio_cdpro/execicios/lib/python3.10/site-packages/seaborn/utils.py:80: UserWarning: Glyph 150 (\\x96) missing from current font.\n",
      "  fig.canvas.draw()\n",
      "/home/codespace/python/ciencia_dos_dados/Exercicio_cdpro/execicios/lib/python3.10/site-packages/pandas_profiling/visualisation/utils.py:73: UserWarning: Glyph 150 (\\x96) missing from current font.\n",
      "  plt.savefig(\n",
      "Summarize dataset: 100%|██████████| 53/53 [01:11<00:00,  1.35s/it, Completed]               \n",
      "Generate report structure: 100%|██████████| 1/1 [00:11<00:00, 11.56s/it]\n",
      "Render HTML: 100%|██████████| 1/1 [00:01<00:00,  1.72s/it]\n",
      "Export report to file: 100%|██████████| 1/1 [00:00<00:00, 206.17it/s]\n"
     ]
    }
   ],
   "source": [
    "from pandas_profiling import ProfileReport\n",
    "\n",
    "profile = ProfileReport(data, title = 'Análise Exploratória dos Dados', html={'style':{'full_width': True}})\n",
    "\n",
    "profile.to_notebook_iframe\n",
    "\n",
    "profile.to_file(output_file=\"Análise_Exploratória_dos_Dados.html\")\n"
   ]
  }
 ],
 "metadata": {
  "kernelspec": {
   "display_name": "execicios",
   "language": "python",
   "name": "python3"
  },
  "language_info": {
   "codemirror_mode": {
    "name": "ipython",
    "version": 3
   },
   "file_extension": ".py",
   "mimetype": "text/x-python",
   "name": "python",
   "nbconvert_exporter": "python",
   "pygments_lexer": "ipython3",
   "version": "3.10.4"
  },
  "orig_nbformat": 4
 },
 "nbformat": 4,
 "nbformat_minor": 2
}
