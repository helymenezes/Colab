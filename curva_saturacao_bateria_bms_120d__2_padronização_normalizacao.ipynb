{
  "nbformat": 4,
  "nbformat_minor": 0,
  "metadata": {
    "colab": {
      "provenance": [],
      "gpuType": "A100",
      "collapsed_sections": [
        "NYRqj3EIWvy5",
        "dA9P4YGrmn8f",
        "C_vY6yp7m1x1",
        "hJcjecNgtR8U",
        "yCZSIfGrtsK7",
        "su0s1nIH5TIR",
        "SLyUmyT06KDF",
        "tR6xaXEr6boK",
        "R2biRsDpbSUz"
      ],
      "include_colab_link": true
    },
    "kernelspec": {
      "name": "python3",
      "display_name": "Python 3"
    },
    "language_info": {
      "name": "python"
    }
  },
  "cells": [
    {
      "cell_type": "markdown",
      "metadata": {
        "id": "view-in-github",
        "colab_type": "text"
      },
      "source": [
        "<a href=\"https://colab.research.google.com/github/helymenezes/Colab/blob/CDPROM03/curva_saturacao_bateria_bms_120d__2_padroniza%C3%A7%C3%A3o_normalizacao.ipynb\" target=\"_parent\"><img src=\"https://colab.research.google.com/assets/colab-badge.svg\" alt=\"Open In Colab\"/></a>"
      ]
    },
    {
      "cell_type": "markdown",
      "source": [
        "# ESTUDO DE CASO BATERIA BMS _100_2\n",
        "\n",
        "USANDO REGRESSÃO LOGÍSTICA"
      ],
      "metadata": {
        "id": "NYRqj3EIWvy5"
      }
    },
    {
      "cell_type": "markdown",
      "source": [
        "\n",
        "### Algoritmo Linear. O algoritmo de Regressão Logística assume que seus dados estão em uma Distribuição Normal para valores numéricos que podem ser modelados com classificação binária."
      ],
      "metadata": {
        "id": "G_msWuA5XKAb"
      }
    },
    {
      "cell_type": "markdown",
      "source": [
        "# PROBLEMA DE NEGÓCIO:\n",
        "\n",
        "#### Problema de negócio, prever a curva de saturação da bateria."
      ],
      "metadata": {
        "id": "65MpffbaXU93"
      }
    },
    {
      "cell_type": "code",
      "source": [
        "from google.colab import drive\n",
        "drive.mount('/content/drive')"
      ],
      "metadata": {
        "id": "Kn8GHmJOXg0j",
        "colab": {
          "base_uri": "https://localhost:8080/"
        },
        "outputId": "59f329e0-368d-4cce-9f6d-a570cadbbef9"
      },
      "execution_count": 1,
      "outputs": [
        {
          "output_type": "stream",
          "name": "stdout",
          "text": [
            "Mounted at /content/drive\n"
          ]
        }
      ]
    },
    {
      "cell_type": "code",
      "source": [
        "# Importando bibliotecas que irei usar\n",
        "import pandas as pd\n",
        "import seaborn as sns\n",
        "import numpy as np\n",
        "from sklearn.model_selection import train_test_split\n",
        "from sklearn.linear_model import LinearRegression\n",
        "from sklearn.metrics import r2_score\n",
        "import matplotlib.pyplot as plt\n",
        "%matplotlib inline\n"
      ],
      "metadata": {
        "id": "Fi5jYjbIXkHe"
      },
      "execution_count": 2,
      "outputs": []
    },
    {
      "cell_type": "code",
      "source": [
        "#carregamento de dados do datalogger\n",
        "datalog_base = pd.read_csv(r'/content/drive/MyDrive/CURSO EAD/PROGRAMACAO/PYTHON/CIENICA DE DADOS/ESTUDO DE CASO/BATTERY_LIFE/ARQUIVOS.CSV/CONTROLADOR CO (120 DIAS)_cop.csv', sep = ',')\n"
      ],
      "metadata": {
        "id": "sb9jylBOXt8K"
      },
      "execution_count": 3,
      "outputs": []
    },
    {
      "cell_type": "markdown",
      "source": [
        "# Análise Exploratória dos dados\n",
        "\n",
        "\n",
        "\n",
        "\n",
        "\n",
        "\n",
        "\n"
      ],
      "metadata": {
        "id": "zbD5NeNjgpDe"
      }
    },
    {
      "cell_type": "code",
      "source": [
        "# Visualizando o dataset\n",
        "datalog_base.head(3)"
      ],
      "metadata": {
        "id": "7sbo76jAit0a",
        "colab": {
          "base_uri": "https://localhost:8080/",
          "height": 205
        },
        "outputId": "9a6d9f08-f392-4e58-c131-a92f570d6ca8"
      },
      "execution_count": 4,
      "outputs": [
        {
          "output_type": "execute_result",
          "data": {
            "text/plain": [
              "                         Days Ago  Min Battery Volt.(V)  Max Battery Volt.(V)  \\\n",
              "120.0 26.0 2.0 28.0 5.0      34.0                  21.0                   0.0   \n",
              "119.0 26.0 7.0 28.0 5.0      32.0                  47.0                   0.0   \n",
              "118.0 26.0 4.0 28.0 5.0      32.0                  89.0                   0.0   \n",
              "\n",
              "                         Max Charge Curr.(A)  Max Discharge Curr.(A)  \\\n",
              "120.0 26.0 2.0 28.0 5.0                  0.0                   944.0   \n",
              "119.0 26.0 7.0 28.0 5.0                  0.0                   899.0   \n",
              "118.0 26.0 4.0 28.0 5.0                  0.0                   901.0   \n",
              "\n",
              "                         Max Charge Power(W)  Max Discharge Power(W)  \\\n",
              "120.0 26.0 2.0 28.0 5.0                  0.0                   111.0   \n",
              "119.0 26.0 7.0 28.0 5.0                  0.0                    82.0   \n",
              "118.0 26.0 4.0 28.0 5.0                  0.0                   107.0   \n",
              "\n",
              "                         Charge Ah  Discharge Ah  Charge KWh  Discharge KWh  \n",
              "120.0 26.0 2.0 28.0 5.0        0.0           3.0        63.0            0.0  \n",
              "119.0 26.0 7.0 28.0 5.0        0.0           2.0       268.0            0.0  \n",
              "118.0 26.0 4.0 28.0 5.0        0.0           2.0       968.0            0.0  "
            ],
            "text/html": [
              "\n",
              "  <div id=\"df-b2bf4e28-ddc1-47a1-8bf0-cf569309451f\">\n",
              "    <div class=\"colab-df-container\">\n",
              "      <div>\n",
              "<style scoped>\n",
              "    .dataframe tbody tr th:only-of-type {\n",
              "        vertical-align: middle;\n",
              "    }\n",
              "\n",
              "    .dataframe tbody tr th {\n",
              "        vertical-align: top;\n",
              "    }\n",
              "\n",
              "    .dataframe thead th {\n",
              "        text-align: right;\n",
              "    }\n",
              "</style>\n",
              "<table border=\"1\" class=\"dataframe\">\n",
              "  <thead>\n",
              "    <tr style=\"text-align: right;\">\n",
              "      <th></th>\n",
              "      <th></th>\n",
              "      <th></th>\n",
              "      <th></th>\n",
              "      <th></th>\n",
              "      <th>Days Ago</th>\n",
              "      <th>Min Battery Volt.(V)</th>\n",
              "      <th>Max Battery Volt.(V)</th>\n",
              "      <th>Max Charge Curr.(A)</th>\n",
              "      <th>Max Discharge Curr.(A)</th>\n",
              "      <th>Max Charge Power(W)</th>\n",
              "      <th>Max Discharge Power(W)</th>\n",
              "      <th>Charge Ah</th>\n",
              "      <th>Discharge Ah</th>\n",
              "      <th>Charge KWh</th>\n",
              "      <th>Discharge KWh</th>\n",
              "    </tr>\n",
              "  </thead>\n",
              "  <tbody>\n",
              "    <tr>\n",
              "      <th>120.0</th>\n",
              "      <th>26.0</th>\n",
              "      <th>2.0</th>\n",
              "      <th>28.0</th>\n",
              "      <th>5.0</th>\n",
              "      <td>34.0</td>\n",
              "      <td>21.0</td>\n",
              "      <td>0.0</td>\n",
              "      <td>0.0</td>\n",
              "      <td>944.0</td>\n",
              "      <td>0.0</td>\n",
              "      <td>111.0</td>\n",
              "      <td>0.0</td>\n",
              "      <td>3.0</td>\n",
              "      <td>63.0</td>\n",
              "      <td>0.0</td>\n",
              "    </tr>\n",
              "    <tr>\n",
              "      <th>119.0</th>\n",
              "      <th>26.0</th>\n",
              "      <th>7.0</th>\n",
              "      <th>28.0</th>\n",
              "      <th>5.0</th>\n",
              "      <td>32.0</td>\n",
              "      <td>47.0</td>\n",
              "      <td>0.0</td>\n",
              "      <td>0.0</td>\n",
              "      <td>899.0</td>\n",
              "      <td>0.0</td>\n",
              "      <td>82.0</td>\n",
              "      <td>0.0</td>\n",
              "      <td>2.0</td>\n",
              "      <td>268.0</td>\n",
              "      <td>0.0</td>\n",
              "    </tr>\n",
              "    <tr>\n",
              "      <th>118.0</th>\n",
              "      <th>26.0</th>\n",
              "      <th>4.0</th>\n",
              "      <th>28.0</th>\n",
              "      <th>5.0</th>\n",
              "      <td>32.0</td>\n",
              "      <td>89.0</td>\n",
              "      <td>0.0</td>\n",
              "      <td>0.0</td>\n",
              "      <td>901.0</td>\n",
              "      <td>0.0</td>\n",
              "      <td>107.0</td>\n",
              "      <td>0.0</td>\n",
              "      <td>2.0</td>\n",
              "      <td>968.0</td>\n",
              "      <td>0.0</td>\n",
              "    </tr>\n",
              "  </tbody>\n",
              "</table>\n",
              "</div>\n",
              "      <button class=\"colab-df-convert\" onclick=\"convertToInteractive('df-b2bf4e28-ddc1-47a1-8bf0-cf569309451f')\"\n",
              "              title=\"Convert this dataframe to an interactive table.\"\n",
              "              style=\"display:none;\">\n",
              "        \n",
              "  <svg xmlns=\"http://www.w3.org/2000/svg\" height=\"24px\"viewBox=\"0 0 24 24\"\n",
              "       width=\"24px\">\n",
              "    <path d=\"M0 0h24v24H0V0z\" fill=\"none\"/>\n",
              "    <path d=\"M18.56 5.44l.94 2.06.94-2.06 2.06-.94-2.06-.94-.94-2.06-.94 2.06-2.06.94zm-11 1L8.5 8.5l.94-2.06 2.06-.94-2.06-.94L8.5 2.5l-.94 2.06-2.06.94zm10 10l.94 2.06.94-2.06 2.06-.94-2.06-.94-.94-2.06-.94 2.06-2.06.94z\"/><path d=\"M17.41 7.96l-1.37-1.37c-.4-.4-.92-.59-1.43-.59-.52 0-1.04.2-1.43.59L10.3 9.45l-7.72 7.72c-.78.78-.78 2.05 0 2.83L4 21.41c.39.39.9.59 1.41.59.51 0 1.02-.2 1.41-.59l7.78-7.78 2.81-2.81c.8-.78.8-2.07 0-2.86zM5.41 20L4 18.59l7.72-7.72 1.47 1.35L5.41 20z\"/>\n",
              "  </svg>\n",
              "      </button>\n",
              "      \n",
              "  <style>\n",
              "    .colab-df-container {\n",
              "      display:flex;\n",
              "      flex-wrap:wrap;\n",
              "      gap: 12px;\n",
              "    }\n",
              "\n",
              "    .colab-df-convert {\n",
              "      background-color: #E8F0FE;\n",
              "      border: none;\n",
              "      border-radius: 50%;\n",
              "      cursor: pointer;\n",
              "      display: none;\n",
              "      fill: #1967D2;\n",
              "      height: 32px;\n",
              "      padding: 0 0 0 0;\n",
              "      width: 32px;\n",
              "    }\n",
              "\n",
              "    .colab-df-convert:hover {\n",
              "      background-color: #E2EBFA;\n",
              "      box-shadow: 0px 1px 2px rgba(60, 64, 67, 0.3), 0px 1px 3px 1px rgba(60, 64, 67, 0.15);\n",
              "      fill: #174EA6;\n",
              "    }\n",
              "\n",
              "    [theme=dark] .colab-df-convert {\n",
              "      background-color: #3B4455;\n",
              "      fill: #D2E3FC;\n",
              "    }\n",
              "\n",
              "    [theme=dark] .colab-df-convert:hover {\n",
              "      background-color: #434B5C;\n",
              "      box-shadow: 0px 1px 3px 1px rgba(0, 0, 0, 0.15);\n",
              "      filter: drop-shadow(0px 1px 2px rgba(0, 0, 0, 0.3));\n",
              "      fill: #FFFFFF;\n",
              "    }\n",
              "  </style>\n",
              "\n",
              "      <script>\n",
              "        const buttonEl =\n",
              "          document.querySelector('#df-b2bf4e28-ddc1-47a1-8bf0-cf569309451f button.colab-df-convert');\n",
              "        buttonEl.style.display =\n",
              "          google.colab.kernel.accessAllowed ? 'block' : 'none';\n",
              "\n",
              "        async function convertToInteractive(key) {\n",
              "          const element = document.querySelector('#df-b2bf4e28-ddc1-47a1-8bf0-cf569309451f');\n",
              "          const dataTable =\n",
              "            await google.colab.kernel.invokeFunction('convertToInteractive',\n",
              "                                                     [key], {});\n",
              "          if (!dataTable) return;\n",
              "\n",
              "          const docLinkHtml = 'Like what you see? Visit the ' +\n",
              "            '<a target=\"_blank\" href=https://colab.research.google.com/notebooks/data_table.ipynb>data table notebook</a>'\n",
              "            + ' to learn more about interactive tables.';\n",
              "          element.innerHTML = '';\n",
              "          dataTable['output_type'] = 'display_data';\n",
              "          await google.colab.output.renderOutput(dataTable, element);\n",
              "          const docLink = document.createElement('div');\n",
              "          docLink.innerHTML = docLinkHtml;\n",
              "          element.appendChild(docLink);\n",
              "        }\n",
              "      </script>\n",
              "    </div>\n",
              "  </div>\n",
              "  "
            ]
          },
          "metadata": {},
          "execution_count": 4
        }
      ]
    },
    {
      "cell_type": "code",
      "source": [
        "#Realizando o tratamento do dataset com informações mais interessantes para avaliação.\n",
        "datalog_base = datalog_base.reset_index()\n",
        "datalog_base = datalog_base.set_index('level_0')\n",
        "datalog_base = datalog_base.drop(['level_1','level_2','level_3','level_4','Max Battery Volt.(V)','Max Charge Curr.(A)','Max Charge Power(W)','Charge Ah','Discharge KWh'], axis=1)\n",
        "datalog_base.head(3)\n",
        "\n"
      ],
      "metadata": {
        "id": "a48YCQ5co9g7",
        "colab": {
          "base_uri": "https://localhost:8080/",
          "height": 175
        },
        "outputId": "59d2cf1a-acb8-4bc4-db5d-7820c05c1836"
      },
      "execution_count": 5,
      "outputs": [
        {
          "output_type": "execute_result",
          "data": {
            "text/plain": [
              "         Days Ago  Min Battery Volt.(V)  Max Discharge Curr.(A)  \\\n",
              "level_0                                                           \n",
              "120.0        34.0                  21.0                   944.0   \n",
              "119.0        32.0                  47.0                   899.0   \n",
              "118.0        32.0                  89.0                   901.0   \n",
              "\n",
              "         Max Discharge Power(W)  Discharge Ah  Charge KWh  \n",
              "level_0                                                    \n",
              "120.0                     111.0           3.0        63.0  \n",
              "119.0                      82.0           2.0       268.0  \n",
              "118.0                     107.0           2.0       968.0  "
            ],
            "text/html": [
              "\n",
              "  <div id=\"df-3e2d8c6f-fb45-4c87-ba92-934799a875f3\">\n",
              "    <div class=\"colab-df-container\">\n",
              "      <div>\n",
              "<style scoped>\n",
              "    .dataframe tbody tr th:only-of-type {\n",
              "        vertical-align: middle;\n",
              "    }\n",
              "\n",
              "    .dataframe tbody tr th {\n",
              "        vertical-align: top;\n",
              "    }\n",
              "\n",
              "    .dataframe thead th {\n",
              "        text-align: right;\n",
              "    }\n",
              "</style>\n",
              "<table border=\"1\" class=\"dataframe\">\n",
              "  <thead>\n",
              "    <tr style=\"text-align: right;\">\n",
              "      <th></th>\n",
              "      <th>Days Ago</th>\n",
              "      <th>Min Battery Volt.(V)</th>\n",
              "      <th>Max Discharge Curr.(A)</th>\n",
              "      <th>Max Discharge Power(W)</th>\n",
              "      <th>Discharge Ah</th>\n",
              "      <th>Charge KWh</th>\n",
              "    </tr>\n",
              "    <tr>\n",
              "      <th>level_0</th>\n",
              "      <th></th>\n",
              "      <th></th>\n",
              "      <th></th>\n",
              "      <th></th>\n",
              "      <th></th>\n",
              "      <th></th>\n",
              "    </tr>\n",
              "  </thead>\n",
              "  <tbody>\n",
              "    <tr>\n",
              "      <th>120.0</th>\n",
              "      <td>34.0</td>\n",
              "      <td>21.0</td>\n",
              "      <td>944.0</td>\n",
              "      <td>111.0</td>\n",
              "      <td>3.0</td>\n",
              "      <td>63.0</td>\n",
              "    </tr>\n",
              "    <tr>\n",
              "      <th>119.0</th>\n",
              "      <td>32.0</td>\n",
              "      <td>47.0</td>\n",
              "      <td>899.0</td>\n",
              "      <td>82.0</td>\n",
              "      <td>2.0</td>\n",
              "      <td>268.0</td>\n",
              "    </tr>\n",
              "    <tr>\n",
              "      <th>118.0</th>\n",
              "      <td>32.0</td>\n",
              "      <td>89.0</td>\n",
              "      <td>901.0</td>\n",
              "      <td>107.0</td>\n",
              "      <td>2.0</td>\n",
              "      <td>968.0</td>\n",
              "    </tr>\n",
              "  </tbody>\n",
              "</table>\n",
              "</div>\n",
              "      <button class=\"colab-df-convert\" onclick=\"convertToInteractive('df-3e2d8c6f-fb45-4c87-ba92-934799a875f3')\"\n",
              "              title=\"Convert this dataframe to an interactive table.\"\n",
              "              style=\"display:none;\">\n",
              "        \n",
              "  <svg xmlns=\"http://www.w3.org/2000/svg\" height=\"24px\"viewBox=\"0 0 24 24\"\n",
              "       width=\"24px\">\n",
              "    <path d=\"M0 0h24v24H0V0z\" fill=\"none\"/>\n",
              "    <path d=\"M18.56 5.44l.94 2.06.94-2.06 2.06-.94-2.06-.94-.94-2.06-.94 2.06-2.06.94zm-11 1L8.5 8.5l.94-2.06 2.06-.94-2.06-.94L8.5 2.5l-.94 2.06-2.06.94zm10 10l.94 2.06.94-2.06 2.06-.94-2.06-.94-.94-2.06-.94 2.06-2.06.94z\"/><path d=\"M17.41 7.96l-1.37-1.37c-.4-.4-.92-.59-1.43-.59-.52 0-1.04.2-1.43.59L10.3 9.45l-7.72 7.72c-.78.78-.78 2.05 0 2.83L4 21.41c.39.39.9.59 1.41.59.51 0 1.02-.2 1.41-.59l7.78-7.78 2.81-2.81c.8-.78.8-2.07 0-2.86zM5.41 20L4 18.59l7.72-7.72 1.47 1.35L5.41 20z\"/>\n",
              "  </svg>\n",
              "      </button>\n",
              "      \n",
              "  <style>\n",
              "    .colab-df-container {\n",
              "      display:flex;\n",
              "      flex-wrap:wrap;\n",
              "      gap: 12px;\n",
              "    }\n",
              "\n",
              "    .colab-df-convert {\n",
              "      background-color: #E8F0FE;\n",
              "      border: none;\n",
              "      border-radius: 50%;\n",
              "      cursor: pointer;\n",
              "      display: none;\n",
              "      fill: #1967D2;\n",
              "      height: 32px;\n",
              "      padding: 0 0 0 0;\n",
              "      width: 32px;\n",
              "    }\n",
              "\n",
              "    .colab-df-convert:hover {\n",
              "      background-color: #E2EBFA;\n",
              "      box-shadow: 0px 1px 2px rgba(60, 64, 67, 0.3), 0px 1px 3px 1px rgba(60, 64, 67, 0.15);\n",
              "      fill: #174EA6;\n",
              "    }\n",
              "\n",
              "    [theme=dark] .colab-df-convert {\n",
              "      background-color: #3B4455;\n",
              "      fill: #D2E3FC;\n",
              "    }\n",
              "\n",
              "    [theme=dark] .colab-df-convert:hover {\n",
              "      background-color: #434B5C;\n",
              "      box-shadow: 0px 1px 3px 1px rgba(0, 0, 0, 0.15);\n",
              "      filter: drop-shadow(0px 1px 2px rgba(0, 0, 0, 0.3));\n",
              "      fill: #FFFFFF;\n",
              "    }\n",
              "  </style>\n",
              "\n",
              "      <script>\n",
              "        const buttonEl =\n",
              "          document.querySelector('#df-3e2d8c6f-fb45-4c87-ba92-934799a875f3 button.colab-df-convert');\n",
              "        buttonEl.style.display =\n",
              "          google.colab.kernel.accessAllowed ? 'block' : 'none';\n",
              "\n",
              "        async function convertToInteractive(key) {\n",
              "          const element = document.querySelector('#df-3e2d8c6f-fb45-4c87-ba92-934799a875f3');\n",
              "          const dataTable =\n",
              "            await google.colab.kernel.invokeFunction('convertToInteractive',\n",
              "                                                     [key], {});\n",
              "          if (!dataTable) return;\n",
              "\n",
              "          const docLinkHtml = 'Like what you see? Visit the ' +\n",
              "            '<a target=\"_blank\" href=https://colab.research.google.com/notebooks/data_table.ipynb>data table notebook</a>'\n",
              "            + ' to learn more about interactive tables.';\n",
              "          element.innerHTML = '';\n",
              "          dataTable['output_type'] = 'display_data';\n",
              "          await google.colab.output.renderOutput(dataTable, element);\n",
              "          const docLink = document.createElement('div');\n",
              "          docLink.innerHTML = docLinkHtml;\n",
              "          element.appendChild(docLink);\n",
              "        }\n",
              "      </script>\n",
              "    </div>\n",
              "  </div>\n",
              "  "
            ]
          },
          "metadata": {},
          "execution_count": 5
        }
      ]
    },
    {
      "cell_type": "code",
      "source": [
        "# verificar a estrutura da tabela quantidade de colunas e linhas. (linhas, colunas)\n",
        "datalog_base.shape"
      ],
      "metadata": {
        "colab": {
          "base_uri": "https://localhost:8080/"
        },
        "id": "ziXg7KMSlAao",
        "outputId": "72da2118-3f5d-49b5-dc18-aee23ef60d76"
      },
      "execution_count": 6,
      "outputs": [
        {
          "output_type": "execute_result",
          "data": {
            "text/plain": [
              "(121, 6)"
            ]
          },
          "metadata": {},
          "execution_count": 6
        }
      ]
    },
    {
      "cell_type": "code",
      "source": [
        "# Verificar valores ausentes (Missing)\n",
        "datalog_base.isnull().sum() # avaliar valores nulos e soma-lo \" indenficar informações nulos para excluir.(Valores missing ou valores ausentes)\""
      ],
      "metadata": {
        "colab": {
          "base_uri": "https://localhost:8080/"
        },
        "id": "36Xzby0wAKuq",
        "outputId": "9741dadf-7729-4fd8-d7e4-3e740124f63e"
      },
      "execution_count": 7,
      "outputs": [
        {
          "output_type": "execute_result",
          "data": {
            "text/plain": [
              "Days Ago                  62\n",
              "Min Battery Volt.(V)      62\n",
              "Max Discharge Curr.(A)    62\n",
              "Max Discharge Power(W)    62\n",
              "Discharge Ah              62\n",
              "Charge KWh                62\n",
              "dtype: int64"
            ]
          },
          "metadata": {},
          "execution_count": 7
        }
      ]
    },
    {
      "cell_type": "code",
      "source": [
        "#  \"Eliminá-los\" (neste caso não existe valores ausentes conforme informado na análise exploratória de dados, então não é preciso elimina-los)\n",
        "datalog_base.dropna(inplace=True)\n",
        "datalog_base.shape"
      ],
      "metadata": {
        "colab": {
          "base_uri": "https://localhost:8080/"
        },
        "id": "I3C-irRvPSZ2",
        "outputId": "24ca7922-35cc-4585-844e-4e3989567386"
      },
      "execution_count": 8,
      "outputs": [
        {
          "output_type": "execute_result",
          "data": {
            "text/plain": [
              "(59, 6)"
            ]
          },
          "metadata": {},
          "execution_count": 8
        }
      ]
    },
    {
      "cell_type": "code",
      "source": [
        "# Buscar informações e parâmetros dos dados (dtype)\n",
        "datalog_base.info()"
      ],
      "metadata": {
        "colab": {
          "base_uri": "https://localhost:8080/"
        },
        "id": "pX_7EI-yaXaJ",
        "outputId": "ef8cf3cd-ae22-4241-8ab4-942487520f2f"
      },
      "execution_count": 9,
      "outputs": [
        {
          "output_type": "stream",
          "name": "stdout",
          "text": [
            "<class 'pandas.core.frame.DataFrame'>\n",
            "Float64Index: 59 entries, 120.0 to 62.0\n",
            "Data columns (total 6 columns):\n",
            " #   Column                  Non-Null Count  Dtype  \n",
            "---  ------                  --------------  -----  \n",
            " 0   Days Ago                59 non-null     float64\n",
            " 1   Min Battery Volt.(V)    59 non-null     float64\n",
            " 2   Max Discharge Curr.(A)  59 non-null     float64\n",
            " 3   Max Discharge Power(W)  59 non-null     float64\n",
            " 4   Discharge Ah            59 non-null     float64\n",
            " 5   Charge KWh              59 non-null     float64\n",
            "dtypes: float64(6)\n",
            "memory usage: 3.2 KB\n"
          ]
        }
      ]
    },
    {
      "cell_type": "code",
      "source": [
        "datalog_base.nunique() #Nunique() apresenta o numero todad de VALORES UNICOS em cada coluna do dataframe."
      ],
      "metadata": {
        "colab": {
          "base_uri": "https://localhost:8080/"
        },
        "id": "0j0YJDtZlVTu",
        "outputId": "2b67257a-e557-438c-bd9f-fd37bb53b40c"
      },
      "execution_count": 10,
      "outputs": [
        {
          "output_type": "execute_result",
          "data": {
            "text/plain": [
              "Days Ago                  27\n",
              "Min Battery Volt.(V)      40\n",
              "Max Discharge Curr.(A)    58\n",
              "Max Discharge Power(W)    49\n",
              "Discharge Ah               5\n",
              "Charge KWh                56\n",
              "dtype: int64"
            ]
          },
          "metadata": {},
          "execution_count": 10
        }
      ]
    },
    {
      "cell_type": "code",
      "source": [
        "datalog_base.describe()# realização de informações estatítica para comparação média com a mediana.\n"
      ],
      "metadata": {
        "id": "Bid-UKkgYSJT",
        "colab": {
          "base_uri": "https://localhost:8080/",
          "height": 300
        },
        "outputId": "a3c5db83-cc0f-4ddb-8416-e04a4dbd5cdf"
      },
      "execution_count": 11,
      "outputs": [
        {
          "output_type": "execute_result",
          "data": {
            "text/plain": [
              "        Days Ago  Min Battery Volt.(V)  Max Discharge Curr.(A)  \\\n",
              "count  59.000000             59.000000               59.000000   \n",
              "mean   27.983051             51.118644              786.881356   \n",
              "std    10.849267             28.656157              299.664933   \n",
              "min     0.000000              4.000000                1.000000   \n",
              "25%    24.500000             26.000000              689.000000   \n",
              "50%    32.000000             53.000000              887.000000   \n",
              "75%    35.000000             77.000000              995.000000   \n",
              "max    44.000000             95.000000             1238.000000   \n",
              "\n",
              "       Max Discharge Power(W)  Discharge Ah  Charge KWh  \n",
              "count               59.000000     59.000000   59.000000  \n",
              "mean                89.237288      1.983051  399.898305  \n",
              "std                 44.740762      1.224626  321.974977  \n",
              "min                  0.000000      0.000000    0.000000  \n",
              "25%                 58.000000      1.000000   93.500000  \n",
              "50%                103.000000      2.000000  372.000000  \n",
              "75%                122.000000      3.000000  692.000000  \n",
              "max                154.000000      4.000000  977.000000  "
            ],
            "text/html": [
              "\n",
              "  <div id=\"df-7ecb92e7-2908-4879-bb42-567424229328\">\n",
              "    <div class=\"colab-df-container\">\n",
              "      <div>\n",
              "<style scoped>\n",
              "    .dataframe tbody tr th:only-of-type {\n",
              "        vertical-align: middle;\n",
              "    }\n",
              "\n",
              "    .dataframe tbody tr th {\n",
              "        vertical-align: top;\n",
              "    }\n",
              "\n",
              "    .dataframe thead th {\n",
              "        text-align: right;\n",
              "    }\n",
              "</style>\n",
              "<table border=\"1\" class=\"dataframe\">\n",
              "  <thead>\n",
              "    <tr style=\"text-align: right;\">\n",
              "      <th></th>\n",
              "      <th>Days Ago</th>\n",
              "      <th>Min Battery Volt.(V)</th>\n",
              "      <th>Max Discharge Curr.(A)</th>\n",
              "      <th>Max Discharge Power(W)</th>\n",
              "      <th>Discharge Ah</th>\n",
              "      <th>Charge KWh</th>\n",
              "    </tr>\n",
              "  </thead>\n",
              "  <tbody>\n",
              "    <tr>\n",
              "      <th>count</th>\n",
              "      <td>59.000000</td>\n",
              "      <td>59.000000</td>\n",
              "      <td>59.000000</td>\n",
              "      <td>59.000000</td>\n",
              "      <td>59.000000</td>\n",
              "      <td>59.000000</td>\n",
              "    </tr>\n",
              "    <tr>\n",
              "      <th>mean</th>\n",
              "      <td>27.983051</td>\n",
              "      <td>51.118644</td>\n",
              "      <td>786.881356</td>\n",
              "      <td>89.237288</td>\n",
              "      <td>1.983051</td>\n",
              "      <td>399.898305</td>\n",
              "    </tr>\n",
              "    <tr>\n",
              "      <th>std</th>\n",
              "      <td>10.849267</td>\n",
              "      <td>28.656157</td>\n",
              "      <td>299.664933</td>\n",
              "      <td>44.740762</td>\n",
              "      <td>1.224626</td>\n",
              "      <td>321.974977</td>\n",
              "    </tr>\n",
              "    <tr>\n",
              "      <th>min</th>\n",
              "      <td>0.000000</td>\n",
              "      <td>4.000000</td>\n",
              "      <td>1.000000</td>\n",
              "      <td>0.000000</td>\n",
              "      <td>0.000000</td>\n",
              "      <td>0.000000</td>\n",
              "    </tr>\n",
              "    <tr>\n",
              "      <th>25%</th>\n",
              "      <td>24.500000</td>\n",
              "      <td>26.000000</td>\n",
              "      <td>689.000000</td>\n",
              "      <td>58.000000</td>\n",
              "      <td>1.000000</td>\n",
              "      <td>93.500000</td>\n",
              "    </tr>\n",
              "    <tr>\n",
              "      <th>50%</th>\n",
              "      <td>32.000000</td>\n",
              "      <td>53.000000</td>\n",
              "      <td>887.000000</td>\n",
              "      <td>103.000000</td>\n",
              "      <td>2.000000</td>\n",
              "      <td>372.000000</td>\n",
              "    </tr>\n",
              "    <tr>\n",
              "      <th>75%</th>\n",
              "      <td>35.000000</td>\n",
              "      <td>77.000000</td>\n",
              "      <td>995.000000</td>\n",
              "      <td>122.000000</td>\n",
              "      <td>3.000000</td>\n",
              "      <td>692.000000</td>\n",
              "    </tr>\n",
              "    <tr>\n",
              "      <th>max</th>\n",
              "      <td>44.000000</td>\n",
              "      <td>95.000000</td>\n",
              "      <td>1238.000000</td>\n",
              "      <td>154.000000</td>\n",
              "      <td>4.000000</td>\n",
              "      <td>977.000000</td>\n",
              "    </tr>\n",
              "  </tbody>\n",
              "</table>\n",
              "</div>\n",
              "      <button class=\"colab-df-convert\" onclick=\"convertToInteractive('df-7ecb92e7-2908-4879-bb42-567424229328')\"\n",
              "              title=\"Convert this dataframe to an interactive table.\"\n",
              "              style=\"display:none;\">\n",
              "        \n",
              "  <svg xmlns=\"http://www.w3.org/2000/svg\" height=\"24px\"viewBox=\"0 0 24 24\"\n",
              "       width=\"24px\">\n",
              "    <path d=\"M0 0h24v24H0V0z\" fill=\"none\"/>\n",
              "    <path d=\"M18.56 5.44l.94 2.06.94-2.06 2.06-.94-2.06-.94-.94-2.06-.94 2.06-2.06.94zm-11 1L8.5 8.5l.94-2.06 2.06-.94-2.06-.94L8.5 2.5l-.94 2.06-2.06.94zm10 10l.94 2.06.94-2.06 2.06-.94-2.06-.94-.94-2.06-.94 2.06-2.06.94z\"/><path d=\"M17.41 7.96l-1.37-1.37c-.4-.4-.92-.59-1.43-.59-.52 0-1.04.2-1.43.59L10.3 9.45l-7.72 7.72c-.78.78-.78 2.05 0 2.83L4 21.41c.39.39.9.59 1.41.59.51 0 1.02-.2 1.41-.59l7.78-7.78 2.81-2.81c.8-.78.8-2.07 0-2.86zM5.41 20L4 18.59l7.72-7.72 1.47 1.35L5.41 20z\"/>\n",
              "  </svg>\n",
              "      </button>\n",
              "      \n",
              "  <style>\n",
              "    .colab-df-container {\n",
              "      display:flex;\n",
              "      flex-wrap:wrap;\n",
              "      gap: 12px;\n",
              "    }\n",
              "\n",
              "    .colab-df-convert {\n",
              "      background-color: #E8F0FE;\n",
              "      border: none;\n",
              "      border-radius: 50%;\n",
              "      cursor: pointer;\n",
              "      display: none;\n",
              "      fill: #1967D2;\n",
              "      height: 32px;\n",
              "      padding: 0 0 0 0;\n",
              "      width: 32px;\n",
              "    }\n",
              "\n",
              "    .colab-df-convert:hover {\n",
              "      background-color: #E2EBFA;\n",
              "      box-shadow: 0px 1px 2px rgba(60, 64, 67, 0.3), 0px 1px 3px 1px rgba(60, 64, 67, 0.15);\n",
              "      fill: #174EA6;\n",
              "    }\n",
              "\n",
              "    [theme=dark] .colab-df-convert {\n",
              "      background-color: #3B4455;\n",
              "      fill: #D2E3FC;\n",
              "    }\n",
              "\n",
              "    [theme=dark] .colab-df-convert:hover {\n",
              "      background-color: #434B5C;\n",
              "      box-shadow: 0px 1px 3px 1px rgba(0, 0, 0, 0.15);\n",
              "      filter: drop-shadow(0px 1px 2px rgba(0, 0, 0, 0.3));\n",
              "      fill: #FFFFFF;\n",
              "    }\n",
              "  </style>\n",
              "\n",
              "      <script>\n",
              "        const buttonEl =\n",
              "          document.querySelector('#df-7ecb92e7-2908-4879-bb42-567424229328 button.colab-df-convert');\n",
              "        buttonEl.style.display =\n",
              "          google.colab.kernel.accessAllowed ? 'block' : 'none';\n",
              "\n",
              "        async function convertToInteractive(key) {\n",
              "          const element = document.querySelector('#df-7ecb92e7-2908-4879-bb42-567424229328');\n",
              "          const dataTable =\n",
              "            await google.colab.kernel.invokeFunction('convertToInteractive',\n",
              "                                                     [key], {});\n",
              "          if (!dataTable) return;\n",
              "\n",
              "          const docLinkHtml = 'Like what you see? Visit the ' +\n",
              "            '<a target=\"_blank\" href=https://colab.research.google.com/notebooks/data_table.ipynb>data table notebook</a>'\n",
              "            + ' to learn more about interactive tables.';\n",
              "          element.innerHTML = '';\n",
              "          dataTable['output_type'] = 'display_data';\n",
              "          await google.colab.output.renderOutput(dataTable, element);\n",
              "          const docLink = document.createElement('div');\n",
              "          docLink.innerHTML = docLinkHtml;\n",
              "          element.appendChild(docLink);\n",
              "        }\n",
              "      </script>\n",
              "    </div>\n",
              "  </div>\n",
              "  "
            ]
          },
          "metadata": {},
          "execution_count": 11
        }
      ]
    },
    {
      "cell_type": "code",
      "source": [
        "datalog_base.duplicated().sum # é a soma total de dados duplicados."
      ],
      "metadata": {
        "id": "aOhAz4WpkIzI"
      },
      "execution_count": null,
      "outputs": []
    },
    {
      "cell_type": "code",
      "source": [
        "data = datalog_base.drop_duplicates(subset=['Max Discharge Curr.(A)','Charge KWh'])\n",
        "#data['Charge KWh'].duplicated().sum\n",
        "data.shape"
      ],
      "metadata": {
        "id": "hhkH_utAigSV",
        "colab": {
          "base_uri": "https://localhost:8080/"
        },
        "outputId": "69243c46-0c72-4878-babc-629c8e93b99e"
      },
      "execution_count": 13,
      "outputs": [
        {
          "output_type": "execute_result",
          "data": {
            "text/plain": [
              "(59, 6)"
            ]
          },
          "metadata": {},
          "execution_count": 13
        }
      ]
    },
    {
      "cell_type": "code",
      "source": [
        "data['Charge KWh'].value_counts()# Mostra quais valores são unicos."
      ],
      "metadata": {
        "id": "lUj-ouZXmLet"
      },
      "execution_count": null,
      "outputs": []
    },
    {
      "cell_type": "code",
      "source": [
        "data.astype('float') # Convertendo para valores int64 para float"
      ],
      "metadata": {
        "id": "g_abE6bDHbJi"
      },
      "execution_count": null,
      "outputs": []
    },
    {
      "cell_type": "code",
      "source": [
        "#Calcular a correlação\n",
        "datalog_corr = data.corr()\n",
        "datalog_corr"
      ],
      "metadata": {
        "id": "C6WlDtmIpgnT",
        "colab": {
          "base_uri": "https://localhost:8080/",
          "height": 237
        },
        "outputId": "d3bffa71-69e8-4169-e426-987ea3224b9f"
      },
      "execution_count": 15,
      "outputs": [
        {
          "output_type": "execute_result",
          "data": {
            "text/plain": [
              "                        Days Ago  Min Battery Volt.(V)  \\\n",
              "Days Ago                1.000000              0.003778   \n",
              "Min Battery Volt.(V)    0.003778              1.000000   \n",
              "Max Discharge Curr.(A)  0.998783              0.033457   \n",
              "Max Discharge Power(W)  0.733346              0.002049   \n",
              "Discharge Ah            0.672177              0.015289   \n",
              "Charge KWh              0.217403             -0.159282   \n",
              "\n",
              "                        Max Discharge Curr.(A)  Max Discharge Power(W)  \\\n",
              "Days Ago                              0.998783                0.733346   \n",
              "Min Battery Volt.(V)                  0.033457                0.002049   \n",
              "Max Discharge Curr.(A)                1.000000                0.745161   \n",
              "Max Discharge Power(W)                0.745161                1.000000   \n",
              "Discharge Ah                          0.685558                0.968022   \n",
              "Charge KWh                            0.215490                0.289614   \n",
              "\n",
              "                        Discharge Ah  Charge KWh  \n",
              "Days Ago                    0.672177    0.217403  \n",
              "Min Battery Volt.(V)        0.015289   -0.159282  \n",
              "Max Discharge Curr.(A)      0.685558    0.215490  \n",
              "Max Discharge Power(W)      0.968022    0.289614  \n",
              "Discharge Ah                1.000000    0.086924  \n",
              "Charge KWh                  0.086924    1.000000  "
            ],
            "text/html": [
              "\n",
              "  <div id=\"df-bb7025bf-6009-4901-94b7-3d6127ffa0b5\">\n",
              "    <div class=\"colab-df-container\">\n",
              "      <div>\n",
              "<style scoped>\n",
              "    .dataframe tbody tr th:only-of-type {\n",
              "        vertical-align: middle;\n",
              "    }\n",
              "\n",
              "    .dataframe tbody tr th {\n",
              "        vertical-align: top;\n",
              "    }\n",
              "\n",
              "    .dataframe thead th {\n",
              "        text-align: right;\n",
              "    }\n",
              "</style>\n",
              "<table border=\"1\" class=\"dataframe\">\n",
              "  <thead>\n",
              "    <tr style=\"text-align: right;\">\n",
              "      <th></th>\n",
              "      <th>Days Ago</th>\n",
              "      <th>Min Battery Volt.(V)</th>\n",
              "      <th>Max Discharge Curr.(A)</th>\n",
              "      <th>Max Discharge Power(W)</th>\n",
              "      <th>Discharge Ah</th>\n",
              "      <th>Charge KWh</th>\n",
              "    </tr>\n",
              "  </thead>\n",
              "  <tbody>\n",
              "    <tr>\n",
              "      <th>Days Ago</th>\n",
              "      <td>1.000000</td>\n",
              "      <td>0.003778</td>\n",
              "      <td>0.998783</td>\n",
              "      <td>0.733346</td>\n",
              "      <td>0.672177</td>\n",
              "      <td>0.217403</td>\n",
              "    </tr>\n",
              "    <tr>\n",
              "      <th>Min Battery Volt.(V)</th>\n",
              "      <td>0.003778</td>\n",
              "      <td>1.000000</td>\n",
              "      <td>0.033457</td>\n",
              "      <td>0.002049</td>\n",
              "      <td>0.015289</td>\n",
              "      <td>-0.159282</td>\n",
              "    </tr>\n",
              "    <tr>\n",
              "      <th>Max Discharge Curr.(A)</th>\n",
              "      <td>0.998783</td>\n",
              "      <td>0.033457</td>\n",
              "      <td>1.000000</td>\n",
              "      <td>0.745161</td>\n",
              "      <td>0.685558</td>\n",
              "      <td>0.215490</td>\n",
              "    </tr>\n",
              "    <tr>\n",
              "      <th>Max Discharge Power(W)</th>\n",
              "      <td>0.733346</td>\n",
              "      <td>0.002049</td>\n",
              "      <td>0.745161</td>\n",
              "      <td>1.000000</td>\n",
              "      <td>0.968022</td>\n",
              "      <td>0.289614</td>\n",
              "    </tr>\n",
              "    <tr>\n",
              "      <th>Discharge Ah</th>\n",
              "      <td>0.672177</td>\n",
              "      <td>0.015289</td>\n",
              "      <td>0.685558</td>\n",
              "      <td>0.968022</td>\n",
              "      <td>1.000000</td>\n",
              "      <td>0.086924</td>\n",
              "    </tr>\n",
              "    <tr>\n",
              "      <th>Charge KWh</th>\n",
              "      <td>0.217403</td>\n",
              "      <td>-0.159282</td>\n",
              "      <td>0.215490</td>\n",
              "      <td>0.289614</td>\n",
              "      <td>0.086924</td>\n",
              "      <td>1.000000</td>\n",
              "    </tr>\n",
              "  </tbody>\n",
              "</table>\n",
              "</div>\n",
              "      <button class=\"colab-df-convert\" onclick=\"convertToInteractive('df-bb7025bf-6009-4901-94b7-3d6127ffa0b5')\"\n",
              "              title=\"Convert this dataframe to an interactive table.\"\n",
              "              style=\"display:none;\">\n",
              "        \n",
              "  <svg xmlns=\"http://www.w3.org/2000/svg\" height=\"24px\"viewBox=\"0 0 24 24\"\n",
              "       width=\"24px\">\n",
              "    <path d=\"M0 0h24v24H0V0z\" fill=\"none\"/>\n",
              "    <path d=\"M18.56 5.44l.94 2.06.94-2.06 2.06-.94-2.06-.94-.94-2.06-.94 2.06-2.06.94zm-11 1L8.5 8.5l.94-2.06 2.06-.94-2.06-.94L8.5 2.5l-.94 2.06-2.06.94zm10 10l.94 2.06.94-2.06 2.06-.94-2.06-.94-.94-2.06-.94 2.06-2.06.94z\"/><path d=\"M17.41 7.96l-1.37-1.37c-.4-.4-.92-.59-1.43-.59-.52 0-1.04.2-1.43.59L10.3 9.45l-7.72 7.72c-.78.78-.78 2.05 0 2.83L4 21.41c.39.39.9.59 1.41.59.51 0 1.02-.2 1.41-.59l7.78-7.78 2.81-2.81c.8-.78.8-2.07 0-2.86zM5.41 20L4 18.59l7.72-7.72 1.47 1.35L5.41 20z\"/>\n",
              "  </svg>\n",
              "      </button>\n",
              "      \n",
              "  <style>\n",
              "    .colab-df-container {\n",
              "      display:flex;\n",
              "      flex-wrap:wrap;\n",
              "      gap: 12px;\n",
              "    }\n",
              "\n",
              "    .colab-df-convert {\n",
              "      background-color: #E8F0FE;\n",
              "      border: none;\n",
              "      border-radius: 50%;\n",
              "      cursor: pointer;\n",
              "      display: none;\n",
              "      fill: #1967D2;\n",
              "      height: 32px;\n",
              "      padding: 0 0 0 0;\n",
              "      width: 32px;\n",
              "    }\n",
              "\n",
              "    .colab-df-convert:hover {\n",
              "      background-color: #E2EBFA;\n",
              "      box-shadow: 0px 1px 2px rgba(60, 64, 67, 0.3), 0px 1px 3px 1px rgba(60, 64, 67, 0.15);\n",
              "      fill: #174EA6;\n",
              "    }\n",
              "\n",
              "    [theme=dark] .colab-df-convert {\n",
              "      background-color: #3B4455;\n",
              "      fill: #D2E3FC;\n",
              "    }\n",
              "\n",
              "    [theme=dark] .colab-df-convert:hover {\n",
              "      background-color: #434B5C;\n",
              "      box-shadow: 0px 1px 3px 1px rgba(0, 0, 0, 0.15);\n",
              "      filter: drop-shadow(0px 1px 2px rgba(0, 0, 0, 0.3));\n",
              "      fill: #FFFFFF;\n",
              "    }\n",
              "  </style>\n",
              "\n",
              "      <script>\n",
              "        const buttonEl =\n",
              "          document.querySelector('#df-bb7025bf-6009-4901-94b7-3d6127ffa0b5 button.colab-df-convert');\n",
              "        buttonEl.style.display =\n",
              "          google.colab.kernel.accessAllowed ? 'block' : 'none';\n",
              "\n",
              "        async function convertToInteractive(key) {\n",
              "          const element = document.querySelector('#df-bb7025bf-6009-4901-94b7-3d6127ffa0b5');\n",
              "          const dataTable =\n",
              "            await google.colab.kernel.invokeFunction('convertToInteractive',\n",
              "                                                     [key], {});\n",
              "          if (!dataTable) return;\n",
              "\n",
              "          const docLinkHtml = 'Like what you see? Visit the ' +\n",
              "            '<a target=\"_blank\" href=https://colab.research.google.com/notebooks/data_table.ipynb>data table notebook</a>'\n",
              "            + ' to learn more about interactive tables.';\n",
              "          element.innerHTML = '';\n",
              "          dataTable['output_type'] = 'display_data';\n",
              "          await google.colab.output.renderOutput(dataTable, element);\n",
              "          const docLink = document.createElement('div');\n",
              "          docLink.innerHTML = docLinkHtml;\n",
              "          element.appendChild(docLink);\n",
              "        }\n",
              "      </script>\n",
              "    </div>\n",
              "  </div>\n",
              "  "
            ]
          },
          "metadata": {},
          "execution_count": 15
        }
      ]
    },
    {
      "cell_type": "code",
      "source": [
        "# Usando o método heatmap do seaborn\n",
        "\n",
        "plt.figure(figsize=(16,6))\n",
        "sns.heatmap(data=datalog_corr, annot=True)"
      ],
      "metadata": {
        "colab": {
          "base_uri": "https://localhost:8080/",
          "height": 706
        },
        "id": "P51Kqil9___Z",
        "outputId": "ea887cc7-30cd-47bf-f89b-9a780e62373d"
      },
      "execution_count": 16,
      "outputs": [
        {
          "output_type": "execute_result",
          "data": {
            "text/plain": [
              "<Axes: >"
            ]
          },
          "metadata": {},
          "execution_count": 16
        },
        {
          "output_type": "display_data",
          "data": {
            "text/plain": [
              "<Figure size 1600x600 with 2 Axes>"
            ],
            "image/png": "[encoded data removed]"
          },
          "metadata": {}
        }
      ]
    },
    {
      "cell_type": "markdown",
      "source": [
        "### Usando Pandas profiling para avaliação geral."
      ],
      "metadata": {
        "id": "dA9P4YGrmn8f"
      }
    },
    {
      "cell_type": "code",
      "source": [
        "!pip install https://github.com/pandas-profiling/pandas-profiling/archive/master.zip"
      ],
      "metadata": {
        "id": "E0W3sSBZBL_0"
      },
      "execution_count": null,
      "outputs": []
    },
    {
      "cell_type": "code",
      "source": [
        "from pandas_profiling import ProfileReport"
      ],
      "metadata": {
        "id": "zo8TKA47BDEY"
      },
      "execution_count": null,
      "outputs": []
    },
    {
      "cell_type": "code",
      "source": [
        "profiling = ProfileReport(datalog_base,title= 'Relatório - Pandas Profiling', html={'style':{'full_width':True}} )"
      ],
      "metadata": {
        "id": "qsS-uGCZB1JZ"
      },
      "execution_count": null,
      "outputs": []
    },
    {
      "cell_type": "code",
      "source": [
        "profiling\n",
        "# Traducao das colunas do dataset\n",
        "#  0   Days Ago / dias atrás\n",
        "#  1   Min Battery Volt.(V)  /  Volt Mínimo Da Bateria (V)\n",
        "#  2   Max Discharge Curr.(A) / Corrente de descarga máxima (A)\n",
        "#  3   Max Discharge Power(W) / Potência máxima de descarga (W)\n",
        "#  4   Discharge Ah / 4 Descarga Ah\n",
        "#  5   Charge KWh / Carga KWh\n"
      ],
      "metadata": {
        "id": "ZmDvySfoCzrs"
      },
      "execution_count": null,
      "outputs": []
    },
    {
      "cell_type": "markdown",
      "source": [
        "### Criando Graficos manualmente sem o Pandas Profiling"
      ],
      "metadata": {
        "id": "C_vY6yp7m1x1"
      }
    },
    {
      "cell_type": "markdown",
      "source": [
        "## Usado gáficos matplotlib \"px\""
      ],
      "metadata": {
        "id": "hJcjecNgtR8U"
      }
    },
    {
      "cell_type": "code",
      "source": [
        "#Importar ploty\n",
        "import plotly.express as px"
      ],
      "metadata": {
        "id": "SdvjVbnTGqfF"
      },
      "execution_count": 17,
      "outputs": []
    },
    {
      "cell_type": "code",
      "source": [
        "# Correlação entre Quantidade_ciclo x Carg\n",
        "fig = px.scatter(data,x='Days Ago',y='Charge KWh')\n",
        "fig.show()"
      ],
      "metadata": {
        "colab": {
          "base_uri": "https://localhost:8080/",
          "height": 542
        },
        "id": "8psl_6rPQZvu",
        "outputId": "918a0ae3-40cd-4c70-f4d3-bd6edcc5e081"
      },
      "execution_count": 18,
      "outputs": [
        {
          "output_type": "display_data",
          "data": {
            "text/html": [
              "<html>\n",
              "<head><meta charset=\"utf-8\" /></head>\n",
              "<body>\n",
              "    <div>            <script src=\"https://cdnjs.cloudflare.com/ajax/libs/mathjax/2.7.5/MathJax.js?config=TeX-AMS-MML_SVG\"></script><script type=\"text/javascript\">if (window.MathJax && window.MathJax.Hub && window.MathJax.Hub.Config) {window.MathJax.Hub.Config({SVG: {font: \"STIX-Web\"}});}</script>                <script type=\"text/javascript\">window.PlotlyConfig = {MathJaxConfig: 'local'};</script>\n",
              "        <script src=\"https://cdn.plot.ly/plotly-2.18.2.min.js\"></script>                <div id=\"1d1fe3ad-44dc-444e-a7d9-b4bdd7206680\" class=\"plotly-graph-div\" style=\"height:525px; width:100%;\"></div>            <script type=\"text/javascript\">                                    window.PLOTLYENV=window.PLOTLYENV || {};                                    if (document.getElementById(\"1d1fe3ad-44dc-444e-a7d9-b4bdd7206680\")) {                    Plotly.newPlot(                        \"1d1fe3ad-44dc-444e-a7d9-b4bdd7206680\",                        [{\"hovertemplate\":\"Days Ago=%{x}<br>Charge KWh=%{y}<extra></extra>\",\"legendgroup\":\"\",\"marker\":{\"color\":\"#636efa\",\"symbol\":\"circle\"},\"mode\":\"markers\",\"name\":\"\",\"orientation\":\"v\",\"showlegend\":false,\"x\":[34.0,32.0,32.0,38.0,36.0,38.0,5.0,44.0,32.0,34.0,37.0,30.0,38.0,38.0,35.0,17.0,42.0,41.0,28.0,25.0,24.0,23.0,25.0,28.0,25.0,28.0,34.0,33.0,38.0,23.0,35.0,33.0,33.0,36.0,38.0,33.0,25.0,35.0,3.0,8.0,27.0,22.0,25.0,1.0,35.0,34.0,0.0,38.0,29.0,1.0,19.0,16.0,31.0,30.0,34.0,33.0,22.0,30.0,8.0],\"xaxis\":\"x\",\"y\":[63.0,268.0,968.0,723.0,453.0,152.0,564.0,658.0,974.0,788.0,67.0,616.0,895.0,128.0,93.0,725.0,377.0,46.0,275.0,159.0,146.0,95.0,39.0,875.0,693.0,524.0,691.0,939.0,651.0,294.0,23.0,829.0,791.0,977.0,252.0,147.0,464.0,94.0,112.0,789.0,768.0,696.0,131.0,0.0,27.0,476.0,0.0,93.0,302.0,0.0,585.0,54.0,477.0,462.0,634.0,21.0,38.0,372.0,41.0],\"yaxis\":\"y\",\"type\":\"scatter\"}],                        {\"template\":{\"data\":{\"histogram2dcontour\":[{\"type\":\"histogram2dcontour\",\"colorbar\":{\"outlinewidth\":0,\"ticks\":\"\"},\"colorscale\":[[0.0,\"#0d0887\"],[0.1111111111111111,\"#46039f\"],[0.2222222222222222,\"#7201a8\"],[0.3333333333333333,\"#9c179e\"],[0.4444444444444444,\"#bd3786\"],[0.5555555555555556,\"#d8576b\"],[0.6666666666666666,\"#ed7953\"],[0.7777777777777778,\"#fb9f3a\"],[0.8888888888888888,\"#fdca26\"],[1.0,\"#f0f921\"]]}],\"choropleth\":[{\"type\":\"choropleth\",\"colorbar\":{\"outlinewidth\":0,\"ticks\":\"\"}}],\"histogram2d\":[{\"type\":\"histogram2d\",\"colorbar\":{\"outlinewidth\":0,\"ticks\":\"\"},\"colorscale\":[[0.0,\"#0d0887\"],[0.1111111111111111,\"#46039f\"],[0.2222222222222222,\"#7201a8\"],[0.3333333333333333,\"#9c179e\"],[0.4444444444444444,\"#bd3786\"],[0.5555555555555556,\"#d8576b\"],[0.6666666666666666,\"#ed7953\"],[0.7777777777777778,\"#fb9f3a\"],[0.8888888888888888,\"#fdca26\"],[1.0,\"#f0f921\"]]}],\"heatmap\":[{\"type\":\"heatmap\",\"colorbar\":{\"outlinewidth\":0,\"ticks\":\"\"},\"colorscale\":[[0.0,\"#0d0887\"],[0.1111111111111111,\"#46039f\"],[0.2222222222222222,\"#7201a8\"],[0.3333333333333333,\"#9c179e\"],[0.4444444444444444,\"#bd3786\"],[0.5555555555555556,\"#d8576b\"],[0.6666666666666666,\"#ed7953\"],[0.7777777777777778,\"#fb9f3a\"],[0.8888888888888888,\"#fdca26\"],[1.0,\"#f0f921\"]]}],\"heatmapgl\":[{\"type\":\"heatmapgl\",\"colorbar\":{\"outlinewidth\":0,\"ticks\":\"\"},\"colorscale\":[[0.0,\"#0d0887\"],[0.1111111111111111,\"#46039f\"],[0.2222222222222222,\"#7201a8\"],[0.3333333333333333,\"#9c179e\"],[0.4444444444444444,\"#bd3786\"],[0.5555555555555556,\"#d8576b\"],[0.6666666666666666,\"#ed7953\"],[0.7777777777777778,\"#fb9f3a\"],[0.8888888888888888,\"#fdca26\"],[1.0,\"#f0f921\"]]}],\"contourcarpet\":[{\"type\":\"contourcarpet\",\"colorbar\":{\"outlinewidth\":0,\"ticks\":\"\"}}],\"contour\":[{\"type\":\"contour\",\"colorbar\":{\"outlinewidth\":0,\"ticks\":\"\"},\"colorscale\":[[0.0,\"#0d0887\"],[0.1111111111111111,\"#46039f\"],[0.2222222222222222,\"#7201a8\"],[0.3333333333333333,\"#9c179e\"],[0.4444444444444444,\"#bd3786\"],[0.5555555555555556,\"#d8576b\"],[0.6666666666666666,\"#ed7953\"],[0.7777777777777778,\"#fb9f3a\"],[0.8888888888888888,\"#fdca26\"],[1.0,\"#f0f921\"]]}],\"surface\":[{\"type\":\"surface\",\"colorbar\":{\"outlinewidth\":0,\"ticks\":\"\"},\"colorscale\":[[0.0,\"#0d0887\"],[0.1111111111111111,\"#46039f\"],[0.2222222222222222,\"#7201a8\"],[0.3333333333333333,\"#9c179e\"],[0.4444444444444444,\"#bd3786\"],[0.5555555555555556,\"#d8576b\"],[0.6666666666666666,\"#ed7953\"],[0.7777777777777778,\"#fb9f3a\"],[0.8888888888888888,\"#fdca26\"],[1.0,\"#f0f921\"]]}],\"mesh3d\":[{\"type\":\"mesh3d\",\"colorbar\":{\"outlinewidth\":0,\"ticks\":\"\"}}],\"scatter\":[{\"fillpattern\":{\"fillmode\":\"overlay\",\"size\":10,\"solidity\":0.2},\"type\":\"scatter\"}],\"parcoords\":[{\"type\":\"parcoords\",\"line\":{\"colorbar\":{\"outlinewidth\":0,\"ticks\":\"\"}}}],\"scatterpolargl\":[{\"type\":\"scatterpolargl\",\"marker\":{\"colorbar\":{\"outlinewidth\":0,\"ticks\":\"\"}}}],\"bar\":[{\"error_x\":{\"color\":\"#2a3f5f\"},\"error_y\":{\"color\":\"#2a3f5f\"},\"marker\":{\"line\":{\"color\":\"#E5ECF6\",\"width\":0.5},\"pattern\":{\"fillmode\":\"overlay\",\"size\":10,\"solidity\":0.2}},\"type\":\"bar\"}],\"scattergeo\":[{\"type\":\"scattergeo\",\"marker\":{\"colorbar\":{\"outlinewidth\":0,\"ticks\":\"\"}}}],\"scatterpolar\":[{\"type\":\"scatterpolar\",\"marker\":{\"colorbar\":{\"outlinewidth\":0,\"ticks\":\"\"}}}],\"histogram\":[{\"marker\":{\"pattern\":{\"fillmode\":\"overlay\",\"size\":10,\"solidity\":0.2}},\"type\":\"histogram\"}],\"scattergl\":[{\"type\":\"scattergl\",\"marker\":{\"colorbar\":{\"outlinewidth\":0,\"ticks\":\"\"}}}],\"scatter3d\":[{\"type\":\"scatter3d\",\"line\":{\"colorbar\":{\"outlinewidth\":0,\"ticks\":\"\"}},\"marker\":{\"colorbar\":{\"outlinewidth\":0,\"ticks\":\"\"}}}],\"scattermapbox\":[{\"type\":\"scattermapbox\",\"marker\":{\"colorbar\":{\"outlinewidth\":0,\"ticks\":\"\"}}}],\"scatterternary\":[{\"type\":\"scatterternary\",\"marker\":{\"colorbar\":{\"outlinewidth\":0,\"ticks\":\"\"}}}],\"scattercarpet\":[{\"type\":\"scattercarpet\",\"marker\":{\"colorbar\":{\"outlinewidth\":0,\"ticks\":\"\"}}}],\"carpet\":[{\"aaxis\":{\"endlinecolor\":\"#2a3f5f\",\"gridcolor\":\"white\",\"linecolor\":\"white\",\"minorgridcolor\":\"white\",\"startlinecolor\":\"#2a3f5f\"},\"baxis\":{\"endlinecolor\":\"#2a3f5f\",\"gridcolor\":\"white\",\"linecolor\":\"white\",\"minorgridcolor\":\"white\",\"startlinecolor\":\"#2a3f5f\"},\"type\":\"carpet\"}],\"table\":[{\"cells\":{\"fill\":{\"color\":\"#EBF0F8\"},\"line\":{\"color\":\"white\"}},\"header\":{\"fill\":{\"color\":\"#C8D4E3\"},\"line\":{\"color\":\"white\"}},\"type\":\"table\"}],\"barpolar\":[{\"marker\":{\"line\":{\"color\":\"#E5ECF6\",\"width\":0.5},\"pattern\":{\"fillmode\":\"overlay\",\"size\":10,\"solidity\":0.2}},\"type\":\"barpolar\"}],\"pie\":[{\"automargin\":true,\"type\":\"pie\"}]},\"layout\":{\"autotypenumbers\":\"strict\",\"colorway\":[\"#636efa\",\"#EF553B\",\"#00cc96\",\"#ab63fa\",\"#FFA15A\",\"#19d3f3\",\"#FF6692\",\"#B6E880\",\"#FF97FF\",\"#FECB52\"],\"font\":{\"color\":\"#2a3f5f\"},\"hovermode\":\"closest\",\"hoverlabel\":{\"align\":\"left\"},\"paper_bgcolor\":\"white\",\"plot_bgcolor\":\"#E5ECF6\",\"polar\":{\"bgcolor\":\"#E5ECF6\",\"angularaxis\":{\"gridcolor\":\"white\",\"linecolor\":\"white\",\"ticks\":\"\"},\"radialaxis\":{\"gridcolor\":\"white\",\"linecolor\":\"white\",\"ticks\":\"\"}},\"ternary\":{\"bgcolor\":\"#E5ECF6\",\"aaxis\":{\"gridcolor\":\"white\",\"linecolor\":\"white\",\"ticks\":\"\"},\"baxis\":{\"gridcolor\":\"white\",\"linecolor\":\"white\",\"ticks\":\"\"},\"caxis\":{\"gridcolor\":\"white\",\"linecolor\":\"white\",\"ticks\":\"\"}},\"coloraxis\":{\"colorbar\":{\"outlinewidth\":0,\"ticks\":\"\"}},\"colorscale\":{\"sequential\":[[0.0,\"#0d0887\"],[0.1111111111111111,\"#46039f\"],[0.2222222222222222,\"#7201a8\"],[0.3333333333333333,\"#9c179e\"],[0.4444444444444444,\"#bd3786\"],[0.5555555555555556,\"#d8576b\"],[0.6666666666666666,\"#ed7953\"],[0.7777777777777778,\"#fb9f3a\"],[0.8888888888888888,\"#fdca26\"],[1.0,\"#f0f921\"]],\"sequentialminus\":[[0.0,\"#0d0887\"],[0.1111111111111111,\"#46039f\"],[0.2222222222222222,\"#7201a8\"],[0.3333333333333333,\"#9c179e\"],[0.4444444444444444,\"#bd3786\"],[0.5555555555555556,\"#d8576b\"],[0.6666666666666666,\"#ed7953\"],[0.7777777777777778,\"#fb9f3a\"],[0.8888888888888888,\"#fdca26\"],[1.0,\"#f0f921\"]],\"diverging\":[[0,\"#8e0152\"],[0.1,\"#c51b7d\"],[0.2,\"#de77ae\"],[0.3,\"#f1b6da\"],[0.4,\"#fde0ef\"],[0.5,\"#f7f7f7\"],[0.6,\"#e6f5d0\"],[0.7,\"#b8e186\"],[0.8,\"#7fbc41\"],[0.9,\"#4d9221\"],[1,\"#276419\"]]},\"xaxis\":{\"gridcolor\":\"white\",\"linecolor\":\"white\",\"ticks\":\"\",\"title\":{\"standoff\":15},\"zerolinecolor\":\"white\",\"automargin\":true,\"zerolinewidth\":2},\"yaxis\":{\"gridcolor\":\"white\",\"linecolor\":\"white\",\"ticks\":\"\",\"title\":{\"standoff\":15},\"zerolinecolor\":\"white\",\"automargin\":true,\"zerolinewidth\":2},\"scene\":{\"xaxis\":{\"backgroundcolor\":\"#E5ECF6\",\"gridcolor\":\"white\",\"linecolor\":\"white\",\"showbackground\":true,\"ticks\":\"\",\"zerolinecolor\":\"white\",\"gridwidth\":2},\"yaxis\":{\"backgroundcolor\":\"#E5ECF6\",\"gridcolor\":\"white\",\"linecolor\":\"white\",\"showbackground\":true,\"ticks\":\"\",\"zerolinecolor\":\"white\",\"gridwidth\":2},\"zaxis\":{\"backgroundcolor\":\"#E5ECF6\",\"gridcolor\":\"white\",\"linecolor\":\"white\",\"showbackground\":true,\"ticks\":\"\",\"zerolinecolor\":\"white\",\"gridwidth\":2}},\"shapedefaults\":{\"line\":{\"color\":\"#2a3f5f\"}},\"annotationdefaults\":{\"arrowcolor\":\"#2a3f5f\",\"arrowhead\":0,\"arrowwidth\":1},\"geo\":{\"bgcolor\":\"white\",\"landcolor\":\"#E5ECF6\",\"subunitcolor\":\"white\",\"showland\":true,\"showlakes\":true,\"lakecolor\":\"white\"},\"title\":{\"x\":0.05},\"mapbox\":{\"style\":\"light\"}}},\"xaxis\":{\"anchor\":\"y\",\"domain\":[0.0,1.0],\"title\":{\"text\":\"Days Ago\"}},\"yaxis\":{\"anchor\":\"x\",\"domain\":[0.0,1.0],\"title\":{\"text\":\"Charge KWh\"}},\"legend\":{\"tracegroupgap\":0},\"margin\":{\"t\":60}},                        {\"responsive\": true}                    ).then(function(){\n",
              "                            \n",
              "var gd = document.getElementById('1d1fe3ad-44dc-444e-a7d9-b4bdd7206680');\n",
              "var x = new MutationObserver(function (mutations, observer) {{\n",
              "        var display = window.getComputedStyle(gd).display;\n",
              "        if (!display || display === 'none') {{\n",
              "            console.log([gd, 'removed!']);\n",
              "            Plotly.purge(gd);\n",
              "            observer.disconnect();\n",
              "        }}\n",
              "}});\n",
              "\n",
              "// Listen for the removal of the full notebook cells\n",
              "var notebookContainer = gd.closest('#notebook-container');\n",
              "if (notebookContainer) {{\n",
              "    x.observe(notebookContainer, {childList: true});\n",
              "}}\n",
              "\n",
              "// Listen for the clearing of the current output cell\n",
              "var outputEl = gd.closest('.output');\n",
              "if (outputEl) {{\n",
              "    x.observe(outputEl, {childList: true});\n",
              "}}\n",
              "\n",
              "                        })                };                            </script>        </div>\n",
              "</body>\n",
              "</html>"
            ]
          },
          "metadata": {}
        }
      ]
    },
    {
      "cell_type": "code",
      "source": [
        "# Correlação entre descarga max(P) x Carga(Kw/h)\n",
        "fig = px.scatter(data,x='Max Discharge Power(W)',y='Charge KWh')\n",
        "fig.show()"
      ],
      "metadata": {
        "colab": {
          "base_uri": "https://localhost:8080/",
          "height": 542
        },
        "id": "u8aZp9DZG0AL",
        "outputId": "c87125ff-bf9c-457b-86ed-1965535df16c"
      },
      "execution_count": 19,
      "outputs": [
        {
          "output_type": "display_data",
          "data": {
            "text/html": [
              "<html>\n",
              "<head><meta charset=\"utf-8\" /></head>\n",
              "<body>\n",
              "    <div>            <script src=\"https://cdnjs.cloudflare.com/ajax/libs/mathjax/2.7.5/MathJax.js?config=TeX-AMS-MML_SVG\"></script><script type=\"text/javascript\">if (window.MathJax && window.MathJax.Hub && window.MathJax.Hub.Config) {window.MathJax.Hub.Config({SVG: {font: \"STIX-Web\"}});}</script>                <script type=\"text/javascript\">window.PlotlyConfig = {MathJaxConfig: 'local'};</script>\n",
              "        <script src=\"https://cdn.plot.ly/plotly-2.18.2.min.js\"></script>                <div id=\"dff81536-2f94-4c84-9868-9d14b66ceabc\" class=\"plotly-graph-div\" style=\"height:525px; width:100%;\"></div>            <script type=\"text/javascript\">                                    window.PLOTLYENV=window.PLOTLYENV || {};                                    if (document.getElementById(\"dff81536-2f94-4c84-9868-9d14b66ceabc\")) {                    Plotly.newPlot(                        \"dff81536-2f94-4c84-9868-9d14b66ceabc\",                        [{\"hovertemplate\":\"Max Discharge Power(W)=%{x}<br>Charge KWh=%{y}<extra></extra>\",\"legendgroup\":\"\",\"marker\":{\"color\":\"#636efa\",\"symbol\":\"circle\"},\"mode\":\"markers\",\"name\":\"\",\"orientation\":\"v\",\"showlegend\":false,\"x\":[111.0,82.0,107.0,100.0,125.0,115.0,21.0,133.0,107.0,65.0,134.0,131.0,105.0,77.0,111.0,64.0,122.0,110.0,118.0,114.0,113.0,111.0,122.0,140.0,98.0,92.0,134.0,143.0,135.0,88.0,118.0,103.0,137.0,145.0,154.0,150.0,54.0,70.0,4.0,28.0,99.0,96.0,111.0,0.0,147.0,130.0,0.0,35.0,53.0,0.0,22.0,20.0,55.0,90.0,61.0,38.0,14.0,88.0,15.0],\"xaxis\":\"x\",\"y\":[63.0,268.0,968.0,723.0,453.0,152.0,564.0,658.0,974.0,788.0,67.0,616.0,895.0,128.0,93.0,725.0,377.0,46.0,275.0,159.0,146.0,95.0,39.0,875.0,693.0,524.0,691.0,939.0,651.0,294.0,23.0,829.0,791.0,977.0,252.0,147.0,464.0,94.0,112.0,789.0,768.0,696.0,131.0,0.0,27.0,476.0,0.0,93.0,302.0,0.0,585.0,54.0,477.0,462.0,634.0,21.0,38.0,372.0,41.0],\"yaxis\":\"y\",\"type\":\"scatter\"}],                        {\"template\":{\"data\":{\"histogram2dcontour\":[{\"type\":\"histogram2dcontour\",\"colorbar\":{\"outlinewidth\":0,\"ticks\":\"\"},\"colorscale\":[[0.0,\"#0d0887\"],[0.1111111111111111,\"#46039f\"],[0.2222222222222222,\"#7201a8\"],[0.3333333333333333,\"#9c179e\"],[0.4444444444444444,\"#bd3786\"],[0.5555555555555556,\"#d8576b\"],[0.6666666666666666,\"#ed7953\"],[0.7777777777777778,\"#fb9f3a\"],[0.8888888888888888,\"#fdca26\"],[1.0,\"#f0f921\"]]}],\"choropleth\":[{\"type\":\"choropleth\",\"colorbar\":{\"outlinewidth\":0,\"ticks\":\"\"}}],\"histogram2d\":[{\"type\":\"histogram2d\",\"colorbar\":{\"outlinewidth\":0,\"ticks\":\"\"},\"colorscale\":[[0.0,\"#0d0887\"],[0.1111111111111111,\"#46039f\"],[0.2222222222222222,\"#7201a8\"],[0.3333333333333333,\"#9c179e\"],[0.4444444444444444,\"#bd3786\"],[0.5555555555555556,\"#d8576b\"],[0.6666666666666666,\"#ed7953\"],[0.7777777777777778,\"#fb9f3a\"],[0.8888888888888888,\"#fdca26\"],[1.0,\"#f0f921\"]]}],\"heatmap\":[{\"type\":\"heatmap\",\"colorbar\":{\"outlinewidth\":0,\"ticks\":\"\"},\"colorscale\":[[0.0,\"#0d0887\"],[0.1111111111111111,\"#46039f\"],[0.2222222222222222,\"#7201a8\"],[0.3333333333333333,\"#9c179e\"],[0.4444444444444444,\"#bd3786\"],[0.5555555555555556,\"#d8576b\"],[0.6666666666666666,\"#ed7953\"],[0.7777777777777778,\"#fb9f3a\"],[0.8888888888888888,\"#fdca26\"],[1.0,\"#f0f921\"]]}],\"heatmapgl\":[{\"type\":\"heatmapgl\",\"colorbar\":{\"outlinewidth\":0,\"ticks\":\"\"},\"colorscale\":[[0.0,\"#0d0887\"],[0.1111111111111111,\"#46039f\"],[0.2222222222222222,\"#7201a8\"],[0.3333333333333333,\"#9c179e\"],[0.4444444444444444,\"#bd3786\"],[0.5555555555555556,\"#d8576b\"],[0.6666666666666666,\"#ed7953\"],[0.7777777777777778,\"#fb9f3a\"],[0.8888888888888888,\"#fdca26\"],[1.0,\"#f0f921\"]]}],\"contourcarpet\":[{\"type\":\"contourcarpet\",\"colorbar\":{\"outlinewidth\":0,\"ticks\":\"\"}}],\"contour\":[{\"type\":\"contour\",\"colorbar\":{\"outlinewidth\":0,\"ticks\":\"\"},\"colorscale\":[[0.0,\"#0d0887\"],[0.1111111111111111,\"#46039f\"],[0.2222222222222222,\"#7201a8\"],[0.3333333333333333,\"#9c179e\"],[0.4444444444444444,\"#bd3786\"],[0.5555555555555556,\"#d8576b\"],[0.6666666666666666,\"#ed7953\"],[0.7777777777777778,\"#fb9f3a\"],[0.8888888888888888,\"#fdca26\"],[1.0,\"#f0f921\"]]}],\"surface\":[{\"type\":\"surface\",\"colorbar\":{\"outlinewidth\":0,\"ticks\":\"\"},\"colorscale\":[[0.0,\"#0d0887\"],[0.1111111111111111,\"#46039f\"],[0.2222222222222222,\"#7201a8\"],[0.3333333333333333,\"#9c179e\"],[0.4444444444444444,\"#bd3786\"],[0.5555555555555556,\"#d8576b\"],[0.6666666666666666,\"#ed7953\"],[0.7777777777777778,\"#fb9f3a\"],[0.8888888888888888,\"#fdca26\"],[1.0,\"#f0f921\"]]}],\"mesh3d\":[{\"type\":\"mesh3d\",\"colorbar\":{\"outlinewidth\":0,\"ticks\":\"\"}}],\"scatter\":[{\"fillpattern\":{\"fillmode\":\"overlay\",\"size\":10,\"solidity\":0.2},\"type\":\"scatter\"}],\"parcoords\":[{\"type\":\"parcoords\",\"line\":{\"colorbar\":{\"outlinewidth\":0,\"ticks\":\"\"}}}],\"scatterpolargl\":[{\"type\":\"scatterpolargl\",\"marker\":{\"colorbar\":{\"outlinewidth\":0,\"ticks\":\"\"}}}],\"bar\":[{\"error_x\":{\"color\":\"#2a3f5f\"},\"error_y\":{\"color\":\"#2a3f5f\"},\"marker\":{\"line\":{\"color\":\"#E5ECF6\",\"width\":0.5},\"pattern\":{\"fillmode\":\"overlay\",\"size\":10,\"solidity\":0.2}},\"type\":\"bar\"}],\"scattergeo\":[{\"type\":\"scattergeo\",\"marker\":{\"colorbar\":{\"outlinewidth\":0,\"ticks\":\"\"}}}],\"scatterpolar\":[{\"type\":\"scatterpolar\",\"marker\":{\"colorbar\":{\"outlinewidth\":0,\"ticks\":\"\"}}}],\"histogram\":[{\"marker\":{\"pattern\":{\"fillmode\":\"overlay\",\"size\":10,\"solidity\":0.2}},\"type\":\"histogram\"}],\"scattergl\":[{\"type\":\"scattergl\",\"marker\":{\"colorbar\":{\"outlinewidth\":0,\"ticks\":\"\"}}}],\"scatter3d\":[{\"type\":\"scatter3d\",\"line\":{\"colorbar\":{\"outlinewidth\":0,\"ticks\":\"\"}},\"marker\":{\"colorbar\":{\"outlinewidth\":0,\"ticks\":\"\"}}}],\"scattermapbox\":[{\"type\":\"scattermapbox\",\"marker\":{\"colorbar\":{\"outlinewidth\":0,\"ticks\":\"\"}}}],\"scatterternary\":[{\"type\":\"scatterternary\",\"marker\":{\"colorbar\":{\"outlinewidth\":0,\"ticks\":\"\"}}}],\"scattercarpet\":[{\"type\":\"scattercarpet\",\"marker\":{\"colorbar\":{\"outlinewidth\":0,\"ticks\":\"\"}}}],\"carpet\":[{\"aaxis\":{\"endlinecolor\":\"#2a3f5f\",\"gridcolor\":\"white\",\"linecolor\":\"white\",\"minorgridcolor\":\"white\",\"startlinecolor\":\"#2a3f5f\"},\"baxis\":{\"endlinecolor\":\"#2a3f5f\",\"gridcolor\":\"white\",\"linecolor\":\"white\",\"minorgridcolor\":\"white\",\"startlinecolor\":\"#2a3f5f\"},\"type\":\"carpet\"}],\"table\":[{\"cells\":{\"fill\":{\"color\":\"#EBF0F8\"},\"line\":{\"color\":\"white\"}},\"header\":{\"fill\":{\"color\":\"#C8D4E3\"},\"line\":{\"color\":\"white\"}},\"type\":\"table\"}],\"barpolar\":[{\"marker\":{\"line\":{\"color\":\"#E5ECF6\",\"width\":0.5},\"pattern\":{\"fillmode\":\"overlay\",\"size\":10,\"solidity\":0.2}},\"type\":\"barpolar\"}],\"pie\":[{\"automargin\":true,\"type\":\"pie\"}]},\"layout\":{\"autotypenumbers\":\"strict\",\"colorway\":[\"#636efa\",\"#EF553B\",\"#00cc96\",\"#ab63fa\",\"#FFA15A\",\"#19d3f3\",\"#FF6692\",\"#B6E880\",\"#FF97FF\",\"#FECB52\"],\"font\":{\"color\":\"#2a3f5f\"},\"hovermode\":\"closest\",\"hoverlabel\":{\"align\":\"left\"},\"paper_bgcolor\":\"white\",\"plot_bgcolor\":\"#E5ECF6\",\"polar\":{\"bgcolor\":\"#E5ECF6\",\"angularaxis\":{\"gridcolor\":\"white\",\"linecolor\":\"white\",\"ticks\":\"\"},\"radialaxis\":{\"gridcolor\":\"white\",\"linecolor\":\"white\",\"ticks\":\"\"}},\"ternary\":{\"bgcolor\":\"#E5ECF6\",\"aaxis\":{\"gridcolor\":\"white\",\"linecolor\":\"white\",\"ticks\":\"\"},\"baxis\":{\"gridcolor\":\"white\",\"linecolor\":\"white\",\"ticks\":\"\"},\"caxis\":{\"gridcolor\":\"white\",\"linecolor\":\"white\",\"ticks\":\"\"}},\"coloraxis\":{\"colorbar\":{\"outlinewidth\":0,\"ticks\":\"\"}},\"colorscale\":{\"sequential\":[[0.0,\"#0d0887\"],[0.1111111111111111,\"#46039f\"],[0.2222222222222222,\"#7201a8\"],[0.3333333333333333,\"#9c179e\"],[0.4444444444444444,\"#bd3786\"],[0.5555555555555556,\"#d8576b\"],[0.6666666666666666,\"#ed7953\"],[0.7777777777777778,\"#fb9f3a\"],[0.8888888888888888,\"#fdca26\"],[1.0,\"#f0f921\"]],\"sequentialminus\":[[0.0,\"#0d0887\"],[0.1111111111111111,\"#46039f\"],[0.2222222222222222,\"#7201a8\"],[0.3333333333333333,\"#9c179e\"],[0.4444444444444444,\"#bd3786\"],[0.5555555555555556,\"#d8576b\"],[0.6666666666666666,\"#ed7953\"],[0.7777777777777778,\"#fb9f3a\"],[0.8888888888888888,\"#fdca26\"],[1.0,\"#f0f921\"]],\"diverging\":[[0,\"#8e0152\"],[0.1,\"#c51b7d\"],[0.2,\"#de77ae\"],[0.3,\"#f1b6da\"],[0.4,\"#fde0ef\"],[0.5,\"#f7f7f7\"],[0.6,\"#e6f5d0\"],[0.7,\"#b8e186\"],[0.8,\"#7fbc41\"],[0.9,\"#4d9221\"],[1,\"#276419\"]]},\"xaxis\":{\"gridcolor\":\"white\",\"linecolor\":\"white\",\"ticks\":\"\",\"title\":{\"standoff\":15},\"zerolinecolor\":\"white\",\"automargin\":true,\"zerolinewidth\":2},\"yaxis\":{\"gridcolor\":\"white\",\"linecolor\":\"white\",\"ticks\":\"\",\"title\":{\"standoff\":15},\"zerolinecolor\":\"white\",\"automargin\":true,\"zerolinewidth\":2},\"scene\":{\"xaxis\":{\"backgroundcolor\":\"#E5ECF6\",\"gridcolor\":\"white\",\"linecolor\":\"white\",\"showbackground\":true,\"ticks\":\"\",\"zerolinecolor\":\"white\",\"gridwidth\":2},\"yaxis\":{\"backgroundcolor\":\"#E5ECF6\",\"gridcolor\":\"white\",\"linecolor\":\"white\",\"showbackground\":true,\"ticks\":\"\",\"zerolinecolor\":\"white\",\"gridwidth\":2},\"zaxis\":{\"backgroundcolor\":\"#E5ECF6\",\"gridcolor\":\"white\",\"linecolor\":\"white\",\"showbackground\":true,\"ticks\":\"\",\"zerolinecolor\":\"white\",\"gridwidth\":2}},\"shapedefaults\":{\"line\":{\"color\":\"#2a3f5f\"}},\"annotationdefaults\":{\"arrowcolor\":\"#2a3f5f\",\"arrowhead\":0,\"arrowwidth\":1},\"geo\":{\"bgcolor\":\"white\",\"landcolor\":\"#E5ECF6\",\"subunitcolor\":\"white\",\"showland\":true,\"showlakes\":true,\"lakecolor\":\"white\"},\"title\":{\"x\":0.05},\"mapbox\":{\"style\":\"light\"}}},\"xaxis\":{\"anchor\":\"y\",\"domain\":[0.0,1.0],\"title\":{\"text\":\"Max Discharge Power(W)\"}},\"yaxis\":{\"anchor\":\"x\",\"domain\":[0.0,1.0],\"title\":{\"text\":\"Charge KWh\"}},\"legend\":{\"tracegroupgap\":0},\"margin\":{\"t\":60}},                        {\"responsive\": true}                    ).then(function(){\n",
              "                            \n",
              "var gd = document.getElementById('dff81536-2f94-4c84-9868-9d14b66ceabc');\n",
              "var x = new MutationObserver(function (mutations, observer) {{\n",
              "        var display = window.getComputedStyle(gd).display;\n",
              "        if (!display || display === 'none') {{\n",
              "            console.log([gd, 'removed!']);\n",
              "            Plotly.purge(gd);\n",
              "            observer.disconnect();\n",
              "        }}\n",
              "}});\n",
              "\n",
              "// Listen for the removal of the full notebook cells\n",
              "var notebookContainer = gd.closest('#notebook-container');\n",
              "if (notebookContainer) {{\n",
              "    x.observe(notebookContainer, {childList: true});\n",
              "}}\n",
              "\n",
              "// Listen for the clearing of the current output cell\n",
              "var outputEl = gd.closest('.output');\n",
              "if (outputEl) {{\n",
              "    x.observe(outputEl, {childList: true});\n",
              "}}\n",
              "\n",
              "                        })                };                            </script>        </div>\n",
              "</body>\n",
              "</html>"
            ]
          },
          "metadata": {}
        }
      ]
    },
    {
      "cell_type": "code",
      "source": [
        "data['Charge KWh'].describe()"
      ],
      "metadata": {
        "colab": {
          "base_uri": "https://localhost:8080/"
        },
        "id": "BHP1c8dbTY9M",
        "outputId": "95e34bec-566e-4ace-c2b6-0cf3efa08ada"
      },
      "execution_count": 20,
      "outputs": [
        {
          "output_type": "execute_result",
          "data": {
            "text/plain": [
              "count     59.000000\n",
              "mean     399.898305\n",
              "std      321.974977\n",
              "min        0.000000\n",
              "25%       93.500000\n",
              "50%      372.000000\n",
              "75%      692.000000\n",
              "max      977.000000\n",
              "Name: Charge KWh, dtype: float64"
            ]
          },
          "metadata": {},
          "execution_count": 20
        }
      ]
    },
    {
      "cell_type": "code",
      "source": [
        "import plotly.figure_factory as ff\n"
      ],
      "metadata": {
        "id": "H3LhacxiTqd6"
      },
      "execution_count": 21,
      "outputs": []
    },
    {
      "cell_type": "code",
      "source": [
        "labels = ['Distribuição de variável  Max Discarga (Killo_watts)']\n",
        "fig = ff.create_distplot([data['Charge KWh']],labels, bin_size= .2)\n",
        "fig.show()"
      ],
      "metadata": {
        "colab": {
          "base_uri": "https://localhost:8080/",
          "height": 542
        },
        "id": "YQtq7g0Tdrom",
        "outputId": "fd0593fc-4551-4f70-95c3-a1ce559fdaf8"
      },
      "execution_count": 22,
      "outputs": [
        {
          "output_type": "display_data",
          "data": {
            "text/html": [
              "<html>\n",
              "<head><meta charset=\"utf-8\" /></head>\n",
              "<body>\n",
              "    <div>            <script src=\"https://cdnjs.cloudflare.com/ajax/libs/mathjax/2.7.5/MathJax.js?config=TeX-AMS-MML_SVG\"></script><script type=\"text/javascript\">if (window.MathJax && window.MathJax.Hub && window.MathJax.Hub.Config) {window.MathJax.Hub.Config({SVG: {font: \"STIX-Web\"}});}</script>                <script type=\"text/javascript\">window.PlotlyConfig = {MathJaxConfig: 'local'};</script>\n",
              "        <script src=\"https://cdn.plot.ly/plotly-2.18.2.min.js\"></script>                <div id=\"0b684684-e1b5-4b38-8287-64678a068146\" class=\"plotly-graph-div\" style=\"height:525px; width:100%;\"></div>            <script type=\"text/javascript\">                                    window.PLOTLYENV=window.PLOTLYENV || {};                                    if (document.getElementById(\"0b684684-e1b5-4b38-8287-64678a068146\")) {                    Plotly.newPlot(                        \"0b684684-e1b5-4b38-8287-64678a068146\",                        [{\"autobinx\":false,\"histnorm\":\"probability density\",\"legendgroup\":\"Distribui\\u00e7\\u00e3o de vari\\u00e1vel  Max Discarga (Killo_watts)\",\"marker\":{\"color\":\"rgb(31, 119, 180)\"},\"name\":\"Distribui\\u00e7\\u00e3o de vari\\u00e1vel  Max Discarga (Killo_watts)\",\"opacity\":0.7,\"x\":[63.0,268.0,968.0,723.0,453.0,152.0,564.0,658.0,974.0,788.0,67.0,616.0,895.0,128.0,93.0,725.0,377.0,46.0,275.0,159.0,146.0,95.0,39.0,875.0,693.0,524.0,691.0,939.0,651.0,294.0,23.0,829.0,791.0,977.0,252.0,147.0,464.0,94.0,112.0,789.0,768.0,696.0,131.0,0.0,27.0,476.0,0.0,93.0,302.0,0.0,585.0,54.0,477.0,462.0,634.0,21.0,38.0,372.0,41.0],\"xaxis\":\"x\",\"xbins\":{\"end\":977.0,\"size\":0.2,\"start\":0.0},\"yaxis\":\"y\",\"type\":\"histogram\"},{\"legendgroup\":\"Distribui\\u00e7\\u00e3o de vari\\u00e1vel  Max Discarga (Killo_watts)\",\"marker\":{\"color\":\"rgb(31, 119, 180)\"},\"mode\":\"lines\",\"name\":\"Distribui\\u00e7\\u00e3o de vari\\u00e1vel  Max Discarga (Killo_watts)\",\"showlegend\":false,\"x\":[0.0,1.954,3.908,5.862,7.816,9.77,11.724,13.678,15.632,17.586,19.54,21.494,23.448,25.402,27.356,29.31,31.264,33.218,35.172,37.126,39.08,41.034,42.988,44.942,46.896,48.85,50.804,52.758,54.712,56.666,58.62,60.574,62.528,64.482,66.436,68.39,70.344,72.298,74.252,76.206,78.16,80.114,82.068,84.022,85.976,87.93,89.884,91.838,93.792,95.746,97.7,99.654,101.608,103.562,105.516,107.47,109.424,111.378,113.332,115.286,117.24,119.194,121.148,123.102,125.056,127.01,128.964,130.918,132.872,134.826,136.78,138.734,140.688,142.642,144.596,146.55,148.504,150.458,152.412,154.366,156.32,158.274,160.228,162.182,164.136,166.09,168.044,169.998,171.952,173.906,175.86,177.814,179.768,181.722,183.676,185.63,187.584,189.538,191.492,193.446,195.4,197.354,199.308,201.262,203.216,205.17,207.124,209.078,211.032,212.986,214.94,216.894,218.848,220.802,222.756,224.71,226.664,228.618,230.572,232.526,234.48,236.434,238.388,240.342,242.296,244.25,246.204,248.158,250.112,252.066,254.02,255.974,257.928,259.882,261.836,263.79,265.744,267.698,269.652,271.606,273.56,275.514,277.468,279.422,281.376,283.33,285.284,287.238,289.192,291.146,293.1,295.054,297.008,298.962,300.916,302.87,304.824,306.778,308.732,310.686,312.64,314.594,316.548,318.502,320.456,322.41,324.364,326.318,328.272,330.226,332.18,334.134,336.088,338.042,339.996,341.95,343.904,345.858,347.812,349.766,351.72,353.674,355.628,357.582,359.536,361.49,363.444,365.398,367.352,369.306,371.26,373.214,375.168,377.122,379.076,381.03,382.984,384.938,386.892,388.846,390.8,392.754,394.708,396.662,398.616,400.57,402.524,404.478,406.432,408.386,410.34,412.294,414.248,416.202,418.156,420.11,422.064,424.018,425.972,427.926,429.88,431.834,433.788,435.742,437.696,439.65,441.604,443.558,445.512,447.466,449.42,451.374,453.328,455.282,457.236,459.19,461.144,463.098,465.052,467.006,468.96,470.914,472.868,474.822,476.776,478.73,480.684,482.638,484.592,486.546,488.5,490.454,492.408,494.362,496.316,498.27,500.224,502.178,504.132,506.086,508.04,509.994,511.948,513.902,515.856,517.81,519.764,521.718,523.672,525.626,527.58,529.534,531.488,533.442,535.396,537.35,539.304,541.258,543.212,545.166,547.12,549.074,551.028,552.982,554.936,556.89,558.844,560.798,562.752,564.706,566.66,568.614,570.568,572.522,574.476,576.43,578.384,580.338,582.292,584.246,586.2,588.154,590.108,592.062,594.016,595.97,597.924,599.878,601.832,603.786,605.74,607.694,609.648,611.602,613.556,615.51,617.464,619.418,621.372,623.326,625.28,627.234,629.188,631.142,633.096,635.05,637.004,638.958,640.912,642.866,644.82,646.774,648.728,650.682,652.636,654.59,656.544,658.498,660.452,662.406,664.36,666.314,668.268,670.222,672.176,674.13,676.084,678.038,679.992,681.946,683.9,685.854,687.808,689.762,691.716,693.67,695.624,697.578,699.532,701.486,703.44,705.394,707.348,709.302,711.256,713.21,715.164,717.118,719.072,721.026,722.98,724.934,726.888,728.842,730.796,732.75,734.704,736.658,738.612,740.566,742.52,744.474,746.428,748.382,750.336,752.29,754.244,756.198,758.152,760.106,762.06,764.014,765.968,767.922,769.876,771.83,773.784,775.738,777.692,779.646,781.6,783.554,785.508,787.462,789.416,791.37,793.324,795.278,797.232,799.186,801.14,803.094,805.048,807.002,808.956,810.91,812.864,814.818,816.772,818.726,820.68,822.634,824.588,826.542,828.496,830.45,832.404,834.358,836.312,838.266,840.22,842.174,844.128,846.082,848.036,849.99,851.944,853.898,855.852,857.806,859.76,861.714,863.668,865.622,867.576,869.53,871.484,873.438,875.392,877.346,879.3,881.254,883.208,885.162,887.116,889.07,891.024,892.978,894.932,896.886,898.84,900.794,902.748,904.702,906.656,908.61,910.564,912.518,914.472,916.426,918.38,920.334,922.288,924.242,926.196,928.15,930.104,932.058,934.012,935.966,937.92,939.874,941.828,943.782,945.736,947.69,949.644,951.598,953.552,955.506,957.46,959.414,961.368,963.322,965.276,967.23,969.184,971.138,973.092,975.046],\"xaxis\":\"x\",\"y\":[0.0009937695158344618,0.001000749569101158,0.0010076291405227244,0.001014405903381354,0.0010210775760074778,0.0010276419234832572,0.0010340967593125629,0.0010404399470556286,0.0010466694019266075,0.0010527830923522997,0.0010587790414903508,0.0010646553287052803,0.0010704100910007253,0.0010760415244063573,0.0010815478853179472,0.0010869274917891492,0.001092178724773583,0.0010973000293158857,0.0011022899156904497,0.001107146960486612,0.0011118698076391508,0.0011164571694029773,0.0011209078272710032,0.0011252206328342034,0.0011293945085829925,0.0011334284486490783,0.001137321519487035,0.0011410728604949107,0.0011446816845732594,0.0011481472786220486,0.0011514690039749814,0.0011546462967708447,0.0011576786682615538,0.0011605657050566607,0.0011633070693041602,0.0011659024988074954,0.0011683518070787532,0.0011706548833281052,0.0011728116923896354,0.0011748222745837597,0.0011766867455165197,0.0011784052958161207,0.0011799781908071315,0.0011814057701228593,0.0011826884472564707,0.0011838267090515126,0.0011848211151325378,0.0011856722972766285,0.0011863809587266622,0.0011869478734472423,0.001187373885324266,0.0011876599073091798,0.0011878069205090245,0.0011878159732234238,0.0011876881799297485,0.0011874247202177213,0.001187026837674793,0.0011864958387236715,0.0011858330914134272,0.0011850400241656483,0.0011841181244771684,0.0011830689375809322,0.0011818940650665819,0.0011805951634624259,0.0011791739427804424,0.0011776321650260367,0.0011759716426742845,0.0011741942371144153,0.0011723018570643361,0.0011702964569569954,0.0011681800353004227,0.0011659546330132823,0.0011636223317378113,0.0011611852521320018,0.0011586455521429245,0.0011560054252630564,0.0011532670987715408,0.0011504328319622253,0.0011475049143604152,0.0011444856639301958,0.001141377425274226,0.0011381825678278598,0.0011349034840494713,0.0011315425876088161,0.0011281023115752781,0.001124585106607792,0.0011209934391482612,0.0011173297896202154,0.0011135966506344713,0.0011097965252035084,0.0011059319249662435,0.001102005368424875,0.0010980193791954077,0.001093976484273467,0.00108987921231694,0.0010857300919469683,0.0010815316500687759,0.0010772864102137594,0.001072996890904236,0.001068665604042207,0.0010642950533234336,0.0010598877326780894,0.001055446124739202,0.0010509726993400484,0.0010464699120416063,0.001041940202691153,0.0010373859940130004,0.0010328096902323398,0.0010282136757331123,0.0010236003137507547,0.0010189719451006308,0.0010143308869429053,0.0010096794315845527,0.0010050198453191537,0.0010003543673050706,0.0009956852084825397,0.0009910145505301708,0.0009863445448612812,0.000981677311660454,0.0009770149389606365,0.0009723594817610684,0.0009677129611862489,0.000963077363686132,0.0009584546402776543,0.0009538467058276902,0.0009492554383774306,0.0009446826785081904,0.0009401302287485466,0.000935599853022706,0.0009310932761399271,0.0009266121833247937,0.0009221582197880853,0.000917732990337948,0.0009133380590310316,0.000908974948863214,0.0009046451414995017,0.0009003500770426441,0.000896091153839983,0.0008918697283280029,0.0008876871149140274,0.0008835445858944711,0.000879443371409018,0.0008753846594300834,0.00087136959578687,0.0008673992842233118,0.0008634747864891771,0.0008595971224635644,0.0008557672703100187,0.0008519861666624589,0.0008482547068410982,0.0008445737450975172,0.0008409440948880264,0.0008373665291744522,0.0008338417807514531,0.0008303705425994647,0.0008269534682623631,0.0008235911722489266,0.0008202842304571516,0.0008170331806205042,0.0008138385227751377,0.0008107007197471439,0.0008076201976588755,0.0008045973464533813,0.000801632520436003,0.0007987260388321646,0.0007958781863604081,0.0007930892138197115,0.0007903593386901416,0.0007876887457458936,0.0007850775876797729,0.0007825259857381881,0.0007800340303657195,0.0007776017818583495,0.0007752292710244451,0.0007729164998525815,0.0007706634421853336,0.0007684700443981419,0.0007663362260824007,0.0007642618807319073,0.0007622468764318429,0.0007602910565494572,0.0007583942404256556,0.0007565562240666917,0.0007547767808351981,0.0007530556621397956,0.0007513925981225435,0.0007497872983435113,0.0007482394524617717,0.0007467487309121332,0.0007453147855769501,0.000743937250452371,0.0007426157423084016,0.0007413498613421858,0.0007401391918239283,0.0007389833027348918,0.0007378817483969525,0.0007368340690931812,0.0007358397916789721,0.0007348984301832507,0.0007340094863993084,0.0007331724504648499,0.0007323868014308472,0.0007316520078188277,0.0007309675281662404,0.0007303328115595718,0.0007297472981549012,0.0007292104196856133,0.0007287215999570085,0.000728280255327566,0.0007278857951766511,0.000727537622358473,0.0007272351336421182,0.0007269777201375203,0.000726764767707234,0.000726595657363916,0.0007264697656534296,0.0007263864650235165,0.000726345124177997,0.0007263451084164835,0.0007263857799596157,0.0007264664982598401,0.0007265866202977825,0.0007267455008642829,0.0007269424928281772,0.0007271769473899326,0.0007274482143212646,0.0007277556421908801,0.0007280985785765063,0.0007284763702633911,0.000728888363429471,0.0007293339038174217,0.0007298123368938272,0.0007303230079957079,0.0007308652624646825,0.0007314384457690336,0.0007320419036139752,0.0007326749820404265,0.000733337027512618,0.0007340273869948574,0.0007347454080178089,0.0007354904387346344,0.0007362618279673768,0.0007370589252439527,0.0007378810808261555,0.0007387276457290591,0.0007395979717322302,0.0007404914113831683,0.0007414073179933917,0.0007423450456275983,0.000743303949086336,0.0007442833838826208,0.0007452827062129505,0.0007463012729231528,0.000747338441469531,0.0007483935698757435,0.0007494660166858893,0.0007505551409142345,0.000751660301992056,0.0007527808597120362,0.0007539161741706788,0.0007550656057091803,0.000756228514853223,0.000757404262252114,0.0007585922086177256,0.0007597917146636651,0.0007610021410451029,0.0007622228482996853,0.0007634531967899413,0.0007646925466475979,0.0007659402577202018,0.0007671956895204306,0.0007684582011784837,0.0007697271513979197,0.0007710018984152942,0.0007722817999639548,0.0007735662132423177,0.0007748544948869588,0.0007761460009508235,0.0007774400868868469,0.0007787361075372761,0.0007800334171289499,0.0007813313692747944,0.0007826293169817662,0.0007839266126654671,0.0007852226081716266,0.0007865166548046459,0.0007878081033633692,0.0007890963041842328,0.0007903806071919309,0.0007916603619577112,0.0007929349177653989,0.0007942036236852321,0.0007954658286555685,0.0007967208815725084,0.0007979681313874584,0.0007992069272126414,0.0008004366184345475,0.0008016565548352825,0.0008028660867217836,0.0008040645650628179,0.0008052513416336908,0.000806425769168555,0.000807587201520201,0.0008087349938271963,0.0008098685026882059,0.0008109870863433316,0.0008120901048622834,0.0008131769203391636,0.0008142468970936608,0.0008152994018783999,0.0008163338040922146,0.0008173494759990585,0.0008183457929522903,0.0008193221336240335,0.0008202778802392995,0.0008212124188145722,0.0008221251394005033,0.0008230154363284,0.0008238827084601329,0.0008247263594411227,0.0008255457979560283,0.0008263404379867535,0.0008271096990724021,0.0008278530065707756,0.0008285697919210305,0.0008292594929070796,0.0008299215539213445,0.0008305554262284402,0.000831160568228384,0.0008317364457189154,0.0008322825321565092,0.0008327983089156718,0.0008332832655461031,0.0008337369000273077,0.0008341587190202591,0.0008345482381156916,0.0008349049820786304,0.0008352284850887577,0.0008355182909762207,0.0008357739534524986,0.0008359950363359442,0.0008361811137716383,0.0008363317704451873,0.0008364466017901108,0.0008365252141884835,0.000836567225164495,0.0008365722635706051,0.0008365399697659933,0.0008364699957869988,0.0008363620055092801,0.0008362156748014147,0.0008360306916696927,0.0008358067563938662,0.0008355435816536275,0.0008352408926456124,0.000834898427190737,0.0008345159358316962,0.0008340931819204634,0.0008336299416956559,0.0008331260043496437,0.0008325811720852946,0.0008319952601622795,0.0008313680969328591,0.0008306995238671101,0.0008299893955675636,0.0008292375797732359,0.0008284439573530675,0.0008276084222887927,0.0008267308816472795,0.0008258112555424121,0.0008248494770865935,0.0008238454923319608,0.0008227992602014435,0.000821710752409788,0.0008205799533747077,0.0008194068601183283,0.0008181914821591096,0.0008169338413944509,0.000815633971974202,0.0008142919201653027,0.0008129077442078144,0.0008114815141625933,0.0008100133117508978,0.000808503230186209,0.0008069513739985704,0.0008053578588517725,0.0008037228113536948,0.0008020463688601593,0.0008003286792726273,0.000798569900830114,0.0007967702018956758,0.0007949297607378493,0.0007930487653074266,0.000791127413009946,0.0007891659104743032,0.0007871644733178745,0.0007851233259085541,0.0007830427011241159,0.000780922840109301,0.0007787639920310504,0.0007765664138322815,0.000774330369984626,0.0007720561322405374,0.00076974397938517,0.0007673941969884441,0.0007650070771576836,0.0007625829182912396,0.0007601220248334801,0.0007576247070315343,0.0007550912806941703,0.0007525220669531851,0.0007499173920276583,0.0007472775869914346,0.0007446029875441763,0.0007418939337863218,0.0007391507699982734,0.0007363738444241294,0.0007335635090602593,0.0007307201194490101,0.000727844034477821,0.0007249356161840054,0.0007219952295654434,0.000719023242397431,0.000716020025055878,0.0007129859503470866,0.0007099213933442676,0.0007068267312309848,0.0007037023431516683,0.0007005486100693344,0.0006973659146306396,0.0006941546410383577,0.0006909151749313715,0.0006876479032722489,0.0006843532142424436,0.0006810314971451635,0.0006776831423159145,0.0006743085410407115,0.0006709080854819537,0.0006674821686119029,0.000664031184153731,0.0006605555265300512,0.0006570555908188471,0.0006535317727166986,0.0006499844685091796,0.0006464140750482879,0.000642820989736759,0.0006392056105190942,0.0006355683358791183,0.000631909564843871,0.0006282296969936209,0.0006245291324777814,0.0006208082720364832,0.0006170675170275639,0.0006133072694587067,0.0006095279320244637,0.000605729908147869,0.0006019136020263712,0.0005980794186817599,0.0005942277640137945,0.0005903590448572159,0.0005864736690418069,0.0005825720454551879,0.0005786545841079981,0.0005747216962011324,0.0005707737941946815,0.0005668112918782382,0.0005628346044422119,0.000558844148549801,0.0005548403424092828,0.000550823605846248,0.0005467943603754498,0.000542753029271904,0.0005387000376408994,0.0005346358124865703,0.000530560782778691,0.0005264753795173608,0.0005223800357952366,0.0005182751868570024,0.0005141612701557487,0.0005100387254059455,0.0005059079946327203,0.0005017695222171318,0.0004976237549371603,0.0004934711420041376,0.0004893121350943523,0.0004851471883755713,0.0004809767585282417,0.00047680130476113257,0.000472621288821206,0.00046843717499750747,0.00046424943011888156,0.0004600585235453376,0.0004558649271528959,0.0004516691153117696,0.000447471564857737,0.00044327275505659443,0.0004390731675615748,0.00043487328636364277,0.00043067359773459507,0.0004264745901629008],\"yaxis\":\"y\",\"type\":\"scatter\"},{\"legendgroup\":\"Distribui\\u00e7\\u00e3o de vari\\u00e1vel  Max Discarga (Killo_watts)\",\"marker\":{\"color\":\"rgb(31, 119, 180)\",\"symbol\":\"line-ns-open\"},\"mode\":\"markers\",\"name\":\"Distribui\\u00e7\\u00e3o de vari\\u00e1vel  Max Discarga (Killo_watts)\",\"showlegend\":false,\"x\":[63.0,268.0,968.0,723.0,453.0,152.0,564.0,658.0,974.0,788.0,67.0,616.0,895.0,128.0,93.0,725.0,377.0,46.0,275.0,159.0,146.0,95.0,39.0,875.0,693.0,524.0,691.0,939.0,651.0,294.0,23.0,829.0,791.0,977.0,252.0,147.0,464.0,94.0,112.0,789.0,768.0,696.0,131.0,0.0,27.0,476.0,0.0,93.0,302.0,0.0,585.0,54.0,477.0,462.0,634.0,21.0,38.0,372.0,41.0],\"xaxis\":\"x\",\"y\":[\"Distribui\\u00e7\\u00e3o de vari\\u00e1vel  Max Discarga (Killo_watts)\",\"Distribui\\u00e7\\u00e3o de vari\\u00e1vel  Max Discarga (Killo_watts)\",\"Distribui\\u00e7\\u00e3o de vari\\u00e1vel  Max Discarga (Killo_watts)\",\"Distribui\\u00e7\\u00e3o de vari\\u00e1vel  Max Discarga (Killo_watts)\",\"Distribui\\u00e7\\u00e3o de vari\\u00e1vel  Max Discarga (Killo_watts)\",\"Distribui\\u00e7\\u00e3o de vari\\u00e1vel  Max Discarga (Killo_watts)\",\"Distribui\\u00e7\\u00e3o de vari\\u00e1vel  Max Discarga (Killo_watts)\",\"Distribui\\u00e7\\u00e3o de vari\\u00e1vel  Max Discarga (Killo_watts)\",\"Distribui\\u00e7\\u00e3o de vari\\u00e1vel  Max Discarga (Killo_watts)\",\"Distribui\\u00e7\\u00e3o de vari\\u00e1vel  Max Discarga (Killo_watts)\",\"Distribui\\u00e7\\u00e3o de vari\\u00e1vel  Max Discarga (Killo_watts)\",\"Distribui\\u00e7\\u00e3o de vari\\u00e1vel  Max Discarga (Killo_watts)\",\"Distribui\\u00e7\\u00e3o de vari\\u00e1vel  Max Discarga (Killo_watts)\",\"Distribui\\u00e7\\u00e3o de vari\\u00e1vel  Max Discarga (Killo_watts)\",\"Distribui\\u00e7\\u00e3o de vari\\u00e1vel  Max Discarga (Killo_watts)\",\"Distribui\\u00e7\\u00e3o de vari\\u00e1vel  Max Discarga (Killo_watts)\",\"Distribui\\u00e7\\u00e3o de vari\\u00e1vel  Max Discarga (Killo_watts)\",\"Distribui\\u00e7\\u00e3o de vari\\u00e1vel  Max Discarga (Killo_watts)\",\"Distribui\\u00e7\\u00e3o de vari\\u00e1vel  Max Discarga (Killo_watts)\",\"Distribui\\u00e7\\u00e3o de vari\\u00e1vel  Max Discarga (Killo_watts)\",\"Distribui\\u00e7\\u00e3o de vari\\u00e1vel  Max Discarga (Killo_watts)\",\"Distribui\\u00e7\\u00e3o de vari\\u00e1vel  Max Discarga (Killo_watts)\",\"Distribui\\u00e7\\u00e3o de vari\\u00e1vel  Max Discarga (Killo_watts)\",\"Distribui\\u00e7\\u00e3o de vari\\u00e1vel  Max Discarga (Killo_watts)\",\"Distribui\\u00e7\\u00e3o de vari\\u00e1vel  Max Discarga (Killo_watts)\",\"Distribui\\u00e7\\u00e3o de vari\\u00e1vel  Max Discarga (Killo_watts)\",\"Distribui\\u00e7\\u00e3o de vari\\u00e1vel  Max Discarga (Killo_watts)\",\"Distribui\\u00e7\\u00e3o de vari\\u00e1vel  Max Discarga (Killo_watts)\",\"Distribui\\u00e7\\u00e3o de vari\\u00e1vel  Max Discarga (Killo_watts)\",\"Distribui\\u00e7\\u00e3o de vari\\u00e1vel  Max Discarga (Killo_watts)\",\"Distribui\\u00e7\\u00e3o de vari\\u00e1vel  Max Discarga (Killo_watts)\",\"Distribui\\u00e7\\u00e3o de vari\\u00e1vel  Max Discarga (Killo_watts)\",\"Distribui\\u00e7\\u00e3o de vari\\u00e1vel  Max Discarga (Killo_watts)\",\"Distribui\\u00e7\\u00e3o de vari\\u00e1vel  Max Discarga (Killo_watts)\",\"Distribui\\u00e7\\u00e3o de vari\\u00e1vel  Max Discarga (Killo_watts)\",\"Distribui\\u00e7\\u00e3o de vari\\u00e1vel  Max Discarga (Killo_watts)\",\"Distribui\\u00e7\\u00e3o de vari\\u00e1vel  Max Discarga (Killo_watts)\",\"Distribui\\u00e7\\u00e3o de vari\\u00e1vel  Max Discarga (Killo_watts)\",\"Distribui\\u00e7\\u00e3o de vari\\u00e1vel  Max Discarga (Killo_watts)\",\"Distribui\\u00e7\\u00e3o de vari\\u00e1vel  Max Discarga (Killo_watts)\",\"Distribui\\u00e7\\u00e3o de vari\\u00e1vel  Max Discarga (Killo_watts)\",\"Distribui\\u00e7\\u00e3o de vari\\u00e1vel  Max Discarga (Killo_watts)\",\"Distribui\\u00e7\\u00e3o de vari\\u00e1vel  Max Discarga (Killo_watts)\",\"Distribui\\u00e7\\u00e3o de vari\\u00e1vel  Max Discarga (Killo_watts)\",\"Distribui\\u00e7\\u00e3o de vari\\u00e1vel  Max Discarga (Killo_watts)\",\"Distribui\\u00e7\\u00e3o de vari\\u00e1vel  Max Discarga (Killo_watts)\",\"Distribui\\u00e7\\u00e3o de vari\\u00e1vel  Max Discarga (Killo_watts)\",\"Distribui\\u00e7\\u00e3o de vari\\u00e1vel  Max Discarga (Killo_watts)\",\"Distribui\\u00e7\\u00e3o de vari\\u00e1vel  Max Discarga (Killo_watts)\",\"Distribui\\u00e7\\u00e3o de vari\\u00e1vel  Max Discarga (Killo_watts)\",\"Distribui\\u00e7\\u00e3o de vari\\u00e1vel  Max Discarga (Killo_watts)\",\"Distribui\\u00e7\\u00e3o de vari\\u00e1vel  Max Discarga (Killo_watts)\",\"Distribui\\u00e7\\u00e3o de vari\\u00e1vel  Max Discarga (Killo_watts)\",\"Distribui\\u00e7\\u00e3o de vari\\u00e1vel  Max Discarga (Killo_watts)\",\"Distribui\\u00e7\\u00e3o de vari\\u00e1vel  Max Discarga (Killo_watts)\",\"Distribui\\u00e7\\u00e3o de vari\\u00e1vel  Max Discarga (Killo_watts)\",\"Distribui\\u00e7\\u00e3o de vari\\u00e1vel  Max Discarga (Killo_watts)\",\"Distribui\\u00e7\\u00e3o de vari\\u00e1vel  Max Discarga (Killo_watts)\",\"Distribui\\u00e7\\u00e3o de vari\\u00e1vel  Max Discarga (Killo_watts)\"],\"yaxis\":\"y2\",\"type\":\"scatter\"}],                        {\"barmode\":\"overlay\",\"hovermode\":\"closest\",\"legend\":{\"traceorder\":\"reversed\"},\"xaxis\":{\"anchor\":\"y2\",\"domain\":[0.0,1.0],\"zeroline\":false},\"yaxis\":{\"anchor\":\"free\",\"domain\":[0.35,1],\"position\":0.0},\"yaxis2\":{\"anchor\":\"x\",\"domain\":[0,0.25],\"dtick\":1,\"showticklabels\":false},\"template\":{\"data\":{\"histogram2dcontour\":[{\"type\":\"histogram2dcontour\",\"colorbar\":{\"outlinewidth\":0,\"ticks\":\"\"},\"colorscale\":[[0.0,\"#0d0887\"],[0.1111111111111111,\"#46039f\"],[0.2222222222222222,\"#7201a8\"],[0.3333333333333333,\"#9c179e\"],[0.4444444444444444,\"#bd3786\"],[0.5555555555555556,\"#d8576b\"],[0.6666666666666666,\"#ed7953\"],[0.7777777777777778,\"#fb9f3a\"],[0.8888888888888888,\"#fdca26\"],[1.0,\"#f0f921\"]]}],\"choropleth\":[{\"type\":\"choropleth\",\"colorbar\":{\"outlinewidth\":0,\"ticks\":\"\"}}],\"histogram2d\":[{\"type\":\"histogram2d\",\"colorbar\":{\"outlinewidth\":0,\"ticks\":\"\"},\"colorscale\":[[0.0,\"#0d0887\"],[0.1111111111111111,\"#46039f\"],[0.2222222222222222,\"#7201a8\"],[0.3333333333333333,\"#9c179e\"],[0.4444444444444444,\"#bd3786\"],[0.5555555555555556,\"#d8576b\"],[0.6666666666666666,\"#ed7953\"],[0.7777777777777778,\"#fb9f3a\"],[0.8888888888888888,\"#fdca26\"],[1.0,\"#f0f921\"]]}],\"heatmap\":[{\"type\":\"heatmap\",\"colorbar\":{\"outlinewidth\":0,\"ticks\":\"\"},\"colorscale\":[[0.0,\"#0d0887\"],[0.1111111111111111,\"#46039f\"],[0.2222222222222222,\"#7201a8\"],[0.3333333333333333,\"#9c179e\"],[0.4444444444444444,\"#bd3786\"],[0.5555555555555556,\"#d8576b\"],[0.6666666666666666,\"#ed7953\"],[0.7777777777777778,\"#fb9f3a\"],[0.8888888888888888,\"#fdca26\"],[1.0,\"#f0f921\"]]}],\"heatmapgl\":[{\"type\":\"heatmapgl\",\"colorbar\":{\"outlinewidth\":0,\"ticks\":\"\"},\"colorscale\":[[0.0,\"#0d0887\"],[0.1111111111111111,\"#46039f\"],[0.2222222222222222,\"#7201a8\"],[0.3333333333333333,\"#9c179e\"],[0.4444444444444444,\"#bd3786\"],[0.5555555555555556,\"#d8576b\"],[0.6666666666666666,\"#ed7953\"],[0.7777777777777778,\"#fb9f3a\"],[0.8888888888888888,\"#fdca26\"],[1.0,\"#f0f921\"]]}],\"contourcarpet\":[{\"type\":\"contourcarpet\",\"colorbar\":{\"outlinewidth\":0,\"ticks\":\"\"}}],\"contour\":[{\"type\":\"contour\",\"colorbar\":{\"outlinewidth\":0,\"ticks\":\"\"},\"colorscale\":[[0.0,\"#0d0887\"],[0.1111111111111111,\"#46039f\"],[0.2222222222222222,\"#7201a8\"],[0.3333333333333333,\"#9c179e\"],[0.4444444444444444,\"#bd3786\"],[0.5555555555555556,\"#d8576b\"],[0.6666666666666666,\"#ed7953\"],[0.7777777777777778,\"#fb9f3a\"],[0.8888888888888888,\"#fdca26\"],[1.0,\"#f0f921\"]]}],\"surface\":[{\"type\":\"surface\",\"colorbar\":{\"outlinewidth\":0,\"ticks\":\"\"},\"colorscale\":[[0.0,\"#0d0887\"],[0.1111111111111111,\"#46039f\"],[0.2222222222222222,\"#7201a8\"],[0.3333333333333333,\"#9c179e\"],[0.4444444444444444,\"#bd3786\"],[0.5555555555555556,\"#d8576b\"],[0.6666666666666666,\"#ed7953\"],[0.7777777777777778,\"#fb9f3a\"],[0.8888888888888888,\"#fdca26\"],[1.0,\"#f0f921\"]]}],\"mesh3d\":[{\"type\":\"mesh3d\",\"colorbar\":{\"outlinewidth\":0,\"ticks\":\"\"}}],\"scatter\":[{\"fillpattern\":{\"fillmode\":\"overlay\",\"size\":10,\"solidity\":0.2},\"type\":\"scatter\"}],\"parcoords\":[{\"type\":\"parcoords\",\"line\":{\"colorbar\":{\"outlinewidth\":0,\"ticks\":\"\"}}}],\"scatterpolargl\":[{\"type\":\"scatterpolargl\",\"marker\":{\"colorbar\":{\"outlinewidth\":0,\"ticks\":\"\"}}}],\"bar\":[{\"error_x\":{\"color\":\"#2a3f5f\"},\"error_y\":{\"color\":\"#2a3f5f\"},\"marker\":{\"line\":{\"color\":\"#E5ECF6\",\"width\":0.5},\"pattern\":{\"fillmode\":\"overlay\",\"size\":10,\"solidity\":0.2}},\"type\":\"bar\"}],\"scattergeo\":[{\"type\":\"scattergeo\",\"marker\":{\"colorbar\":{\"outlinewidth\":0,\"ticks\":\"\"}}}],\"scatterpolar\":[{\"type\":\"scatterpolar\",\"marker\":{\"colorbar\":{\"outlinewidth\":0,\"ticks\":\"\"}}}],\"histogram\":[{\"marker\":{\"pattern\":{\"fillmode\":\"overlay\",\"size\":10,\"solidity\":0.2}},\"type\":\"histogram\"}],\"scattergl\":[{\"type\":\"scattergl\",\"marker\":{\"colorbar\":{\"outlinewidth\":0,\"ticks\":\"\"}}}],\"scatter3d\":[{\"type\":\"scatter3d\",\"line\":{\"colorbar\":{\"outlinewidth\":0,\"ticks\":\"\"}},\"marker\":{\"colorbar\":{\"outlinewidth\":0,\"ticks\":\"\"}}}],\"scattermapbox\":[{\"type\":\"scattermapbox\",\"marker\":{\"colorbar\":{\"outlinewidth\":0,\"ticks\":\"\"}}}],\"scatterternary\":[{\"type\":\"scatterternary\",\"marker\":{\"colorbar\":{\"outlinewidth\":0,\"ticks\":\"\"}}}],\"scattercarpet\":[{\"type\":\"scattercarpet\",\"marker\":{\"colorbar\":{\"outlinewidth\":0,\"ticks\":\"\"}}}],\"carpet\":[{\"aaxis\":{\"endlinecolor\":\"#2a3f5f\",\"gridcolor\":\"white\",\"linecolor\":\"white\",\"minorgridcolor\":\"white\",\"startlinecolor\":\"#2a3f5f\"},\"baxis\":{\"endlinecolor\":\"#2a3f5f\",\"gridcolor\":\"white\",\"linecolor\":\"white\",\"minorgridcolor\":\"white\",\"startlinecolor\":\"#2a3f5f\"},\"type\":\"carpet\"}],\"table\":[{\"cells\":{\"fill\":{\"color\":\"#EBF0F8\"},\"line\":{\"color\":\"white\"}},\"header\":{\"fill\":{\"color\":\"#C8D4E3\"},\"line\":{\"color\":\"white\"}},\"type\":\"table\"}],\"barpolar\":[{\"marker\":{\"line\":{\"color\":\"#E5ECF6\",\"width\":0.5},\"pattern\":{\"fillmode\":\"overlay\",\"size\":10,\"solidity\":0.2}},\"type\":\"barpolar\"}],\"pie\":[{\"automargin\":true,\"type\":\"pie\"}]},\"layout\":{\"autotypenumbers\":\"strict\",\"colorway\":[\"#636efa\",\"#EF553B\",\"#00cc96\",\"#ab63fa\",\"#FFA15A\",\"#19d3f3\",\"#FF6692\",\"#B6E880\",\"#FF97FF\",\"#FECB52\"],\"font\":{\"color\":\"#2a3f5f\"},\"hovermode\":\"closest\",\"hoverlabel\":{\"align\":\"left\"},\"paper_bgcolor\":\"white\",\"plot_bgcolor\":\"#E5ECF6\",\"polar\":{\"bgcolor\":\"#E5ECF6\",\"angularaxis\":{\"gridcolor\":\"white\",\"linecolor\":\"white\",\"ticks\":\"\"},\"radialaxis\":{\"gridcolor\":\"white\",\"linecolor\":\"white\",\"ticks\":\"\"}},\"ternary\":{\"bgcolor\":\"#E5ECF6\",\"aaxis\":{\"gridcolor\":\"white\",\"linecolor\":\"white\",\"ticks\":\"\"},\"baxis\":{\"gridcolor\":\"white\",\"linecolor\":\"white\",\"ticks\":\"\"},\"caxis\":{\"gridcolor\":\"white\",\"linecolor\":\"white\",\"ticks\":\"\"}},\"coloraxis\":{\"colorbar\":{\"outlinewidth\":0,\"ticks\":\"\"}},\"colorscale\":{\"sequential\":[[0.0,\"#0d0887\"],[0.1111111111111111,\"#46039f\"],[0.2222222222222222,\"#7201a8\"],[0.3333333333333333,\"#9c179e\"],[0.4444444444444444,\"#bd3786\"],[0.5555555555555556,\"#d8576b\"],[0.6666666666666666,\"#ed7953\"],[0.7777777777777778,\"#fb9f3a\"],[0.8888888888888888,\"#fdca26\"],[1.0,\"#f0f921\"]],\"sequentialminus\":[[0.0,\"#0d0887\"],[0.1111111111111111,\"#46039f\"],[0.2222222222222222,\"#7201a8\"],[0.3333333333333333,\"#9c179e\"],[0.4444444444444444,\"#bd3786\"],[0.5555555555555556,\"#d8576b\"],[0.6666666666666666,\"#ed7953\"],[0.7777777777777778,\"#fb9f3a\"],[0.8888888888888888,\"#fdca26\"],[1.0,\"#f0f921\"]],\"diverging\":[[0,\"#8e0152\"],[0.1,\"#c51b7d\"],[0.2,\"#de77ae\"],[0.3,\"#f1b6da\"],[0.4,\"#fde0ef\"],[0.5,\"#f7f7f7\"],[0.6,\"#e6f5d0\"],[0.7,\"#b8e186\"],[0.8,\"#7fbc41\"],[0.9,\"#4d9221\"],[1,\"#276419\"]]},\"xaxis\":{\"gridcolor\":\"white\",\"linecolor\":\"white\",\"ticks\":\"\",\"title\":{\"standoff\":15},\"zerolinecolor\":\"white\",\"automargin\":true,\"zerolinewidth\":2},\"yaxis\":{\"gridcolor\":\"white\",\"linecolor\":\"white\",\"ticks\":\"\",\"title\":{\"standoff\":15},\"zerolinecolor\":\"white\",\"automargin\":true,\"zerolinewidth\":2},\"scene\":{\"xaxis\":{\"backgroundcolor\":\"#E5ECF6\",\"gridcolor\":\"white\",\"linecolor\":\"white\",\"showbackground\":true,\"ticks\":\"\",\"zerolinecolor\":\"white\",\"gridwidth\":2},\"yaxis\":{\"backgroundcolor\":\"#E5ECF6\",\"gridcolor\":\"white\",\"linecolor\":\"white\",\"showbackground\":true,\"ticks\":\"\",\"zerolinecolor\":\"white\",\"gridwidth\":2},\"zaxis\":{\"backgroundcolor\":\"#E5ECF6\",\"gridcolor\":\"white\",\"linecolor\":\"white\",\"showbackground\":true,\"ticks\":\"\",\"zerolinecolor\":\"white\",\"gridwidth\":2}},\"shapedefaults\":{\"line\":{\"color\":\"#2a3f5f\"}},\"annotationdefaults\":{\"arrowcolor\":\"#2a3f5f\",\"arrowhead\":0,\"arrowwidth\":1},\"geo\":{\"bgcolor\":\"white\",\"landcolor\":\"#E5ECF6\",\"subunitcolor\":\"white\",\"showland\":true,\"showlakes\":true,\"lakecolor\":\"white\"},\"title\":{\"x\":0.05},\"mapbox\":{\"style\":\"light\"}}}},                        {\"responsive\": true}                    ).then(function(){\n",
              "                            \n",
              "var gd = document.getElementById('0b684684-e1b5-4b38-8287-64678a068146');\n",
              "var x = new MutationObserver(function (mutations, observer) {{\n",
              "        var display = window.getComputedStyle(gd).display;\n",
              "        if (!display || display === 'none') {{\n",
              "            console.log([gd, 'removed!']);\n",
              "            Plotly.purge(gd);\n",
              "            observer.disconnect();\n",
              "        }}\n",
              "}});\n",
              "\n",
              "// Listen for the removal of the full notebook cells\n",
              "var notebookContainer = gd.closest('#notebook-container');\n",
              "if (notebookContainer) {{\n",
              "    x.observe(notebookContainer, {childList: true});\n",
              "}}\n",
              "\n",
              "// Listen for the clearing of the current output cell\n",
              "var outputEl = gd.closest('.output');\n",
              "if (outputEl) {{\n",
              "    x.observe(outputEl, {childList: true});\n",
              "}}\n",
              "\n",
              "                        })                };                            </script>        </div>\n",
              "</body>\n",
              "</html>"
            ]
          },
          "metadata": {}
        }
      ]
    },
    {
      "cell_type": "code",
      "source": [
        "from scipy import stats\n",
        "stats.skew(data['Charge KWh'])"
      ],
      "metadata": {
        "id": "mRCzjxyrd2_I",
        "colab": {
          "base_uri": "https://localhost:8080/"
        },
        "outputId": "0c55a442-6425-48a6-8f66-845785ff47ca"
      },
      "execution_count": 23,
      "outputs": [
        {
          "output_type": "execute_result",
          "data": {
            "text/plain": [
              "0.29565762117093936"
            ]
          },
          "metadata": {},
          "execution_count": 23
        }
      ]
    },
    {
      "cell_type": "code",
      "source": [
        "#Histograma da variável Charge Kwh\n",
        "fig = px.histogram(data, x= \"Max Discharge Curr.(A)\", nbins=50, opacity=0.50)\n",
        "fig.show()"
      ],
      "metadata": {
        "id": "3ZU0HXhFhFNG",
        "colab": {
          "base_uri": "https://localhost:8080/",
          "height": 542
        },
        "outputId": "b23ed511-877b-40f7-da22-6931891e200c"
      },
      "execution_count": 24,
      "outputs": [
        {
          "output_type": "display_data",
          "data": {
            "text/html": [
              "<html>\n",
              "<head><meta charset=\"utf-8\" /></head>\n",
              "<body>\n",
              "    <div>            <script src=\"https://cdnjs.cloudflare.com/ajax/libs/mathjax/2.7.5/MathJax.js?config=TeX-AMS-MML_SVG\"></script><script type=\"text/javascript\">if (window.MathJax && window.MathJax.Hub && window.MathJax.Hub.Config) {window.MathJax.Hub.Config({SVG: {font: \"STIX-Web\"}});}</script>                <script type=\"text/javascript\">window.PlotlyConfig = {MathJaxConfig: 'local'};</script>\n",
              "        <script src=\"https://cdn.plot.ly/plotly-2.18.2.min.js\"></script>                <div id=\"d89462e1-a762-4193-9b70-2abbd4bd7429\" class=\"plotly-graph-div\" style=\"height:525px; width:100%;\"></div>            <script type=\"text/javascript\">                                    window.PLOTLYENV=window.PLOTLYENV || {};                                    if (document.getElementById(\"d89462e1-a762-4193-9b70-2abbd4bd7429\")) {                    Plotly.newPlot(                        \"d89462e1-a762-4193-9b70-2abbd4bd7429\",                        [{\"alignmentgroup\":\"True\",\"bingroup\":\"x\",\"hovertemplate\":\"Max Discharge Curr.(A)=%{x}<br>count=%{y}<extra></extra>\",\"legendgroup\":\"\",\"marker\":{\"color\":\"#636efa\",\"opacity\":0.5,\"pattern\":{\"shape\":\"\"}},\"name\":\"\",\"nbinsx\":50,\"offsetgroup\":\"\",\"orientation\":\"v\",\"showlegend\":false,\"x\":[944.0,899.0,901.0,1070.0,1005.0,1062.0,146.0,1238.0,887.0,947.0,1037.0,849.0,1050.0,1071.0,1000.0,487.0,1175.0,1169.0,783.0,718.0,676.0,649.0,714.0,780.0,729.0,802.0,967.0,933.0,1052.0,625.0,992.0,923.0,935.0,998.0,1061.0,942.0,702.0,998.0,93.0,247.0,786.0,644.0,734.0,36.0,985.0,924.0,1.0,1032.0,777.0,48.0,512.0,459.0,863.0,831.0,934.0,905.0,619.0,827.0,253.0],\"xaxis\":\"x\",\"yaxis\":\"y\",\"type\":\"histogram\"}],                        {\"template\":{\"data\":{\"histogram2dcontour\":[{\"type\":\"histogram2dcontour\",\"colorbar\":{\"outlinewidth\":0,\"ticks\":\"\"},\"colorscale\":[[0.0,\"#0d0887\"],[0.1111111111111111,\"#46039f\"],[0.2222222222222222,\"#7201a8\"],[0.3333333333333333,\"#9c179e\"],[0.4444444444444444,\"#bd3786\"],[0.5555555555555556,\"#d8576b\"],[0.6666666666666666,\"#ed7953\"],[0.7777777777777778,\"#fb9f3a\"],[0.8888888888888888,\"#fdca26\"],[1.0,\"#f0f921\"]]}],\"choropleth\":[{\"type\":\"choropleth\",\"colorbar\":{\"outlinewidth\":0,\"ticks\":\"\"}}],\"histogram2d\":[{\"type\":\"histogram2d\",\"colorbar\":{\"outlinewidth\":0,\"ticks\":\"\"},\"colorscale\":[[0.0,\"#0d0887\"],[0.1111111111111111,\"#46039f\"],[0.2222222222222222,\"#7201a8\"],[0.3333333333333333,\"#9c179e\"],[0.4444444444444444,\"#bd3786\"],[0.5555555555555556,\"#d8576b\"],[0.6666666666666666,\"#ed7953\"],[0.7777777777777778,\"#fb9f3a\"],[0.8888888888888888,\"#fdca26\"],[1.0,\"#f0f921\"]]}],\"heatmap\":[{\"type\":\"heatmap\",\"colorbar\":{\"outlinewidth\":0,\"ticks\":\"\"},\"colorscale\":[[0.0,\"#0d0887\"],[0.1111111111111111,\"#46039f\"],[0.2222222222222222,\"#7201a8\"],[0.3333333333333333,\"#9c179e\"],[0.4444444444444444,\"#bd3786\"],[0.5555555555555556,\"#d8576b\"],[0.6666666666666666,\"#ed7953\"],[0.7777777777777778,\"#fb9f3a\"],[0.8888888888888888,\"#fdca26\"],[1.0,\"#f0f921\"]]}],\"heatmapgl\":[{\"type\":\"heatmapgl\",\"colorbar\":{\"outlinewidth\":0,\"ticks\":\"\"},\"colorscale\":[[0.0,\"#0d0887\"],[0.1111111111111111,\"#46039f\"],[0.2222222222222222,\"#7201a8\"],[0.3333333333333333,\"#9c179e\"],[0.4444444444444444,\"#bd3786\"],[0.5555555555555556,\"#d8576b\"],[0.6666666666666666,\"#ed7953\"],[0.7777777777777778,\"#fb9f3a\"],[0.8888888888888888,\"#fdca26\"],[1.0,\"#f0f921\"]]}],\"contourcarpet\":[{\"type\":\"contourcarpet\",\"colorbar\":{\"outlinewidth\":0,\"ticks\":\"\"}}],\"contour\":[{\"type\":\"contour\",\"colorbar\":{\"outlinewidth\":0,\"ticks\":\"\"},\"colorscale\":[[0.0,\"#0d0887\"],[0.1111111111111111,\"#46039f\"],[0.2222222222222222,\"#7201a8\"],[0.3333333333333333,\"#9c179e\"],[0.4444444444444444,\"#bd3786\"],[0.5555555555555556,\"#d8576b\"],[0.6666666666666666,\"#ed7953\"],[0.7777777777777778,\"#fb9f3a\"],[0.8888888888888888,\"#fdca26\"],[1.0,\"#f0f921\"]]}],\"surface\":[{\"type\":\"surface\",\"colorbar\":{\"outlinewidth\":0,\"ticks\":\"\"},\"colorscale\":[[0.0,\"#0d0887\"],[0.1111111111111111,\"#46039f\"],[0.2222222222222222,\"#7201a8\"],[0.3333333333333333,\"#9c179e\"],[0.4444444444444444,\"#bd3786\"],[0.5555555555555556,\"#d8576b\"],[0.6666666666666666,\"#ed7953\"],[0.7777777777777778,\"#fb9f3a\"],[0.8888888888888888,\"#fdca26\"],[1.0,\"#f0f921\"]]}],\"mesh3d\":[{\"type\":\"mesh3d\",\"colorbar\":{\"outlinewidth\":0,\"ticks\":\"\"}}],\"scatter\":[{\"fillpattern\":{\"fillmode\":\"overlay\",\"size\":10,\"solidity\":0.2},\"type\":\"scatter\"}],\"parcoords\":[{\"type\":\"parcoords\",\"line\":{\"colorbar\":{\"outlinewidth\":0,\"ticks\":\"\"}}}],\"scatterpolargl\":[{\"type\":\"scatterpolargl\",\"marker\":{\"colorbar\":{\"outlinewidth\":0,\"ticks\":\"\"}}}],\"bar\":[{\"error_x\":{\"color\":\"#2a3f5f\"},\"error_y\":{\"color\":\"#2a3f5f\"},\"marker\":{\"line\":{\"color\":\"#E5ECF6\",\"width\":0.5},\"pattern\":{\"fillmode\":\"overlay\",\"size\":10,\"solidity\":0.2}},\"type\":\"bar\"}],\"scattergeo\":[{\"type\":\"scattergeo\",\"marker\":{\"colorbar\":{\"outlinewidth\":0,\"ticks\":\"\"}}}],\"scatterpolar\":[{\"type\":\"scatterpolar\",\"marker\":{\"colorbar\":{\"outlinewidth\":0,\"ticks\":\"\"}}}],\"histogram\":[{\"marker\":{\"pattern\":{\"fillmode\":\"overlay\",\"size\":10,\"solidity\":0.2}},\"type\":\"histogram\"}],\"scattergl\":[{\"type\":\"scattergl\",\"marker\":{\"colorbar\":{\"outlinewidth\":0,\"ticks\":\"\"}}}],\"scatter3d\":[{\"type\":\"scatter3d\",\"line\":{\"colorbar\":{\"outlinewidth\":0,\"ticks\":\"\"}},\"marker\":{\"colorbar\":{\"outlinewidth\":0,\"ticks\":\"\"}}}],\"scattermapbox\":[{\"type\":\"scattermapbox\",\"marker\":{\"colorbar\":{\"outlinewidth\":0,\"ticks\":\"\"}}}],\"scatterternary\":[{\"type\":\"scatterternary\",\"marker\":{\"colorbar\":{\"outlinewidth\":0,\"ticks\":\"\"}}}],\"scattercarpet\":[{\"type\":\"scattercarpet\",\"marker\":{\"colorbar\":{\"outlinewidth\":0,\"ticks\":\"\"}}}],\"carpet\":[{\"aaxis\":{\"endlinecolor\":\"#2a3f5f\",\"gridcolor\":\"white\",\"linecolor\":\"white\",\"minorgridcolor\":\"white\",\"startlinecolor\":\"#2a3f5f\"},\"baxis\":{\"endlinecolor\":\"#2a3f5f\",\"gridcolor\":\"white\",\"linecolor\":\"white\",\"minorgridcolor\":\"white\",\"startlinecolor\":\"#2a3f5f\"},\"type\":\"carpet\"}],\"table\":[{\"cells\":{\"fill\":{\"color\":\"#EBF0F8\"},\"line\":{\"color\":\"white\"}},\"header\":{\"fill\":{\"color\":\"#C8D4E3\"},\"line\":{\"color\":\"white\"}},\"type\":\"table\"}],\"barpolar\":[{\"marker\":{\"line\":{\"color\":\"#E5ECF6\",\"width\":0.5},\"pattern\":{\"fillmode\":\"overlay\",\"size\":10,\"solidity\":0.2}},\"type\":\"barpolar\"}],\"pie\":[{\"automargin\":true,\"type\":\"pie\"}]},\"layout\":{\"autotypenumbers\":\"strict\",\"colorway\":[\"#636efa\",\"#EF553B\",\"#00cc96\",\"#ab63fa\",\"#FFA15A\",\"#19d3f3\",\"#FF6692\",\"#B6E880\",\"#FF97FF\",\"#FECB52\"],\"font\":{\"color\":\"#2a3f5f\"},\"hovermode\":\"closest\",\"hoverlabel\":{\"align\":\"left\"},\"paper_bgcolor\":\"white\",\"plot_bgcolor\":\"#E5ECF6\",\"polar\":{\"bgcolor\":\"#E5ECF6\",\"angularaxis\":{\"gridcolor\":\"white\",\"linecolor\":\"white\",\"ticks\":\"\"},\"radialaxis\":{\"gridcolor\":\"white\",\"linecolor\":\"white\",\"ticks\":\"\"}},\"ternary\":{\"bgcolor\":\"#E5ECF6\",\"aaxis\":{\"gridcolor\":\"white\",\"linecolor\":\"white\",\"ticks\":\"\"},\"baxis\":{\"gridcolor\":\"white\",\"linecolor\":\"white\",\"ticks\":\"\"},\"caxis\":{\"gridcolor\":\"white\",\"linecolor\":\"white\",\"ticks\":\"\"}},\"coloraxis\":{\"colorbar\":{\"outlinewidth\":0,\"ticks\":\"\"}},\"colorscale\":{\"sequential\":[[0.0,\"#0d0887\"],[0.1111111111111111,\"#46039f\"],[0.2222222222222222,\"#7201a8\"],[0.3333333333333333,\"#9c179e\"],[0.4444444444444444,\"#bd3786\"],[0.5555555555555556,\"#d8576b\"],[0.6666666666666666,\"#ed7953\"],[0.7777777777777778,\"#fb9f3a\"],[0.8888888888888888,\"#fdca26\"],[1.0,\"#f0f921\"]],\"sequentialminus\":[[0.0,\"#0d0887\"],[0.1111111111111111,\"#46039f\"],[0.2222222222222222,\"#7201a8\"],[0.3333333333333333,\"#9c179e\"],[0.4444444444444444,\"#bd3786\"],[0.5555555555555556,\"#d8576b\"],[0.6666666666666666,\"#ed7953\"],[0.7777777777777778,\"#fb9f3a\"],[0.8888888888888888,\"#fdca26\"],[1.0,\"#f0f921\"]],\"diverging\":[[0,\"#8e0152\"],[0.1,\"#c51b7d\"],[0.2,\"#de77ae\"],[0.3,\"#f1b6da\"],[0.4,\"#fde0ef\"],[0.5,\"#f7f7f7\"],[0.6,\"#e6f5d0\"],[0.7,\"#b8e186\"],[0.8,\"#7fbc41\"],[0.9,\"#4d9221\"],[1,\"#276419\"]]},\"xaxis\":{\"gridcolor\":\"white\",\"linecolor\":\"white\",\"ticks\":\"\",\"title\":{\"standoff\":15},\"zerolinecolor\":\"white\",\"automargin\":true,\"zerolinewidth\":2},\"yaxis\":{\"gridcolor\":\"white\",\"linecolor\":\"white\",\"ticks\":\"\",\"title\":{\"standoff\":15},\"zerolinecolor\":\"white\",\"automargin\":true,\"zerolinewidth\":2},\"scene\":{\"xaxis\":{\"backgroundcolor\":\"#E5ECF6\",\"gridcolor\":\"white\",\"linecolor\":\"white\",\"showbackground\":true,\"ticks\":\"\",\"zerolinecolor\":\"white\",\"gridwidth\":2},\"yaxis\":{\"backgroundcolor\":\"#E5ECF6\",\"gridcolor\":\"white\",\"linecolor\":\"white\",\"showbackground\":true,\"ticks\":\"\",\"zerolinecolor\":\"white\",\"gridwidth\":2},\"zaxis\":{\"backgroundcolor\":\"#E5ECF6\",\"gridcolor\":\"white\",\"linecolor\":\"white\",\"showbackground\":true,\"ticks\":\"\",\"zerolinecolor\":\"white\",\"gridwidth\":2}},\"shapedefaults\":{\"line\":{\"color\":\"#2a3f5f\"}},\"annotationdefaults\":{\"arrowcolor\":\"#2a3f5f\",\"arrowhead\":0,\"arrowwidth\":1},\"geo\":{\"bgcolor\":\"white\",\"landcolor\":\"#E5ECF6\",\"subunitcolor\":\"white\",\"showland\":true,\"showlakes\":true,\"lakecolor\":\"white\"},\"title\":{\"x\":0.05},\"mapbox\":{\"style\":\"light\"}}},\"xaxis\":{\"anchor\":\"y\",\"domain\":[0.0,1.0],\"title\":{\"text\":\"Max Discharge Curr.(A)\"}},\"yaxis\":{\"anchor\":\"x\",\"domain\":[0.0,1.0],\"title\":{\"text\":\"count\"}},\"legend\":{\"tracegroupgap\":0},\"margin\":{\"t\":60},\"barmode\":\"relative\"},                        {\"responsive\": true}                    ).then(function(){\n",
              "                            \n",
              "var gd = document.getElementById('d89462e1-a762-4193-9b70-2abbd4bd7429');\n",
              "var x = new MutationObserver(function (mutations, observer) {{\n",
              "        var display = window.getComputedStyle(gd).display;\n",
              "        if (!display || display === 'none') {{\n",
              "            console.log([gd, 'removed!']);\n",
              "            Plotly.purge(gd);\n",
              "            observer.disconnect();\n",
              "        }}\n",
              "}});\n",
              "\n",
              "// Listen for the removal of the full notebook cells\n",
              "var notebookContainer = gd.closest('#notebook-container');\n",
              "if (notebookContainer) {{\n",
              "    x.observe(notebookContainer, {childList: true});\n",
              "}}\n",
              "\n",
              "// Listen for the clearing of the current output cell\n",
              "var outputEl = gd.closest('.output');\n",
              "if (outputEl) {{\n",
              "    x.observe(outputEl, {childList: true});\n",
              "}}\n",
              "\n",
              "                        })                };                            </script>        </div>\n",
              "</body>\n",
              "</html>"
            ]
          },
          "metadata": {}
        }
      ]
    },
    {
      "cell_type": "code",
      "source": [
        "data.columns"
      ],
      "metadata": {
        "colab": {
          "base_uri": "https://localhost:8080/"
        },
        "id": "-7kbz4Bl3Mf6",
        "outputId": "bb53f526-e54a-4536-ab2b-e34b242f0cda"
      },
      "execution_count": 27,
      "outputs": [
        {
          "output_type": "execute_result",
          "data": {
            "text/plain": [
              "Index(['Days Ago', 'Min Battery Volt.(V)', 'Max Discharge Curr.(A)',\n",
              "       'Max Discharge Power(W)', 'Discharge Ah', 'Charge KWh'],\n",
              "      dtype='object')"
            ]
          },
          "metadata": {},
          "execution_count": 27
        }
      ]
    },
    {
      "cell_type": "code",
      "source": [
        "#Visualizando outliers na Variável Carga\n",
        "import plotly.express as px\n",
        "\n",
        "fig = px.box(data, y='Charge KWh')\n",
        "fig.update_layout(width= 800, height= 800)\n",
        "fig.show()"
      ],
      "metadata": {
        "colab": {
          "base_uri": "https://localhost:8080/",
          "height": 817
        },
        "id": "Wqd7o9yniMAr",
        "outputId": "784b011d-49c0-4504-ccb1-653d21503fb3"
      },
      "execution_count": 32,
      "outputs": [
        {
          "output_type": "display_data",
          "data": {
            "text/html": [
              "<html>\n",
              "<head><meta charset=\"utf-8\" /></head>\n",
              "<body>\n",
              "    <div>            <script src=\"https://cdnjs.cloudflare.com/ajax/libs/mathjax/2.7.5/MathJax.js?config=TeX-AMS-MML_SVG\"></script><script type=\"text/javascript\">if (window.MathJax && window.MathJax.Hub && window.MathJax.Hub.Config) {window.MathJax.Hub.Config({SVG: {font: \"STIX-Web\"}});}</script>                <script type=\"text/javascript\">window.PlotlyConfig = {MathJaxConfig: 'local'};</script>\n",
              "        <script src=\"https://cdn.plot.ly/plotly-2.18.2.min.js\"></script>                <div id=\"fd358734-2c41-451c-b7a9-909e0553c205\" class=\"plotly-graph-div\" style=\"height:800px; width:800px;\"></div>            <script type=\"text/javascript\">                                    window.PLOTLYENV=window.PLOTLYENV || {};                                    if (document.getElementById(\"fd358734-2c41-451c-b7a9-909e0553c205\")) {                    Plotly.newPlot(                        \"fd358734-2c41-451c-b7a9-909e0553c205\",                        [{\"alignmentgroup\":\"True\",\"hovertemplate\":\"Charge KWh=%{y}<extra></extra>\",\"legendgroup\":\"\",\"marker\":{\"color\":\"#636efa\"},\"name\":\"\",\"notched\":false,\"offsetgroup\":\"\",\"orientation\":\"v\",\"showlegend\":false,\"x0\":\" \",\"xaxis\":\"x\",\"y\":[63.0,268.0,968.0,723.0,453.0,152.0,564.0,658.0,974.0,788.0,67.0,616.0,895.0,128.0,93.0,725.0,377.0,46.0,275.0,159.0,146.0,95.0,39.0,875.0,693.0,524.0,691.0,939.0,651.0,294.0,23.0,829.0,791.0,977.0,252.0,147.0,464.0,94.0,112.0,789.0,768.0,696.0,131.0,0.0,27.0,476.0,0.0,93.0,302.0,0.0,585.0,54.0,477.0,462.0,634.0,21.0,38.0,372.0,41.0],\"y0\":\" \",\"yaxis\":\"y\",\"type\":\"box\"}],                        {\"template\":{\"data\":{\"histogram2dcontour\":[{\"type\":\"histogram2dcontour\",\"colorbar\":{\"outlinewidth\":0,\"ticks\":\"\"},\"colorscale\":[[0.0,\"#0d0887\"],[0.1111111111111111,\"#46039f\"],[0.2222222222222222,\"#7201a8\"],[0.3333333333333333,\"#9c179e\"],[0.4444444444444444,\"#bd3786\"],[0.5555555555555556,\"#d8576b\"],[0.6666666666666666,\"#ed7953\"],[0.7777777777777778,\"#fb9f3a\"],[0.8888888888888888,\"#fdca26\"],[1.0,\"#f0f921\"]]}],\"choropleth\":[{\"type\":\"choropleth\",\"colorbar\":{\"outlinewidth\":0,\"ticks\":\"\"}}],\"histogram2d\":[{\"type\":\"histogram2d\",\"colorbar\":{\"outlinewidth\":0,\"ticks\":\"\"},\"colorscale\":[[0.0,\"#0d0887\"],[0.1111111111111111,\"#46039f\"],[0.2222222222222222,\"#7201a8\"],[0.3333333333333333,\"#9c179e\"],[0.4444444444444444,\"#bd3786\"],[0.5555555555555556,\"#d8576b\"],[0.6666666666666666,\"#ed7953\"],[0.7777777777777778,\"#fb9f3a\"],[0.8888888888888888,\"#fdca26\"],[1.0,\"#f0f921\"]]}],\"heatmap\":[{\"type\":\"heatmap\",\"colorbar\":{\"outlinewidth\":0,\"ticks\":\"\"},\"colorscale\":[[0.0,\"#0d0887\"],[0.1111111111111111,\"#46039f\"],[0.2222222222222222,\"#7201a8\"],[0.3333333333333333,\"#9c179e\"],[0.4444444444444444,\"#bd3786\"],[0.5555555555555556,\"#d8576b\"],[0.6666666666666666,\"#ed7953\"],[0.7777777777777778,\"#fb9f3a\"],[0.8888888888888888,\"#fdca26\"],[1.0,\"#f0f921\"]]}],\"heatmapgl\":[{\"type\":\"heatmapgl\",\"colorbar\":{\"outlinewidth\":0,\"ticks\":\"\"},\"colorscale\":[[0.0,\"#0d0887\"],[0.1111111111111111,\"#46039f\"],[0.2222222222222222,\"#7201a8\"],[0.3333333333333333,\"#9c179e\"],[0.4444444444444444,\"#bd3786\"],[0.5555555555555556,\"#d8576b\"],[0.6666666666666666,\"#ed7953\"],[0.7777777777777778,\"#fb9f3a\"],[0.8888888888888888,\"#fdca26\"],[1.0,\"#f0f921\"]]}],\"contourcarpet\":[{\"type\":\"contourcarpet\",\"colorbar\":{\"outlinewidth\":0,\"ticks\":\"\"}}],\"contour\":[{\"type\":\"contour\",\"colorbar\":{\"outlinewidth\":0,\"ticks\":\"\"},\"colorscale\":[[0.0,\"#0d0887\"],[0.1111111111111111,\"#46039f\"],[0.2222222222222222,\"#7201a8\"],[0.3333333333333333,\"#9c179e\"],[0.4444444444444444,\"#bd3786\"],[0.5555555555555556,\"#d8576b\"],[0.6666666666666666,\"#ed7953\"],[0.7777777777777778,\"#fb9f3a\"],[0.8888888888888888,\"#fdca26\"],[1.0,\"#f0f921\"]]}],\"surface\":[{\"type\":\"surface\",\"colorbar\":{\"outlinewidth\":0,\"ticks\":\"\"},\"colorscale\":[[0.0,\"#0d0887\"],[0.1111111111111111,\"#46039f\"],[0.2222222222222222,\"#7201a8\"],[0.3333333333333333,\"#9c179e\"],[0.4444444444444444,\"#bd3786\"],[0.5555555555555556,\"#d8576b\"],[0.6666666666666666,\"#ed7953\"],[0.7777777777777778,\"#fb9f3a\"],[0.8888888888888888,\"#fdca26\"],[1.0,\"#f0f921\"]]}],\"mesh3d\":[{\"type\":\"mesh3d\",\"colorbar\":{\"outlinewidth\":0,\"ticks\":\"\"}}],\"scatter\":[{\"fillpattern\":{\"fillmode\":\"overlay\",\"size\":10,\"solidity\":0.2},\"type\":\"scatter\"}],\"parcoords\":[{\"type\":\"parcoords\",\"line\":{\"colorbar\":{\"outlinewidth\":0,\"ticks\":\"\"}}}],\"scatterpolargl\":[{\"type\":\"scatterpolargl\",\"marker\":{\"colorbar\":{\"outlinewidth\":0,\"ticks\":\"\"}}}],\"bar\":[{\"error_x\":{\"color\":\"#2a3f5f\"},\"error_y\":{\"color\":\"#2a3f5f\"},\"marker\":{\"line\":{\"color\":\"#E5ECF6\",\"width\":0.5},\"pattern\":{\"fillmode\":\"overlay\",\"size\":10,\"solidity\":0.2}},\"type\":\"bar\"}],\"scattergeo\":[{\"type\":\"scattergeo\",\"marker\":{\"colorbar\":{\"outlinewidth\":0,\"ticks\":\"\"}}}],\"scatterpolar\":[{\"type\":\"scatterpolar\",\"marker\":{\"colorbar\":{\"outlinewidth\":0,\"ticks\":\"\"}}}],\"histogram\":[{\"marker\":{\"pattern\":{\"fillmode\":\"overlay\",\"size\":10,\"solidity\":0.2}},\"type\":\"histogram\"}],\"scattergl\":[{\"type\":\"scattergl\",\"marker\":{\"colorbar\":{\"outlinewidth\":0,\"ticks\":\"\"}}}],\"scatter3d\":[{\"type\":\"scatter3d\",\"line\":{\"colorbar\":{\"outlinewidth\":0,\"ticks\":\"\"}},\"marker\":{\"colorbar\":{\"outlinewidth\":0,\"ticks\":\"\"}}}],\"scattermapbox\":[{\"type\":\"scattermapbox\",\"marker\":{\"colorbar\":{\"outlinewidth\":0,\"ticks\":\"\"}}}],\"scatterternary\":[{\"type\":\"scatterternary\",\"marker\":{\"colorbar\":{\"outlinewidth\":0,\"ticks\":\"\"}}}],\"scattercarpet\":[{\"type\":\"scattercarpet\",\"marker\":{\"colorbar\":{\"outlinewidth\":0,\"ticks\":\"\"}}}],\"carpet\":[{\"aaxis\":{\"endlinecolor\":\"#2a3f5f\",\"gridcolor\":\"white\",\"linecolor\":\"white\",\"minorgridcolor\":\"white\",\"startlinecolor\":\"#2a3f5f\"},\"baxis\":{\"endlinecolor\":\"#2a3f5f\",\"gridcolor\":\"white\",\"linecolor\":\"white\",\"minorgridcolor\":\"white\",\"startlinecolor\":\"#2a3f5f\"},\"type\":\"carpet\"}],\"table\":[{\"cells\":{\"fill\":{\"color\":\"#EBF0F8\"},\"line\":{\"color\":\"white\"}},\"header\":{\"fill\":{\"color\":\"#C8D4E3\"},\"line\":{\"color\":\"white\"}},\"type\":\"table\"}],\"barpolar\":[{\"marker\":{\"line\":{\"color\":\"#E5ECF6\",\"width\":0.5},\"pattern\":{\"fillmode\":\"overlay\",\"size\":10,\"solidity\":0.2}},\"type\":\"barpolar\"}],\"pie\":[{\"automargin\":true,\"type\":\"pie\"}]},\"layout\":{\"autotypenumbers\":\"strict\",\"colorway\":[\"#636efa\",\"#EF553B\",\"#00cc96\",\"#ab63fa\",\"#FFA15A\",\"#19d3f3\",\"#FF6692\",\"#B6E880\",\"#FF97FF\",\"#FECB52\"],\"font\":{\"color\":\"#2a3f5f\"},\"hovermode\":\"closest\",\"hoverlabel\":{\"align\":\"left\"},\"paper_bgcolor\":\"white\",\"plot_bgcolor\":\"#E5ECF6\",\"polar\":{\"bgcolor\":\"#E5ECF6\",\"angularaxis\":{\"gridcolor\":\"white\",\"linecolor\":\"white\",\"ticks\":\"\"},\"radialaxis\":{\"gridcolor\":\"white\",\"linecolor\":\"white\",\"ticks\":\"\"}},\"ternary\":{\"bgcolor\":\"#E5ECF6\",\"aaxis\":{\"gridcolor\":\"white\",\"linecolor\":\"white\",\"ticks\":\"\"},\"baxis\":{\"gridcolor\":\"white\",\"linecolor\":\"white\",\"ticks\":\"\"},\"caxis\":{\"gridcolor\":\"white\",\"linecolor\":\"white\",\"ticks\":\"\"}},\"coloraxis\":{\"colorbar\":{\"outlinewidth\":0,\"ticks\":\"\"}},\"colorscale\":{\"sequential\":[[0.0,\"#0d0887\"],[0.1111111111111111,\"#46039f\"],[0.2222222222222222,\"#7201a8\"],[0.3333333333333333,\"#9c179e\"],[0.4444444444444444,\"#bd3786\"],[0.5555555555555556,\"#d8576b\"],[0.6666666666666666,\"#ed7953\"],[0.7777777777777778,\"#fb9f3a\"],[0.8888888888888888,\"#fdca26\"],[1.0,\"#f0f921\"]],\"sequentialminus\":[[0.0,\"#0d0887\"],[0.1111111111111111,\"#46039f\"],[0.2222222222222222,\"#7201a8\"],[0.3333333333333333,\"#9c179e\"],[0.4444444444444444,\"#bd3786\"],[0.5555555555555556,\"#d8576b\"],[0.6666666666666666,\"#ed7953\"],[0.7777777777777778,\"#fb9f3a\"],[0.8888888888888888,\"#fdca26\"],[1.0,\"#f0f921\"]],\"diverging\":[[0,\"#8e0152\"],[0.1,\"#c51b7d\"],[0.2,\"#de77ae\"],[0.3,\"#f1b6da\"],[0.4,\"#fde0ef\"],[0.5,\"#f7f7f7\"],[0.6,\"#e6f5d0\"],[0.7,\"#b8e186\"],[0.8,\"#7fbc41\"],[0.9,\"#4d9221\"],[1,\"#276419\"]]},\"xaxis\":{\"gridcolor\":\"white\",\"linecolor\":\"white\",\"ticks\":\"\",\"title\":{\"standoff\":15},\"zerolinecolor\":\"white\",\"automargin\":true,\"zerolinewidth\":2},\"yaxis\":{\"gridcolor\":\"white\",\"linecolor\":\"white\",\"ticks\":\"\",\"title\":{\"standoff\":15},\"zerolinecolor\":\"white\",\"automargin\":true,\"zerolinewidth\":2},\"scene\":{\"xaxis\":{\"backgroundcolor\":\"#E5ECF6\",\"gridcolor\":\"white\",\"linecolor\":\"white\",\"showbackground\":true,\"ticks\":\"\",\"zerolinecolor\":\"white\",\"gridwidth\":2},\"yaxis\":{\"backgroundcolor\":\"#E5ECF6\",\"gridcolor\":\"white\",\"linecolor\":\"white\",\"showbackground\":true,\"ticks\":\"\",\"zerolinecolor\":\"white\",\"gridwidth\":2},\"zaxis\":{\"backgroundcolor\":\"#E5ECF6\",\"gridcolor\":\"white\",\"linecolor\":\"white\",\"showbackground\":true,\"ticks\":\"\",\"zerolinecolor\":\"white\",\"gridwidth\":2}},\"shapedefaults\":{\"line\":{\"color\":\"#2a3f5f\"}},\"annotationdefaults\":{\"arrowcolor\":\"#2a3f5f\",\"arrowhead\":0,\"arrowwidth\":1},\"geo\":{\"bgcolor\":\"white\",\"landcolor\":\"#E5ECF6\",\"subunitcolor\":\"white\",\"showland\":true,\"showlakes\":true,\"lakecolor\":\"white\"},\"title\":{\"x\":0.05},\"mapbox\":{\"style\":\"light\"}}},\"xaxis\":{\"anchor\":\"y\",\"domain\":[0.0,1.0]},\"yaxis\":{\"anchor\":\"x\",\"domain\":[0.0,1.0],\"title\":{\"text\":\"Charge KWh\"}},\"legend\":{\"tracegroupgap\":0},\"margin\":{\"t\":60},\"boxmode\":\"group\",\"width\":800,\"height\":800},                        {\"responsive\": true}                    ).then(function(){\n",
              "                            \n",
              "var gd = document.getElementById('fd358734-2c41-451c-b7a9-909e0553c205');\n",
              "var x = new MutationObserver(function (mutations, observer) {{\n",
              "        var display = window.getComputedStyle(gd).display;\n",
              "        if (!display || display === 'none') {{\n",
              "            console.log([gd, 'removed!']);\n",
              "            Plotly.purge(gd);\n",
              "            observer.disconnect();\n",
              "        }}\n",
              "}});\n",
              "\n",
              "// Listen for the removal of the full notebook cells\n",
              "var notebookContainer = gd.closest('#notebook-container');\n",
              "if (notebookContainer) {{\n",
              "    x.observe(notebookContainer, {childList: true});\n",
              "}}\n",
              "\n",
              "// Listen for the clearing of the current output cell\n",
              "var outputEl = gd.closest('.output');\n",
              "if (outputEl) {{\n",
              "    x.observe(outputEl, {childList: true});\n",
              "}}\n",
              "\n",
              "                        })                };                            </script>        </div>\n",
              "</body>\n",
              "</html>"
            ]
          },
          "metadata": {}
        }
      ]
    },
    {
      "cell_type": "code",
      "source": [
        "datalog_corr.info()"
      ],
      "metadata": {
        "colab": {
          "base_uri": "https://localhost:8080/"
        },
        "id": "f3vtRtFnj22e",
        "outputId": "5af55993-bcf2-4643-b866-c5fc70c42931"
      },
      "execution_count": 33,
      "outputs": [
        {
          "output_type": "stream",
          "name": "stdout",
          "text": [
            "<class 'pandas.core.frame.DataFrame'>\n",
            "Index: 6 entries, Days Ago to Charge KWh\n",
            "Data columns (total 6 columns):\n",
            " #   Column                  Non-Null Count  Dtype  \n",
            "---  ------                  --------------  -----  \n",
            " 0   Days Ago                6 non-null      float64\n",
            " 1   Min Battery Volt.(V)    6 non-null      float64\n",
            " 2   Max Discharge Curr.(A)  6 non-null      float64\n",
            " 3   Max Discharge Power(W)  6 non-null      float64\n",
            " 4   Discharge Ah            6 non-null      float64\n",
            " 5   Charge KWh              6 non-null      float64\n",
            "dtypes: float64(6)\n",
            "memory usage: 508.0+ bytes\n"
          ]
        }
      ]
    },
    {
      "cell_type": "markdown",
      "source": [
        "## Usando gráficos Seanborn \"sns\""
      ],
      "metadata": {
        "id": "yCZSIfGrtsK7"
      }
    },
    {
      "cell_type": "code",
      "source": [
        "sns.pairplot(data)"
      ],
      "metadata": {
        "id": "L0n_rIu1wDUs",
        "colab": {
          "base_uri": "https://localhost:8080/",
          "height": 1000
        },
        "outputId": "2a837112-e6f6-4bb8-96f1-65f4ed68e041"
      },
      "execution_count": 34,
      "outputs": [
        {
          "output_type": "execute_result",
          "data": {
            "text/plain": [
              "<seaborn.axisgrid.PairGrid at 0x7f685887c970>"
            ]
          },
          "metadata": {},
          "execution_count": 34
        },
        {
          "output_type": "display_data",
          "data": {
            "text/plain": [
              "<Figure size 1500x1500 with 42 Axes>"
            ],
            "image/png": "[encoded data removed]"
          },
          "metadata": {}
        }
      ]
    },
    {
      "cell_type": "code",
      "source": [
        "# estatistica descritivas de outras variáveis\n",
        "data[['Min Battery Volt.(V)','Min Battery Volt.(V)','Max Discharge Curr.(A)','Max Discharge Power(W)','Discharge Ah']].describe()"
      ],
      "metadata": {
        "id": "ihjAR-3tjYS3",
        "colab": {
          "base_uri": "https://localhost:8080/",
          "height": 300
        },
        "outputId": "a1a470dd-9a2f-41e8-fad7-261355ecbde8"
      },
      "execution_count": 35,
      "outputs": [
        {
          "output_type": "execute_result",
          "data": {
            "text/plain": [
              "       Min Battery Volt.(V)  Min Battery Volt.(V)  Max Discharge Curr.(A)  \\\n",
              "count             59.000000             59.000000               59.000000   \n",
              "mean              51.118644             51.118644              786.881356   \n",
              "std               28.656157             28.656157              299.664933   \n",
              "min                4.000000              4.000000                1.000000   \n",
              "25%               26.000000             26.000000              689.000000   \n",
              "50%               53.000000             53.000000              887.000000   \n",
              "75%               77.000000             77.000000              995.000000   \n",
              "max               95.000000             95.000000             1238.000000   \n",
              "\n",
              "       Max Discharge Power(W)  Discharge Ah  \n",
              "count               59.000000     59.000000  \n",
              "mean                89.237288      1.983051  \n",
              "std                 44.740762      1.224626  \n",
              "min                  0.000000      0.000000  \n",
              "25%                 58.000000      1.000000  \n",
              "50%                103.000000      2.000000  \n",
              "75%                122.000000      3.000000  \n",
              "max                154.000000      4.000000  "
            ],
            "text/html": [
              "\n",
              "  <div id=\"df-91edb0d9-a685-4ccd-8983-cefa854bbc7b\">\n",
              "    <div class=\"colab-df-container\">\n",
              "      <div>\n",
              "<style scoped>\n",
              "    .dataframe tbody tr th:only-of-type {\n",
              "        vertical-align: middle;\n",
              "    }\n",
              "\n",
              "    .dataframe tbody tr th {\n",
              "        vertical-align: top;\n",
              "    }\n",
              "\n",
              "    .dataframe thead th {\n",
              "        text-align: right;\n",
              "    }\n",
              "</style>\n",
              "<table border=\"1\" class=\"dataframe\">\n",
              "  <thead>\n",
              "    <tr style=\"text-align: right;\">\n",
              "      <th></th>\n",
              "      <th>Min Battery Volt.(V)</th>\n",
              "      <th>Min Battery Volt.(V)</th>\n",
              "      <th>Max Discharge Curr.(A)</th>\n",
              "      <th>Max Discharge Power(W)</th>\n",
              "      <th>Discharge Ah</th>\n",
              "    </tr>\n",
              "  </thead>\n",
              "  <tbody>\n",
              "    <tr>\n",
              "      <th>count</th>\n",
              "      <td>59.000000</td>\n",
              "      <td>59.000000</td>\n",
              "      <td>59.000000</td>\n",
              "      <td>59.000000</td>\n",
              "      <td>59.000000</td>\n",
              "    </tr>\n",
              "    <tr>\n",
              "      <th>mean</th>\n",
              "      <td>51.118644</td>\n",
              "      <td>51.118644</td>\n",
              "      <td>786.881356</td>\n",
              "      <td>89.237288</td>\n",
              "      <td>1.983051</td>\n",
              "    </tr>\n",
              "    <tr>\n",
              "      <th>std</th>\n",
              "      <td>28.656157</td>\n",
              "      <td>28.656157</td>\n",
              "      <td>299.664933</td>\n",
              "      <td>44.740762</td>\n",
              "      <td>1.224626</td>\n",
              "    </tr>\n",
              "    <tr>\n",
              "      <th>min</th>\n",
              "      <td>4.000000</td>\n",
              "      <td>4.000000</td>\n",
              "      <td>1.000000</td>\n",
              "      <td>0.000000</td>\n",
              "      <td>0.000000</td>\n",
              "    </tr>\n",
              "    <tr>\n",
              "      <th>25%</th>\n",
              "      <td>26.000000</td>\n",
              "      <td>26.000000</td>\n",
              "      <td>689.000000</td>\n",
              "      <td>58.000000</td>\n",
              "      <td>1.000000</td>\n",
              "    </tr>\n",
              "    <tr>\n",
              "      <th>50%</th>\n",
              "      <td>53.000000</td>\n",
              "      <td>53.000000</td>\n",
              "      <td>887.000000</td>\n",
              "      <td>103.000000</td>\n",
              "      <td>2.000000</td>\n",
              "    </tr>\n",
              "    <tr>\n",
              "      <th>75%</th>\n",
              "      <td>77.000000</td>\n",
              "      <td>77.000000</td>\n",
              "      <td>995.000000</td>\n",
              "      <td>122.000000</td>\n",
              "      <td>3.000000</td>\n",
              "    </tr>\n",
              "    <tr>\n",
              "      <th>max</th>\n",
              "      <td>95.000000</td>\n",
              "      <td>95.000000</td>\n",
              "      <td>1238.000000</td>\n",
              "      <td>154.000000</td>\n",
              "      <td>4.000000</td>\n",
              "    </tr>\n",
              "  </tbody>\n",
              "</table>\n",
              "</div>\n",
              "      <button class=\"colab-df-convert\" onclick=\"convertToInteractive('df-91edb0d9-a685-4ccd-8983-cefa854bbc7b')\"\n",
              "              title=\"Convert this dataframe to an interactive table.\"\n",
              "              style=\"display:none;\">\n",
              "        \n",
              "  <svg xmlns=\"http://www.w3.org/2000/svg\" height=\"24px\"viewBox=\"0 0 24 24\"\n",
              "       width=\"24px\">\n",
              "    <path d=\"M0 0h24v24H0V0z\" fill=\"none\"/>\n",
              "    <path d=\"M18.56 5.44l.94 2.06.94-2.06 2.06-.94-2.06-.94-.94-2.06-.94 2.06-2.06.94zm-11 1L8.5 8.5l.94-2.06 2.06-.94-2.06-.94L8.5 2.5l-.94 2.06-2.06.94zm10 10l.94 2.06.94-2.06 2.06-.94-2.06-.94-.94-2.06-.94 2.06-2.06.94z\"/><path d=\"M17.41 7.96l-1.37-1.37c-.4-.4-.92-.59-1.43-.59-.52 0-1.04.2-1.43.59L10.3 9.45l-7.72 7.72c-.78.78-.78 2.05 0 2.83L4 21.41c.39.39.9.59 1.41.59.51 0 1.02-.2 1.41-.59l7.78-7.78 2.81-2.81c.8-.78.8-2.07 0-2.86zM5.41 20L4 18.59l7.72-7.72 1.47 1.35L5.41 20z\"/>\n",
              "  </svg>\n",
              "      </button>\n",
              "      \n",
              "  <style>\n",
              "    .colab-df-container {\n",
              "      display:flex;\n",
              "      flex-wrap:wrap;\n",
              "      gap: 12px;\n",
              "    }\n",
              "\n",
              "    .colab-df-convert {\n",
              "      background-color: #E8F0FE;\n",
              "      border: none;\n",
              "      border-radius: 50%;\n",
              "      cursor: pointer;\n",
              "      display: none;\n",
              "      fill: #1967D2;\n",
              "      height: 32px;\n",
              "      padding: 0 0 0 0;\n",
              "      width: 32px;\n",
              "    }\n",
              "\n",
              "    .colab-df-convert:hover {\n",
              "      background-color: #E2EBFA;\n",
              "      box-shadow: 0px 1px 2px rgba(60, 64, 67, 0.3), 0px 1px 3px 1px rgba(60, 64, 67, 0.15);\n",
              "      fill: #174EA6;\n",
              "    }\n",
              "\n",
              "    [theme=dark] .colab-df-convert {\n",
              "      background-color: #3B4455;\n",
              "      fill: #D2E3FC;\n",
              "    }\n",
              "\n",
              "    [theme=dark] .colab-df-convert:hover {\n",
              "      background-color: #434B5C;\n",
              "      box-shadow: 0px 1px 3px 1px rgba(0, 0, 0, 0.15);\n",
              "      filter: drop-shadow(0px 1px 2px rgba(0, 0, 0, 0.3));\n",
              "      fill: #FFFFFF;\n",
              "    }\n",
              "  </style>\n",
              "\n",
              "      <script>\n",
              "        const buttonEl =\n",
              "          document.querySelector('#df-91edb0d9-a685-4ccd-8983-cefa854bbc7b button.colab-df-convert');\n",
              "        buttonEl.style.display =\n",
              "          google.colab.kernel.accessAllowed ? 'block' : 'none';\n",
              "\n",
              "        async function convertToInteractive(key) {\n",
              "          const element = document.querySelector('#df-91edb0d9-a685-4ccd-8983-cefa854bbc7b');\n",
              "          const dataTable =\n",
              "            await google.colab.kernel.invokeFunction('convertToInteractive',\n",
              "                                                     [key], {});\n",
              "          if (!dataTable) return;\n",
              "\n",
              "          const docLinkHtml = 'Like what you see? Visit the ' +\n",
              "            '<a target=\"_blank\" href=https://colab.research.google.com/notebooks/data_table.ipynb>data table notebook</a>'\n",
              "            + ' to learn more about interactive tables.';\n",
              "          element.innerHTML = '';\n",
              "          dataTable['output_type'] = 'display_data';\n",
              "          await google.colab.output.renderOutput(dataTable, element);\n",
              "          const docLink = document.createElement('div');\n",
              "          docLink.innerHTML = docLinkHtml;\n",
              "          element.appendChild(docLink);\n",
              "        }\n",
              "      </script>\n",
              "    </div>\n",
              "  </div>\n",
              "  "
            ]
          },
          "metadata": {},
          "execution_count": 35
        }
      ]
    },
    {
      "cell_type": "markdown",
      "source": [
        "# **Pré_Processamento de dados do dataset da bateria**\n"
      ],
      "metadata": {
        "id": "8qMkJAKnk1Kn"
      }
    },
    {
      "cell_type": "markdown",
      "source": [
        "### Importando Bibliotecas"
      ],
      "metadata": {
        "id": "CQLxsglFplUw"
      }
    },
    {
      "cell_type": "code",
      "source": [
        "# Importando bibliotecas\n",
        "from sklearn.model_selection import KFold\n",
        "from sklearn.model_selection import cross_val_score\n",
        "from sklearn.linear_model import LogisticRegression\n",
        "from sklearn.preprocessing import MinMaxScaler\n",
        "from sklearn.preprocessing import StandardScaler\n",
        "import warnings\n",
        "warnings.filterwarnings('ignore')\n"
      ],
      "metadata": {
        "id": "sfaayER1wbDG"
      },
      "execution_count": 64,
      "outputs": []
    },
    {
      "cell_type": "code",
      "source": [
        "array = data.values"
      ],
      "metadata": {
        "id": "PT66KX9P3djr"
      },
      "execution_count": 65,
      "outputs": []
    },
    {
      "cell_type": "code",
      "source": [
        "#  Separando o array em componentes de input e output\n",
        "X = array[:,0:3]\n",
        "Y = array[:,5]\n"
      ],
      "metadata": {
        "id": "KgZJylTzwl8v"
      },
      "execution_count": 66,
      "outputs": []
    },
    {
      "cell_type": "code",
      "source": [
        "X"
      ],
      "metadata": {
        "id": "oafOIuXq4Rff"
      },
      "execution_count": null,
      "outputs": []
    },
    {
      "cell_type": "markdown",
      "source": [
        "### Pré Processamento com Padronizão\n",
        "\n"
      ],
      "metadata": {
        "id": "zlR8_FaewRYx"
      }
    },
    {
      "cell_type": "code",
      "source": [
        "# Gerando o novo padrão\n",
        "scaler = StandardScaler().fit(X)\n",
        "standardX = scaler.transform(X)"
      ],
      "metadata": {
        "id": "guLfrKzBhqmb"
      },
      "execution_count": 78,
      "outputs": []
    },
    {
      "cell_type": "code",
      "source": [
        "standardX"
      ],
      "metadata": {
        "id": "L_Eh0hp0Tkk6"
      },
      "execution_count": null,
      "outputs": []
    },
    {
      "cell_type": "markdown",
      "source": [
        "### Pré Processamento com Normalização"
      ],
      "metadata": {
        "id": "mRzZRZXD4F4G"
      }
    },
    {
      "cell_type": "code",
      "source": [
        "# Gerando a nova escala (normalizando os dados)\n",
        "scaler = MinMaxScaler(feature_range = (0, 1))\n",
        "rescaledX = scaler.fit_transform(X)\n"
      ],
      "metadata": {
        "id": "Q75UEQ3X4dHa"
      },
      "execution_count": 71,
      "outputs": []
    },
    {
      "cell_type": "code",
      "source": [
        "rescaledX"
      ],
      "metadata": {
        "id": "-zSlRGYG4l2A"
      },
      "execution_count": null,
      "outputs": []
    },
    {
      "cell_type": "markdown",
      "source": [
        "### Separando dados  para regressão linear Multinear\n"
      ],
      "metadata": {
        "id": "su0s1nIH5TIR"
      }
    },
    {
      "cell_type": "code",
      "source": [
        "# Coletando x e y\n",
        "# Usaremos como variáveis explanatórias somente as 4 variáveis mais relevantes\n",
        "X = datalog_base[['Charge KWh','Max Discharge Power(W)','Max Discharge Curr.(A)']]\n",
        "y = datalog_base['Days Ago'].values"
      ],
      "metadata": {
        "id": "VKHWAv4rIPkn"
      },
      "execution_count": 86,
      "outputs": []
    },
    {
      "cell_type": "code",
      "source": [
        "#Realizar a separação dos dados dataset entre 80% treino e e 20% para validação.\n",
        "\n",
        "X_train, X_test, y_train, y_test = train_test_split(X, y, test_size=0.2, random_state=7)"
      ],
      "metadata": {
        "id": "jwlEWZaSid1T"
      },
      "execution_count": 87,
      "outputs": []
    },
    {
      "cell_type": "markdown",
      "source": [
        "# **Criação da Máquina preditiva**\n",
        "\n",
        "\n"
      ],
      "metadata": {
        "id": "hffWT4AQl1Hw"
      }
    },
    {
      "cell_type": "markdown",
      "source": [
        "### Criando um modelo de maquina preditiva de regressão múltipla"
      ],
      "metadata": {
        "id": "SLyUmyT06KDF"
      }
    },
    {
      "cell_type": "code",
      "source": [
        "#Construindo o modelo de Regreção mútipla\n",
        "model = LinearRegression()\n"
      ],
      "metadata": {
        "id": "g3pCBRpkl5PP"
      },
      "execution_count": 80,
      "outputs": []
    },
    {
      "cell_type": "code",
      "source": [
        "#Treina o modelo\n",
        "model_multi = model.fit(X_train, y_train)"
      ],
      "metadata": {
        "id": "TWVQqdA-KU29"
      },
      "execution_count": 88,
      "outputs": []
    },
    {
      "cell_type": "code",
      "source": [
        "# Novas Previsões\n",
        "prevision = model_multi.predict(X_test)\n",
        "prevision"
      ],
      "metadata": {
        "colab": {
          "base_uri": "https://localhost:8080/"
        },
        "id": "jFmZPNnumYdj",
        "outputId": "14425382-4ce3-455a-952c-b29807d15740"
      },
      "execution_count": 91,
      "outputs": [
        {
          "output_type": "execute_result",
          "data": {
            "text/plain": [
              "array([32.99605622, 23.54663889, -0.60599468, 41.94233444, 36.79911596,\n",
              "       34.72978294, 37.54631734, 17.07585025, 22.5475437 , 35.2608156 ,\n",
              "       35.94766434, 32.70730601])"
            ]
          },
          "metadata": {},
          "execution_count": 91
        }
      ]
    },
    {
      "cell_type": "markdown",
      "source": [
        "### Criando um modelo de máquina preditiva usando Regressão logistica"
      ],
      "metadata": {
        "id": "tR6xaXEr6boK"
      }
    },
    {
      "cell_type": "code",
      "source": [
        "# Definindo os valores para o número de folds\n",
        "num_folds = 5\n",
        "random_state = 5\n",
        "\n",
        "kfold = KFold(n_splits=num_folds, shuffle=True, random_state=random_state)"
      ],
      "metadata": {
        "id": "VTXWN2YAIvaQ"
      },
      "execution_count": 73,
      "outputs": []
    },
    {
      "cell_type": "code",
      "source": [
        "# Criando um modelo com Regreçaõ Logistica\n",
        "model_regressionlogistic = LogisticRegression()"
      ],
      "metadata": {
        "id": "cMm0rmbz7E5f"
      },
      "execution_count": 74,
      "outputs": []
    },
    {
      "cell_type": "code",
      "source": [
        "# Validação Cruzada com normalização (Cross Validation / standardX)\n",
        "\n",
        "result = cross_val_score(model_regressionlogistic,standardX, Y, cv= kfold)\n"
      ],
      "metadata": {
        "id": "wgAN3uJK7QnY"
      },
      "execution_count": 75,
      "outputs": []
    },
    {
      "cell_type": "code",
      "source": [
        "result = cross_val_score(model_regressionlogistic,rescaledX, Y, cv= kfold)"
      ],
      "metadata": {
        "id": "el1QJjEz42Lp"
      },
      "execution_count": 76,
      "outputs": []
    },
    {
      "cell_type": "markdown",
      "source": [
        "# Avaliando o desempenho da máquina preditiva Simples e Multipla"
      ],
      "metadata": {
        "id": "SnCdKfJmnr9E"
      }
    },
    {
      "cell_type": "markdown",
      "source": [
        "### *Regressão Simples e Multipla*"
      ],
      "metadata": {
        "id": "uoOEnWPC8Opv"
      }
    },
    {
      "cell_type": "code",
      "source": [
        "# Calcula a métrica R2 do nosso modelo\n",
        "r2_score(y_test,prevision )"
      ],
      "metadata": {
        "colab": {
          "base_uri": "https://localhost:8080/"
        },
        "id": "BgRGDHsJK2_p",
        "outputId": "7b0169ab-f4ab-434c-f707-72439a073ceb"
      },
      "execution_count": 92,
      "outputs": [
        {
          "output_type": "execute_result",
          "data": {
            "text/plain": [
              "0.996878870000148"
            ]
          },
          "metadata": {},
          "execution_count": 92
        }
      ]
    },
    {
      "cell_type": "code",
      "source": [
        "# Compara valor real e valor predito\n",
        "saturacao_predita = pd.DataFrame({'Real': y_test.flatten(), 'Saturacao':prevision.flatten()})\n",
        "saturacao_predita.sample(5)"
      ],
      "metadata": {
        "id": "H7bo4YT9UYUX"
      },
      "execution_count": null,
      "outputs": []
    },
    {
      "cell_type": "code",
      "source": [
        "# Evaluate model - Avaliação da Acurácia do Modelo\n",
        "print('Acurácia: %.2f' % (model.score(X_test, y_test)*100), '%' )"
      ],
      "metadata": {
        "colab": {
          "base_uri": "https://localhost:8080/"
        },
        "id": "94bSCDfgU5df",
        "outputId": "303cfa5c-6142-48a3-d95b-cbd42b1a6678"
      },
      "execution_count": null,
      "outputs": [
        {
          "output_type": "stream",
          "name": "stdout",
          "text": [
            "Acurácia: 99.69 %\n"
          ]
        }
      ]
    },
    {
      "cell_type": "code",
      "source": [
        "plt.figure()\n",
        "fig,ax1=plt.subplots()\n",
        "ax2=ax1.twinx()\n",
        "ax1.bar(saturacao_predita.index,saturacao_predita['Saturacao'])\n",
        "plt.xticks(rotation=90)\n",
        "ax2.plot(saturacao_predita.index,saturacao_predita['Real'],color='r')\n",
        "plt.show()"
      ],
      "metadata": {
        "colab": {
          "base_uri": "https://localhost:8080/",
          "height": 447
        },
        "id": "wSgeX2InV3zN",
        "outputId": "fd7ac154-efd1-4f23-f669-57a51da0f995"
      },
      "execution_count": null,
      "outputs": [
        {
          "output_type": "display_data",
          "data": {
            "text/plain": [
              "<Figure size 640x480 with 0 Axes>"
            ]
          },
          "metadata": {}
        },
        {
          "output_type": "display_data",
          "data": {
            "text/plain": [
              "<Figure size 640x480 with 2 Axes>"
            ],
            "image/png": "[encoded data removed]"
          },
          "metadata": {}
        }
      ]
    },
    {
      "cell_type": "markdown",
      "source": [
        "## *Regressão Logistica*\n",
        "\n",
        "*** Não é muito recomendado ***"
      ],
      "metadata": {
        "id": "Ap7EBhjk8XJa"
      }
    },
    {
      "cell_type": "code",
      "source": [
        "# Print do resultado\n",
        "print(\"Acurácia: %.3f\" % (result.mean() * 100))"
      ],
      "metadata": {
        "colab": {
          "base_uri": "https://localhost:8080/"
        },
        "id": "Iz6nw_PZ8mW8",
        "outputId": "c1c8543d-7d86-4f92-e5b4-070e7b32d091"
      },
      "execution_count": 77,
      "outputs": [
        {
          "output_type": "stream",
          "name": "stdout",
          "text": [
            "Acurácia: 3.333\n"
          ]
        }
      ]
    },
    {
      "cell_type": "markdown",
      "source": [
        "# Decorrente a correlação entre ciclos de cargas mais as variáveis\n",
        "Charge KWh\n",
        "Max Discharge Power(W)\n",
        "Max Discharge Curr.(A)\n",
        "Pode se dizer que a bateria saturou por alguma ocasião no ciclo 02;\n",
        "Havendo uma previsão de falha no sétimo ciclo, sendo que uma ação corretiva foi realizada para conter a descarga profunda da bateria."
      ],
      "metadata": {
        "id": "qxIrz7ogW0bt"
      }
    },
    {
      "cell_type": "markdown",
      "source": [
        "# SALVANDO DADOS EM EXCEL PARA AVALIAR EM PLANILHA.\n"
      ],
      "metadata": {
        "id": "R2biRsDpbSUz"
      }
    },
    {
      "cell_type": "code",
      "source": [
        "dataframe_excel = pd.ExcelWriter(r'/content/drive/MyDrive/CURSO EAD/PROGRAMACAO/PYTHON/CIENICA DE DADOS/ESTUDO DE CASO/BATTERY_LIFE/data.xlsx')\n",
        "data.to_excel(dataframe_excel)\n",
        "dataframe_excel.save()\n",
        "\n"
      ],
      "metadata": {
        "id": "VGsNoHRBcfgN"
      },
      "execution_count": null,
      "outputs": []
    }
  ]
}